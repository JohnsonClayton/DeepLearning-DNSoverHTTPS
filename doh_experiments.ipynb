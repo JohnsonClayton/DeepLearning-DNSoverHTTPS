{
  "nbformat": 4,
  "nbformat_minor": 0,
  "metadata": {
    "colab": {
      "name": "doh_experiments.ipynb",
      "provenance": [],
      "collapsed_sections": []
    },
    "kernelspec": {
      "name": "python3",
      "display_name": "Python 3"
    },
    "accelerator": "GPU"
  },
  "cells": [
    {
      "cell_type": "markdown",
      "metadata": {
        "id": "AZu86kpZXYSL",
        "colab_type": "text"
      },
      "source": [
        "# DNS over HTTPS Experiments\n",
        "This notebook serves to run all the experiments for our work on the CIRA-CIC-DoHBrw-2020 dataset. This notebook will train and validate 9 machine learning models and 2 deep learning models. Additionally, the experiments will determine how the performance of these models changes as we increase the size of the feature set."
      ]
    },
    {
      "cell_type": "code",
      "metadata": {
        "id": "HXTulVCwXKYz",
        "colab_type": "code",
        "colab": {
          "base_uri": "https://localhost:8080/",
          "height": 34
        },
        "outputId": "941b57cf-48f9-4953-8e1e-16b876111c39"
      },
      "source": [
        "# Import the dataset saved on the google drive\n",
        "from google.colab import drive\n",
        "\n",
        "# Graphing capabilities\n",
        "import matplotlib.pyplot as plt\n",
        "\n",
        "# Data management\n",
        "import pandas as pd\n",
        "import numpy as np\n",
        "\n",
        "# For stratified 10-fold cross validation\n",
        "from sklearn.model_selection import StratifiedKFold\n",
        "\n",
        "# Scikit-Learn ML Models\n",
        "from sklearn.ensemble import RandomForestClassifier\n",
        "from sklearn.tree import DecisionTreeClassifier\n",
        "from sklearn.neighbors import KNeighborsClassifier\n",
        "from sklearn.svm import SVC\n",
        "from sklearn.linear_model import LogisticRegression\n",
        "from sklearn.discriminant_analysis import LinearDiscriminantAnalysis\n",
        "from sklearn.ensemble import AdaBoostClassifier\n",
        "from sklearn.naive_bayes import GaussianNB\n",
        "\n",
        "# Keras-TensorFlow DNN Model\n",
        "from keras.models import Sequential\n",
        "from keras.layers import BatchNormalization, Dense, Dropout\n",
        "from keras.regularizers import l2\n",
        "\n",
        "# Fast.ai DNN Model\n",
        "from fastai.tabular import *\n",
        "\n",
        "# Normalization\n",
        "from keras.utils import normalize, to_categorical\n",
        "\n",
        "print('Imports complete.')"
      ],
      "execution_count": 1,
      "outputs": [
        {
          "output_type": "stream",
          "text": [
            "Imports complete.\n"
          ],
          "name": "stdout"
        }
      ]
    },
    {
      "cell_type": "code",
      "metadata": {
        "id": "Iv30p0jtXQpd",
        "colab_type": "code",
        "colab": {}
      },
      "source": [
        "def train_and_eval_on(X, y, feature_set):\n",
        "    \"\"\"\n",
        "    train_and_eval_on function\n",
        "        Description: This function will train all the models on the given feature set of the X (data) for predicting y (target)\n",
        "\n",
        "        Args: \n",
        "            X => pd.DataFrame object containing the data\n",
        "            y => pd.Series object containings the target classifications\n",
        "            feature_set => list of features in X to use for training\n",
        "\n",
        "        Returns:\n",
        "            metrics => dictionary where the model names are the key and a list of accuracies across all folds is the value\n",
        "                    Keys:\n",
        "                        Random Forest => rf\n",
        "                        Decision Tree => dt\n",
        "                        k-Nearest Neighbors => knn\n",
        "                        Support Vector Machine => svm\n",
        "                        Logistic Regression => lr\n",
        "                        Linear Discriminant Analysis => lda\n",
        "                        AdaBoost => ab\n",
        "                        Naive Bayes => nb\n",
        "                        Keras-TensorFlow => keras\n",
        "                        Fast.ai => fastai\n",
        "    \"\"\"\n",
        "    metrics = {'rf':[],\n",
        "                'dt':[],\n",
        "                'knn':[],\n",
        "                'svm':[],\n",
        "                'lr':[],\n",
        "                'lda':[],\n",
        "                'ab':[],\n",
        "                'nb':[],\n",
        "                'keras':[],\n",
        "                'fastai':[]}\n",
        "\n",
        "    # Select the given features within the data\n",
        "    X = X[feature_set]\n",
        "\n",
        "    print('Training with {} features'.format(len(X.columns)))\n",
        "\n",
        "    # Create stratified, 10-fold cross validation object\n",
        "    random_state = 0\n",
        "    sss = StratifiedKFold(n_splits=10, shuffle=True, random_state=random_state)\n",
        "\n",
        "    i=1\n",
        "\n",
        "    # Experiment with 10-fold cross validation\n",
        "    for train_idx, test_idx in sss.split(X, y):\n",
        "\n",
        "        print('fold num {}'.format(i))\n",
        "        i+=1\n",
        "\n",
        "        # Split the data into the training and testing sets\n",
        "        print('splitting data')\n",
        "        X_train, X_test = X.iloc[train_idx], X.iloc[test_idx]\n",
        "        y_train, y_test = y.iloc[train_idx], y.iloc[test_idx]\n",
        "        \n",
        "        # Random Forest Model\n",
        "        print('creating rf')\n",
        "        rf = RandomForestClassifier(random_state=random_state)\n",
        "        print('fitting rf')\n",
        "        rf.fit(X_train, y_train)\n",
        "        print('scoring rf')\n",
        "        score = rf.score(X_test, y_test)\n",
        "        metrics['rf'].append(score)\n",
        "\n",
        "        \"\"\"# Decision Tree Model\n",
        "        dt = DecisionTreeClassifier(random_state=random_state)\n",
        "        dt.fit(X_train, y_train)\n",
        "        score = dt.score(X_test, y_test)\n",
        "        metrics['dt'].append(score)\n",
        "\n",
        "        # k-Nearest Neighbors Model\n",
        "        knn = KNeighborsClassifier()\n",
        "        knn.fit(X_train, y_train)\n",
        "        score = knn.score(X_test, y_test)\n",
        "        metrics['knn'].append(score)\n",
        "\n",
        "        # Support Vector Machine Model\n",
        "        svm = SVC(random_state=random_state)\n",
        "        svm.fit(X_train, y_train)\n",
        "        score = svm.score(X_test, y_test)\n",
        "        metrics['svm'].append(score)\n",
        "\n",
        "        # Logistic Regression Model\n",
        "        lr = LogisticRegression(random_state=random_state)\n",
        "        lr.fit(X_train, y_train)\n",
        "        score = lr.score(X_test, y_test)\n",
        "        metrics['lr'].append(score)\n",
        "\n",
        "        # Linear Discriminant Analysis Model\n",
        "        lda = LinearDiscriminantAnalysis()\n",
        "        lda.fit(X_train, y_train)\n",
        "        score = lda.score(X_test, y_test)\n",
        "        metrics['lda'].append(score)\n",
        "\n",
        "        # AdaBoost Model\n",
        "        ab = AdaBoostClassifier(random_state=random_state)\n",
        "        ab.fit(X_train, y_train)\n",
        "        score = ab.score(X_test, y_test)\n",
        "        metrics['ab'].append(score)\n",
        "\n",
        "        # Naive Bayes Model\n",
        "        nb = GaussianNB()\n",
        "        nb.fit(X_train, y_train)\n",
        "        score = nb.score(X_test, y_test)\n",
        "        metrics['nb'].append(score)\n",
        "\n",
        "        # Keras-TensorFlow DNN Model\n",
        "        dnn_keras = Sequential(layers=[\n",
        "                                 Dense(128, kernel_regularizer=l2(0.001), activation='relu',input_shape=(len(X_train.columns),)),\n",
        "                                 BatchNormalization(),\n",
        "                                 Dense(64, activation='relu', kernel_regularizer=l2(0.001)),\n",
        "                                 BatchNormalization(),\n",
        "                                 Dense(y_train.nunique(), activation='softmax')\n",
        "        ])\n",
        "        dnn_keras.compile(\n",
        "            optimizer='adam', \n",
        "            loss='categorical_crossentropy', \n",
        "            metrics=['accuracy'])\n",
        "        dnn_keras.fit(X_train, pd.get_dummies(y_train), epochs=100, verbose=0, batch_size=512)\n",
        "        _, score = dnn_keras.evaluate(X_test, pd.get_dummies(y_test), verbose=0)\n",
        "        metrics['keras'].append(score)\n",
        "\n",
        "        # Fast.ai DNN Model\n",
        "        data_fold = (TabularList.from_df(df, path=path, cont_names=X_train.columns, procs=[Categorify, Normalize])\n",
        "                     .split_by_idxs(train_idx, test_idx)\n",
        "                     .label_from_df(cols=dep_var)\n",
        "                     .databunch(num_workers=0))\n",
        "        dnn_fastai = tabular_learner(data_fold, layers=[200, 100], metrics=accuracy)\n",
        "        dnn_fastai.fit_one_cycle(cyc_len=10, callbacks=None)\n",
        "        _, score = dnn_fastai.validate()\n",
        "        metrics['fastai'].append(score)\"\"\"\n",
        "\n",
        "    return metrics"
      ],
      "execution_count": 2,
      "outputs": []
    },
    {
      "cell_type": "code",
      "metadata": {
        "id": "gNtzSH3nX-rW",
        "colab_type": "code",
        "colab": {}
      },
      "source": [
        "def show_graph(figure, feature_count, metrics_dict, exp_type=''):\n",
        "  \"\"\"\n",
        "  show_graph function\n",
        "\n",
        "    Description: This function will take the metrics dictionary provided and update the graph already to show the most recent results\n",
        "\n",
        "    Args:\n",
        "      figure => matplotlib.pyplot.figure object\n",
        "      metrics_dict => dictionary of metrics as described in `train_and_eval_on` function\n",
        "      exp_type => string indicating the type of experiment to change the title of the graph\n",
        "\n",
        "    Returns:\n",
        "      nothing\n",
        "  \"\"\"\n",
        "  # Reorganize the data so we have all of the random forest metrics with increasing features side by side\n",
        "  reorganized_dictionary = {}\n",
        "\n",
        "  for feature_vals in metrics_dict.keys():\n",
        "    for key in metrics_dict[feature_vals].keys():\n",
        "      # If a given model is not in the new dictionary, add it\n",
        "      if key not in reorganized_dictionary:\n",
        "        reorganized_dictionary[key] = {}\n",
        "\n",
        "      # If there isn't a specific feature number in the model dictionary, add it\n",
        "      if feature_vals not in reorganized_dictionary[key]:\n",
        "        reorganized_dictionary[key][feature_vals] = []\n",
        "\n",
        "      # If there is anything to the record, add it\n",
        "      if len( metrics_dict[feature_vals][key] ) > 0:\n",
        "        accuracies = metrics_dict[feature_vals][key]\n",
        "        mean = np.mean(accuracies)\n",
        "        std = np.std(accuracies)\n",
        "\n",
        "        #print('Accuracies: {}'.format(accuracies))\n",
        "        #print('Mean: {}'.format(mean))\n",
        "        #print('Std: {}'.format(std))\n",
        "\n",
        "        reorganized_dictionary[key][feature_vals].append( [mean, std] ) \n",
        "\n",
        "  #print('Models: {}'.format( list(reorganized_dictionary.keys()) ))\n",
        "\n",
        "  for model in reorganized_dictionary.keys():\n",
        "    # The x-axis will have the feature_count\n",
        "    xs = []\n",
        "\n",
        "    # The y-axis will have the accuracy for that feature_count value\n",
        "    ys = []\n",
        "\n",
        "    # The y-axis will also have the std for these accuracies since they are accumulated over 10 folds\n",
        "    yerrs = []\n",
        "\n",
        "    for x in reorganized_dictionary[model].keys():\n",
        "      if len(reorganized_dictionary[model][x]) > 0:\n",
        "        xs.append(x)\n",
        "        ys.append(reorganized_dictionary[model][x][0][0])\n",
        "        yerrs.append(reorganized_dictionary[model][x][0][1])\n",
        "    #print('xs: {}'.format(xs))\n",
        "    #print('ys: {}'.format(ys))\n",
        "    if len(xs) > 0:\n",
        "      plt.errorbar(x=xs, y=ys, yerr=yerrs, label=model)\n",
        "\n",
        "  #print(reorganized_dictionary)\n",
        "  if exp_type == 'multi':\n",
        "    plt.title('Multi-class Classification Model Accuracies with Increasing Features')\n",
        "  elif exp_type == 'binary':\n",
        "    plt.title('Binary Classification Model Accuracies with Increasing Features')\n",
        "  plt.ylabel('Accuracy')\n",
        "  plt.xlabel('Number of Features')\n",
        "\n",
        "  plt.xticks(xs[4::5])\n",
        "\n",
        "  plt.legend()\n",
        "  plt.show()\n"
      ],
      "execution_count": 3,
      "outputs": []
    },
    {
      "cell_type": "code",
      "metadata": {
        "id": "iNMkFooNZPNS",
        "colab_type": "code",
        "colab": {}
      },
      "source": [
        "def get_data(path, layer=0, nans=False):\n",
        "    \"\"\" get_data function\n",
        "        Description: This function will take the given path and user-defined layer from the dataset, import the datafiles, and then return the combined pandas DataFrame\n",
        "        Arguments:\n",
        "            path => string, path to the directory containing the l1-doh.csv, l1-nonhod.csv, etc files.\n",
        "            layer => int, the level of layer desired. This will change the dataset that is imported. Values can be 1 or 2. Default is 0.\n",
        "            nans => boolean, Whether the user wants NaNs in the data or wants them removed. This function will automatically remove all rows with Nan values.\n",
        "        Returns:\n",
        "            df => pandas.DataFrame, contains complete data\n",
        "        Raises:\n",
        "            AttributeError for incorrect layer number\n",
        "            Any additional read errors are raised to the user\n",
        "    \"\"\"\n",
        "    import pandas as pd\n",
        "\n",
        "    if layer not in [1,2]:\n",
        "        raise AttributeError('Must provide valid layer for dataset: layer equals 1 or 2')\n",
        "    else:\n",
        "\n",
        "        # Select the files that the user has chosen\n",
        "        filenames = []\n",
        "        if layer == 1:\n",
        "            filenames.append('l1-doh.csv')\n",
        "            filenames.append('l1-nondoh.csv')\n",
        "        else:\n",
        "            filenames.append('l2-benign.csv')\n",
        "            filenames.append('l2-malicious.csv')\n",
        "\n",
        "        # Read the files into dataframes\n",
        "        df0 = pd.read_csv(path + '/' + filenames[0])\n",
        "        df1 = pd.read_csv(path + '/' + filenames[1])\n",
        "\n",
        "        df = pd.concat([df0, df1])\n",
        "\n",
        "        # Remove any rows with Nan values\n",
        "        if not nans:\n",
        "            df.dropna(axis='index', inplace=True)\n",
        "\n",
        "        return df"
      ],
      "execution_count": 4,
      "outputs": []
    },
    {
      "cell_type": "code",
      "metadata": {
        "id": "GUXd3-QLfTcg",
        "colab_type": "code",
        "colab": {}
      },
      "source": [
        "def balance_data(df, label_column):\n",
        "    labels = df[label_column].unique()\n",
        "    sample_length_list = []\n",
        "    for i in range(len(labels)):\n",
        "        samples = df.loc[ df[label_column] == labels[i] ]\n",
        "        sample_length_list.append( len(samples) )\n",
        "        #print('Number of {} samples: {}'.format(labels[i], len( samples )))\n",
        "\n",
        "    random_state = 0\n",
        "    smallest_count = min(sample_length_list)\n",
        "    dfs = []\n",
        "    for i in range(len(labels)):\n",
        "        dfs.append( df.loc[ df[label_column] == labels[i] ].sample(smallest_count) )\n",
        "\n",
        "    return pd.concat(dfs)"
      ],
      "execution_count": 5,
      "outputs": []
    },
    {
      "cell_type": "code",
      "metadata": {
        "id": "ud8aOpkjX-vy",
        "colab_type": "code",
        "colab": {
          "base_uri": "https://localhost:8080/",
          "height": 34
        },
        "outputId": "452d295d-4e84-4779-d419-f1ad2d9b365d"
      },
      "source": [
        "# Set up google drive access\n",
        "drive.mount('/content/gdrive')"
      ],
      "execution_count": 6,
      "outputs": [
        {
          "output_type": "stream",
          "text": [
            "Mounted at /content/gdrive\n"
          ],
          "name": "stdout"
        }
      ]
    },
    {
      "cell_type": "markdown",
      "metadata": {
        "id": "FzhSe6mRZm3M",
        "colab_type": "text"
      },
      "source": [
        "## Layer 1 Experiments: DoH or nonDoH"
      ]
    },
    {
      "cell_type": "code",
      "metadata": {
        "id": "9gbAkkEhYrXD",
        "colab_type": "code",
        "colab": {
          "base_uri": "https://localhost:8080/",
          "height": 313
        },
        "outputId": "f017bec2-6238-46e5-dff1-f50635cd2720"
      },
      "source": [
        "path = '/content/gdrive/My Drive/doh_dataset/Total-CSVs'\n",
        "df = get_data(path=path, layer=1)\n",
        "df.head()"
      ],
      "execution_count": 7,
      "outputs": [
        {
          "output_type": "execute_result",
          "data": {
            "text/html": [
              "<div>\n",
              "<style scoped>\n",
              "    .dataframe tbody tr th:only-of-type {\n",
              "        vertical-align: middle;\n",
              "    }\n",
              "\n",
              "    .dataframe tbody tr th {\n",
              "        vertical-align: top;\n",
              "    }\n",
              "\n",
              "    .dataframe thead th {\n",
              "        text-align: right;\n",
              "    }\n",
              "</style>\n",
              "<table border=\"1\" class=\"dataframe\">\n",
              "  <thead>\n",
              "    <tr style=\"text-align: right;\">\n",
              "      <th></th>\n",
              "      <th>SourceIP</th>\n",
              "      <th>DestinationIP</th>\n",
              "      <th>SourcePort</th>\n",
              "      <th>DestinationPort</th>\n",
              "      <th>TimeStamp</th>\n",
              "      <th>Duration</th>\n",
              "      <th>FlowBytesSent</th>\n",
              "      <th>FlowSentRate</th>\n",
              "      <th>FlowBytesReceived</th>\n",
              "      <th>FlowReceivedRate</th>\n",
              "      <th>PacketLengthVariance</th>\n",
              "      <th>PacketLengthStandardDeviation</th>\n",
              "      <th>PacketLengthMean</th>\n",
              "      <th>PacketLengthMedian</th>\n",
              "      <th>PacketLengthMode</th>\n",
              "      <th>PacketLengthSkewFromMedian</th>\n",
              "      <th>PacketLengthSkewFromMode</th>\n",
              "      <th>PacketLengthCoefficientofVariation</th>\n",
              "      <th>PacketTimeVariance</th>\n",
              "      <th>PacketTimeStandardDeviation</th>\n",
              "      <th>PacketTimeMean</th>\n",
              "      <th>PacketTimeMedian</th>\n",
              "      <th>PacketTimeMode</th>\n",
              "      <th>PacketTimeSkewFromMedian</th>\n",
              "      <th>PacketTimeSkewFromMode</th>\n",
              "      <th>PacketTimeCoefficientofVariation</th>\n",
              "      <th>ResponseTimeTimeVariance</th>\n",
              "      <th>ResponseTimeTimeStandardDeviation</th>\n",
              "      <th>ResponseTimeTimeMean</th>\n",
              "      <th>ResponseTimeTimeMedian</th>\n",
              "      <th>ResponseTimeTimeMode</th>\n",
              "      <th>ResponseTimeTimeSkewFromMedian</th>\n",
              "      <th>ResponseTimeTimeSkewFromMode</th>\n",
              "      <th>ResponseTimeTimeCoefficientofVariation</th>\n",
              "      <th>Label</th>\n",
              "    </tr>\n",
              "  </thead>\n",
              "  <tbody>\n",
              "    <tr>\n",
              "      <th>0</th>\n",
              "      <td>192.168.20.191</td>\n",
              "      <td>176.103.130.131</td>\n",
              "      <td>50749</td>\n",
              "      <td>443</td>\n",
              "      <td>2020-01-14 15:49:11</td>\n",
              "      <td>95.081550</td>\n",
              "      <td>62311</td>\n",
              "      <td>655.342703</td>\n",
              "      <td>65358</td>\n",
              "      <td>687.388878</td>\n",
              "      <td>7474.676771</td>\n",
              "      <td>86.456213</td>\n",
              "      <td>135.673751</td>\n",
              "      <td>102.0</td>\n",
              "      <td>54</td>\n",
              "      <td>1.168467</td>\n",
              "      <td>0.944683</td>\n",
              "      <td>0.637236</td>\n",
              "      <td>670.585814</td>\n",
              "      <td>25.895672</td>\n",
              "      <td>45.065277</td>\n",
              "      <td>48.811292</td>\n",
              "      <td>1.495060</td>\n",
              "      <td>-0.433974</td>\n",
              "      <td>1.682529</td>\n",
              "      <td>0.574626</td>\n",
              "      <td>0.001053</td>\n",
              "      <td>0.032457</td>\n",
              "      <td>0.027624</td>\n",
              "      <td>0.026854</td>\n",
              "      <td>0.026822</td>\n",
              "      <td>0.071187</td>\n",
              "      <td>0.024715</td>\n",
              "      <td>1.174948</td>\n",
              "      <td>DoH</td>\n",
              "    </tr>\n",
              "    <tr>\n",
              "      <th>1</th>\n",
              "      <td>192.168.20.191</td>\n",
              "      <td>176.103.130.131</td>\n",
              "      <td>50749</td>\n",
              "      <td>443</td>\n",
              "      <td>2020-01-14 15:50:52</td>\n",
              "      <td>122.309318</td>\n",
              "      <td>93828</td>\n",
              "      <td>767.136973</td>\n",
              "      <td>101232</td>\n",
              "      <td>827.672018</td>\n",
              "      <td>10458.118598</td>\n",
              "      <td>102.264943</td>\n",
              "      <td>141.245474</td>\n",
              "      <td>114.0</td>\n",
              "      <td>54</td>\n",
              "      <td>0.799261</td>\n",
              "      <td>0.853132</td>\n",
              "      <td>0.724023</td>\n",
              "      <td>708.465878</td>\n",
              "      <td>26.617022</td>\n",
              "      <td>52.287903</td>\n",
              "      <td>48.830314</td>\n",
              "      <td>31.719656</td>\n",
              "      <td>0.389704</td>\n",
              "      <td>0.772748</td>\n",
              "      <td>0.509047</td>\n",
              "      <td>0.001170</td>\n",
              "      <td>0.034200</td>\n",
              "      <td>0.024387</td>\n",
              "      <td>0.021043</td>\n",
              "      <td>0.026981</td>\n",
              "      <td>0.293297</td>\n",
              "      <td>-0.075845</td>\n",
              "      <td>1.402382</td>\n",
              "      <td>DoH</td>\n",
              "    </tr>\n",
              "    <tr>\n",
              "      <th>2</th>\n",
              "      <td>192.168.20.191</td>\n",
              "      <td>176.103.130.131</td>\n",
              "      <td>50749</td>\n",
              "      <td>443</td>\n",
              "      <td>2020-01-14 15:52:55</td>\n",
              "      <td>120.958413</td>\n",
              "      <td>38784</td>\n",
              "      <td>320.639127</td>\n",
              "      <td>38236</td>\n",
              "      <td>316.108645</td>\n",
              "      <td>7300.293933</td>\n",
              "      <td>85.441758</td>\n",
              "      <td>133.715278</td>\n",
              "      <td>89.0</td>\n",
              "      <td>54</td>\n",
              "      <td>1.570027</td>\n",
              "      <td>0.932978</td>\n",
              "      <td>0.638983</td>\n",
              "      <td>1358.911235</td>\n",
              "      <td>36.863413</td>\n",
              "      <td>50.316114</td>\n",
              "      <td>39.770747</td>\n",
              "      <td>0.417528</td>\n",
              "      <td>0.858198</td>\n",
              "      <td>1.353607</td>\n",
              "      <td>0.732636</td>\n",
              "      <td>0.000785</td>\n",
              "      <td>0.028021</td>\n",
              "      <td>0.029238</td>\n",
              "      <td>0.026921</td>\n",
              "      <td>0.026855</td>\n",
              "      <td>0.248064</td>\n",
              "      <td>0.085061</td>\n",
              "      <td>0.958348</td>\n",
              "      <td>DoH</td>\n",
              "    </tr>\n",
              "    <tr>\n",
              "      <th>3</th>\n",
              "      <td>192.168.20.191</td>\n",
              "      <td>176.103.130.131</td>\n",
              "      <td>50749</td>\n",
              "      <td>443</td>\n",
              "      <td>2020-01-14 15:54:56</td>\n",
              "      <td>110.501080</td>\n",
              "      <td>61993</td>\n",
              "      <td>561.017141</td>\n",
              "      <td>69757</td>\n",
              "      <td>631.278898</td>\n",
              "      <td>8499.282518</td>\n",
              "      <td>92.191553</td>\n",
              "      <td>139.123548</td>\n",
              "      <td>114.0</td>\n",
              "      <td>54</td>\n",
              "      <td>0.817544</td>\n",
              "      <td>0.923333</td>\n",
              "      <td>0.662660</td>\n",
              "      <td>1118.135436</td>\n",
              "      <td>33.438532</td>\n",
              "      <td>51.693726</td>\n",
              "      <td>34.882495</td>\n",
              "      <td>13.280934</td>\n",
              "      <td>1.508251</td>\n",
              "      <td>1.148758</td>\n",
              "      <td>0.646859</td>\n",
              "      <td>0.000411</td>\n",
              "      <td>0.020274</td>\n",
              "      <td>0.019925</td>\n",
              "      <td>0.019268</td>\n",
              "      <td>0.026918</td>\n",
              "      <td>0.097199</td>\n",
              "      <td>-0.344926</td>\n",
              "      <td>1.017535</td>\n",
              "      <td>DoH</td>\n",
              "    </tr>\n",
              "    <tr>\n",
              "      <th>4</th>\n",
              "      <td>176.103.130.131</td>\n",
              "      <td>192.168.20.191</td>\n",
              "      <td>443</td>\n",
              "      <td>50749</td>\n",
              "      <td>2020-01-14 15:56:46</td>\n",
              "      <td>54.229891</td>\n",
              "      <td>83641</td>\n",
              "      <td>1542.341289</td>\n",
              "      <td>76804</td>\n",
              "      <td>1416.266907</td>\n",
              "      <td>8052.745751</td>\n",
              "      <td>89.737092</td>\n",
              "      <td>138.913420</td>\n",
              "      <td>114.0</td>\n",
              "      <td>114</td>\n",
              "      <td>0.832880</td>\n",
              "      <td>0.277627</td>\n",
              "      <td>0.645993</td>\n",
              "      <td>341.696613</td>\n",
              "      <td>18.485038</td>\n",
              "      <td>36.435619</td>\n",
              "      <td>49.822561</td>\n",
              "      <td>7.342519</td>\n",
              "      <td>-2.172613</td>\n",
              "      <td>1.573873</td>\n",
              "      <td>0.507334</td>\n",
              "      <td>0.079079</td>\n",
              "      <td>0.281209</td>\n",
              "      <td>0.025930</td>\n",
              "      <td>0.000047</td>\n",
              "      <td>0.000021</td>\n",
              "      <td>0.276133</td>\n",
              "      <td>0.092135</td>\n",
              "      <td>10.844829</td>\n",
              "      <td>DoH</td>\n",
              "    </tr>\n",
              "  </tbody>\n",
              "</table>\n",
              "</div>"
            ],
            "text/plain": [
              "          SourceIP  ... Label\n",
              "0   192.168.20.191  ...   DoH\n",
              "1   192.168.20.191  ...   DoH\n",
              "2   192.168.20.191  ...   DoH\n",
              "3   192.168.20.191  ...   DoH\n",
              "4  176.103.130.131  ...   DoH\n",
              "\n",
              "[5 rows x 35 columns]"
            ]
          },
          "metadata": {
            "tags": []
          },
          "execution_count": 7
        }
      ]
    },
    {
      "cell_type": "code",
      "metadata": {
        "id": "BttPHEEZZZHd",
        "colab_type": "code",
        "colab": {}
      },
      "source": [
        "bad_columns = ['SourceIP', 'DestinationIP', 'SourcePort', 'DestinationPort', 'TimeStamp']\n",
        "df.drop(labels=bad_columns, axis='columns', inplace=True)"
      ],
      "execution_count": 8,
      "outputs": []
    },
    {
      "cell_type": "code",
      "metadata": {
        "id": "10RmnzFXZdP1",
        "colab_type": "code",
        "colab": {
          "base_uri": "https://localhost:8080/",
          "height": 69
        },
        "outputId": "fa999f94-ee85-4479-8faf-d9b94903f116"
      },
      "source": [
        "# The target classifications are in the 'Label' columns, \n",
        "#  thus this is the independent variable!\n",
        "dep_var = 'Label'\n",
        "df[dep_var].value_counts()"
      ],
      "execution_count": 9,
      "outputs": [
        {
          "output_type": "execute_result",
          "data": {
            "text/plain": [
              "NonDoH    889809\n",
              "DoH       269299\n",
              "Name: Label, dtype: int64"
            ]
          },
          "metadata": {
            "tags": []
          },
          "execution_count": 9
        }
      ]
    },
    {
      "cell_type": "code",
      "metadata": {
        "id": "17HxSHjjgkox",
        "colab_type": "code",
        "colab": {}
      },
      "source": [
        "# Balance the data out\n",
        "df = balance_data(df, dep_var)"
      ],
      "execution_count": 10,
      "outputs": []
    },
    {
      "cell_type": "code",
      "metadata": {
        "id": "gHHcLr9QgnRO",
        "colab_type": "code",
        "colab": {
          "base_uri": "https://localhost:8080/",
          "height": 69
        },
        "outputId": "37b5fd20-685c-4e12-b911-20bf62790df9"
      },
      "source": [
        "df[dep_var].value_counts()"
      ],
      "execution_count": 11,
      "outputs": [
        {
          "output_type": "execute_result",
          "data": {
            "text/plain": [
              "NonDoH    269299\n",
              "DoH       269299\n",
              "Name: Label, dtype: int64"
            ]
          },
          "metadata": {
            "tags": []
          },
          "execution_count": 11
        }
      ]
    },
    {
      "cell_type": "code",
      "metadata": {
        "id": "sGzXo9tkZdBk",
        "colab_type": "code",
        "colab": {}
      },
      "source": [
        "# Split up the data into the data (X) and classifications (y)\n",
        "X = df.loc[:, df.columns != dep_var]\n",
        "y = df[dep_var]"
      ],
      "execution_count": 12,
      "outputs": []
    },
    {
      "cell_type": "code",
      "metadata": {
        "id": "495Wym42X-zQ",
        "colab_type": "code",
        "colab": {
          "base_uri": "https://localhost:8080/",
          "height": 72
        },
        "outputId": "5c9b9273-2546-43f2-b093-128307344060"
      },
      "source": [
        "best_features_layer1 = ['Duration', 'ResponseTimeTimeSkewFromMedian', 'ResponseTimeTimeMode',\n",
        "       'ResponseTimeTimeMedian', 'ResponseTimeTimeMean',\n",
        "       'PacketTimeSkewFromMedian', 'PacketTimeMode', 'PacketTimeMedian',\n",
        "       'PacketTimeMean', 'ResponseTimeTimeSkewFromMode', 'PacketTimeVariance',\n",
        "       'PacketLengthCoefficientofVariation', 'PacketTimeStandardDeviation',\n",
        "       'PacketLengthMode', 'PacketLengthMedian', 'PacketLengthMean',\n",
        "       'FlowBytesSent', 'ResponseTimeTimeCoefficientofVariation',\n",
        "       'PacketLengthStandardDeviation', 'PacketLengthVariance',\n",
        "       'PacketTimeCoefficientofVariation', 'FlowReceivedRate',\n",
        "       'ResponseTimeTimeStandardDeviation', 'PacketLengthSkewFromMode',\n",
        "       'FlowBytesReceived', 'PacketLengthSkewFromMedian', 'FlowSentRate',\n",
        "       'ResponseTimeTimeVariance', 'PacketTimeSkewFromMode']\n",
        "print('These are the best 4 features for layer 1: {}'.format(best_features_layer1[:4]))\n",
        "print('These are the worst 4 features for layer 1: {}'.format(best_features_layer1[-4:]))"
      ],
      "execution_count": 13,
      "outputs": [
        {
          "output_type": "stream",
          "text": [
            "These are the best 4 features for layer 1: ['Duration', 'ResponseTimeTimeSkewFromMedian', 'ResponseTimeTimeMode', 'ResponseTimeTimeMedian']\n",
            "These are the worst 4 features for layer 1: ['PacketLengthSkewFromMedian', 'FlowSentRate', 'ResponseTimeTimeVariance', 'PacketTimeSkewFromMode']\n"
          ],
          "name": "stdout"
        }
      ]
    },
    {
      "cell_type": "code",
      "metadata": {
        "id": "SZQIjcBnZyse",
        "colab_type": "code",
        "colab": {
          "base_uri": "https://localhost:8080/",
          "height": 903
        },
        "outputId": "659fb216-e7e9-4a05-db8b-9b32e330254b"
      },
      "source": [
        "l1_performance_metrics = train_and_eval_on(X=X, y=y, feature_set=best_features_layer1)"
      ],
      "execution_count": 14,
      "outputs": [
        {
          "output_type": "stream",
          "text": [
            "Training with 29 features\n",
            "fold num 1\n",
            "splitting data\n",
            "creating rf\n",
            "fitting rf\n",
            "scoring rf\n",
            "fold num 2\n",
            "splitting data\n",
            "creating rf\n",
            "fitting rf\n",
            "scoring rf\n",
            "fold num 3\n",
            "splitting data\n",
            "creating rf\n",
            "fitting rf\n",
            "scoring rf\n",
            "fold num 4\n",
            "splitting data\n",
            "creating rf\n",
            "fitting rf\n",
            "scoring rf\n",
            "fold num 5\n",
            "splitting data\n",
            "creating rf\n",
            "fitting rf\n",
            "scoring rf\n",
            "fold num 6\n",
            "splitting data\n",
            "creating rf\n",
            "fitting rf\n",
            "scoring rf\n",
            "fold num 7\n",
            "splitting data\n",
            "creating rf\n",
            "fitting rf\n",
            "scoring rf\n",
            "fold num 8\n",
            "splitting data\n",
            "creating rf\n",
            "fitting rf\n",
            "scoring rf\n",
            "fold num 9\n",
            "splitting data\n",
            "creating rf\n",
            "fitting rf\n",
            "scoring rf\n",
            "fold num 10\n",
            "splitting data\n",
            "creating rf\n",
            "fitting rf\n",
            "scoring rf\n"
          ],
          "name": "stdout"
        }
      ]
    },
    {
      "cell_type": "code",
      "metadata": {
        "id": "f7UNXwkzaEia",
        "colab_type": "code",
        "colab": {
          "base_uri": "https://localhost:8080/",
          "height": 402
        },
        "outputId": "89daa256-e7e1-49db-bcff-1d0e5037ad99"
      },
      "source": [
        "print('Models\\tAccuracy (%)')\n",
        "for key in l1_performance_metrics.keys():\n",
        "  avg = np.average(l1_performance_metrics[key])\n",
        "  std = np.std(l1_performance_metrics[key])\n",
        "  print('{}\\t{:.2f}\\u00B1{:.2f}'.format(key, avg*100, std*100))"
      ],
      "execution_count": 15,
      "outputs": [
        {
          "output_type": "stream",
          "text": [
            "Models\tAccuracy (%)\n",
            "rf\t99.64±0.02\n",
            "dt\tnan±nan\n",
            "knn\tnan±nan\n",
            "svm\tnan±nan\n",
            "lr\tnan±nan\n",
            "lda\tnan±nan\n",
            "ab\tnan±nan\n",
            "nb\tnan±nan\n",
            "keras\tnan±nan\n",
            "fastai\tnan±nan\n"
          ],
          "name": "stdout"
        },
        {
          "output_type": "stream",
          "text": [
            "/usr/local/lib/python3.6/dist-packages/numpy/lib/function_base.py:393: RuntimeWarning: Mean of empty slice.\n",
            "  avg = a.mean(axis)\n",
            "/usr/local/lib/python3.6/dist-packages/numpy/core/_methods.py:161: RuntimeWarning: invalid value encountered in double_scalars\n",
            "  ret = ret.dtype.type(ret / rcount)\n",
            "/usr/local/lib/python3.6/dist-packages/numpy/core/_methods.py:217: RuntimeWarning: Degrees of freedom <= 0 for slice\n",
            "  keepdims=keepdims)\n",
            "/usr/local/lib/python3.6/dist-packages/numpy/core/_methods.py:186: RuntimeWarning: invalid value encountered in true_divide\n",
            "  arrmean, rcount, out=arrmean, casting='unsafe', subok=False)\n",
            "/usr/local/lib/python3.6/dist-packages/numpy/core/_methods.py:209: RuntimeWarning: invalid value encountered in double_scalars\n",
            "  ret = ret.dtype.type(ret / rcount)\n"
          ],
          "name": "stderr"
        }
      ]
    },
    {
      "cell_type": "markdown",
      "metadata": {
        "id": "ssg9yMpDasKm",
        "colab_type": "text"
      },
      "source": [
        "## Layer 2 Experiments: Benign-DoH or Malicious-DoH"
      ]
    },
    {
      "cell_type": "code",
      "metadata": {
        "id": "oQzcxhJWay90",
        "colab_type": "code",
        "colab": {
          "base_uri": "https://localhost:8080/",
          "height": 313
        },
        "outputId": "aae6e852-c802-46ae-be62-7a8d3087891b"
      },
      "source": [
        "path = '/content/gdrive/My Drive/doh_dataset/Total-CSVs'\n",
        "df = get_data(path=path, layer=2)\n",
        "df.head()"
      ],
      "execution_count": 16,
      "outputs": [
        {
          "output_type": "execute_result",
          "data": {
            "text/html": [
              "<div>\n",
              "<style scoped>\n",
              "    .dataframe tbody tr th:only-of-type {\n",
              "        vertical-align: middle;\n",
              "    }\n",
              "\n",
              "    .dataframe tbody tr th {\n",
              "        vertical-align: top;\n",
              "    }\n",
              "\n",
              "    .dataframe thead th {\n",
              "        text-align: right;\n",
              "    }\n",
              "</style>\n",
              "<table border=\"1\" class=\"dataframe\">\n",
              "  <thead>\n",
              "    <tr style=\"text-align: right;\">\n",
              "      <th></th>\n",
              "      <th>SourceIP</th>\n",
              "      <th>DestinationIP</th>\n",
              "      <th>SourcePort</th>\n",
              "      <th>DestinationPort</th>\n",
              "      <th>TimeStamp</th>\n",
              "      <th>Duration</th>\n",
              "      <th>FlowBytesSent</th>\n",
              "      <th>FlowSentRate</th>\n",
              "      <th>FlowBytesReceived</th>\n",
              "      <th>FlowReceivedRate</th>\n",
              "      <th>PacketLengthVariance</th>\n",
              "      <th>PacketLengthStandardDeviation</th>\n",
              "      <th>PacketLengthMean</th>\n",
              "      <th>PacketLengthMedian</th>\n",
              "      <th>PacketLengthMode</th>\n",
              "      <th>PacketLengthSkewFromMedian</th>\n",
              "      <th>PacketLengthSkewFromMode</th>\n",
              "      <th>PacketLengthCoefficientofVariation</th>\n",
              "      <th>PacketTimeVariance</th>\n",
              "      <th>PacketTimeStandardDeviation</th>\n",
              "      <th>PacketTimeMean</th>\n",
              "      <th>PacketTimeMedian</th>\n",
              "      <th>PacketTimeMode</th>\n",
              "      <th>PacketTimeSkewFromMedian</th>\n",
              "      <th>PacketTimeSkewFromMode</th>\n",
              "      <th>PacketTimeCoefficientofVariation</th>\n",
              "      <th>ResponseTimeTimeVariance</th>\n",
              "      <th>ResponseTimeTimeStandardDeviation</th>\n",
              "      <th>ResponseTimeTimeMean</th>\n",
              "      <th>ResponseTimeTimeMedian</th>\n",
              "      <th>ResponseTimeTimeMode</th>\n",
              "      <th>ResponseTimeTimeSkewFromMedian</th>\n",
              "      <th>ResponseTimeTimeSkewFromMode</th>\n",
              "      <th>ResponseTimeTimeCoefficientofVariation</th>\n",
              "      <th>Label</th>\n",
              "    </tr>\n",
              "  </thead>\n",
              "  <tbody>\n",
              "    <tr>\n",
              "      <th>0</th>\n",
              "      <td>192.168.20.191</td>\n",
              "      <td>176.103.130.131</td>\n",
              "      <td>50749</td>\n",
              "      <td>443</td>\n",
              "      <td>2020-01-14 15:49:11</td>\n",
              "      <td>95.081550</td>\n",
              "      <td>62311</td>\n",
              "      <td>655.342703</td>\n",
              "      <td>65358</td>\n",
              "      <td>687.388878</td>\n",
              "      <td>7474.676771</td>\n",
              "      <td>86.456213</td>\n",
              "      <td>135.673751</td>\n",
              "      <td>102.0</td>\n",
              "      <td>54</td>\n",
              "      <td>1.168467</td>\n",
              "      <td>0.944683</td>\n",
              "      <td>0.637236</td>\n",
              "      <td>670.585814</td>\n",
              "      <td>25.895672</td>\n",
              "      <td>45.065277</td>\n",
              "      <td>48.811292</td>\n",
              "      <td>1.495060</td>\n",
              "      <td>-0.433974</td>\n",
              "      <td>1.682529</td>\n",
              "      <td>0.574626</td>\n",
              "      <td>0.001053</td>\n",
              "      <td>0.032457</td>\n",
              "      <td>0.027624</td>\n",
              "      <td>0.026854</td>\n",
              "      <td>0.026822</td>\n",
              "      <td>0.071187</td>\n",
              "      <td>0.024715</td>\n",
              "      <td>1.174948</td>\n",
              "      <td>Benign</td>\n",
              "    </tr>\n",
              "    <tr>\n",
              "      <th>1</th>\n",
              "      <td>192.168.20.191</td>\n",
              "      <td>176.103.130.131</td>\n",
              "      <td>50749</td>\n",
              "      <td>443</td>\n",
              "      <td>2020-01-14 15:50:52</td>\n",
              "      <td>122.309318</td>\n",
              "      <td>93828</td>\n",
              "      <td>767.136973</td>\n",
              "      <td>101232</td>\n",
              "      <td>827.672018</td>\n",
              "      <td>10458.118598</td>\n",
              "      <td>102.264943</td>\n",
              "      <td>141.245474</td>\n",
              "      <td>114.0</td>\n",
              "      <td>54</td>\n",
              "      <td>0.799261</td>\n",
              "      <td>0.853132</td>\n",
              "      <td>0.724023</td>\n",
              "      <td>708.465878</td>\n",
              "      <td>26.617022</td>\n",
              "      <td>52.287903</td>\n",
              "      <td>48.830314</td>\n",
              "      <td>31.719656</td>\n",
              "      <td>0.389704</td>\n",
              "      <td>0.772748</td>\n",
              "      <td>0.509047</td>\n",
              "      <td>0.001170</td>\n",
              "      <td>0.034200</td>\n",
              "      <td>0.024387</td>\n",
              "      <td>0.021043</td>\n",
              "      <td>0.026981</td>\n",
              "      <td>0.293297</td>\n",
              "      <td>-0.075845</td>\n",
              "      <td>1.402382</td>\n",
              "      <td>Benign</td>\n",
              "    </tr>\n",
              "    <tr>\n",
              "      <th>2</th>\n",
              "      <td>192.168.20.191</td>\n",
              "      <td>176.103.130.131</td>\n",
              "      <td>50749</td>\n",
              "      <td>443</td>\n",
              "      <td>2020-01-14 15:52:55</td>\n",
              "      <td>120.958413</td>\n",
              "      <td>38784</td>\n",
              "      <td>320.639127</td>\n",
              "      <td>38236</td>\n",
              "      <td>316.108645</td>\n",
              "      <td>7300.293933</td>\n",
              "      <td>85.441758</td>\n",
              "      <td>133.715278</td>\n",
              "      <td>89.0</td>\n",
              "      <td>54</td>\n",
              "      <td>1.570027</td>\n",
              "      <td>0.932978</td>\n",
              "      <td>0.638983</td>\n",
              "      <td>1358.911235</td>\n",
              "      <td>36.863413</td>\n",
              "      <td>50.316114</td>\n",
              "      <td>39.770747</td>\n",
              "      <td>0.417528</td>\n",
              "      <td>0.858198</td>\n",
              "      <td>1.353607</td>\n",
              "      <td>0.732636</td>\n",
              "      <td>0.000785</td>\n",
              "      <td>0.028021</td>\n",
              "      <td>0.029238</td>\n",
              "      <td>0.026921</td>\n",
              "      <td>0.026855</td>\n",
              "      <td>0.248064</td>\n",
              "      <td>0.085061</td>\n",
              "      <td>0.958348</td>\n",
              "      <td>Benign</td>\n",
              "    </tr>\n",
              "    <tr>\n",
              "      <th>3</th>\n",
              "      <td>192.168.20.191</td>\n",
              "      <td>176.103.130.131</td>\n",
              "      <td>50749</td>\n",
              "      <td>443</td>\n",
              "      <td>2020-01-14 15:54:56</td>\n",
              "      <td>110.501080</td>\n",
              "      <td>61993</td>\n",
              "      <td>561.017141</td>\n",
              "      <td>69757</td>\n",
              "      <td>631.278898</td>\n",
              "      <td>8499.282518</td>\n",
              "      <td>92.191553</td>\n",
              "      <td>139.123548</td>\n",
              "      <td>114.0</td>\n",
              "      <td>54</td>\n",
              "      <td>0.817544</td>\n",
              "      <td>0.923333</td>\n",
              "      <td>0.662660</td>\n",
              "      <td>1118.135436</td>\n",
              "      <td>33.438532</td>\n",
              "      <td>51.693726</td>\n",
              "      <td>34.882495</td>\n",
              "      <td>13.280934</td>\n",
              "      <td>1.508251</td>\n",
              "      <td>1.148758</td>\n",
              "      <td>0.646859</td>\n",
              "      <td>0.000411</td>\n",
              "      <td>0.020274</td>\n",
              "      <td>0.019925</td>\n",
              "      <td>0.019268</td>\n",
              "      <td>0.026918</td>\n",
              "      <td>0.097199</td>\n",
              "      <td>-0.344926</td>\n",
              "      <td>1.017535</td>\n",
              "      <td>Benign</td>\n",
              "    </tr>\n",
              "    <tr>\n",
              "      <th>4</th>\n",
              "      <td>176.103.130.131</td>\n",
              "      <td>192.168.20.191</td>\n",
              "      <td>443</td>\n",
              "      <td>50749</td>\n",
              "      <td>2020-01-14 15:56:46</td>\n",
              "      <td>54.229891</td>\n",
              "      <td>83641</td>\n",
              "      <td>1542.341289</td>\n",
              "      <td>76804</td>\n",
              "      <td>1416.266907</td>\n",
              "      <td>8052.745751</td>\n",
              "      <td>89.737092</td>\n",
              "      <td>138.913420</td>\n",
              "      <td>114.0</td>\n",
              "      <td>114</td>\n",
              "      <td>0.832880</td>\n",
              "      <td>0.277627</td>\n",
              "      <td>0.645993</td>\n",
              "      <td>341.696613</td>\n",
              "      <td>18.485038</td>\n",
              "      <td>36.435619</td>\n",
              "      <td>49.822561</td>\n",
              "      <td>7.342519</td>\n",
              "      <td>-2.172613</td>\n",
              "      <td>1.573873</td>\n",
              "      <td>0.507334</td>\n",
              "      <td>0.079079</td>\n",
              "      <td>0.281209</td>\n",
              "      <td>0.025930</td>\n",
              "      <td>0.000047</td>\n",
              "      <td>0.000021</td>\n",
              "      <td>0.276133</td>\n",
              "      <td>0.092135</td>\n",
              "      <td>10.844829</td>\n",
              "      <td>Benign</td>\n",
              "    </tr>\n",
              "  </tbody>\n",
              "</table>\n",
              "</div>"
            ],
            "text/plain": [
              "          SourceIP  ...   Label\n",
              "0   192.168.20.191  ...  Benign\n",
              "1   192.168.20.191  ...  Benign\n",
              "2   192.168.20.191  ...  Benign\n",
              "3   192.168.20.191  ...  Benign\n",
              "4  176.103.130.131  ...  Benign\n",
              "\n",
              "[5 rows x 35 columns]"
            ]
          },
          "metadata": {
            "tags": []
          },
          "execution_count": 16
        }
      ]
    },
    {
      "cell_type": "code",
      "metadata": {
        "id": "p1R8pZ66a5mz",
        "colab_type": "code",
        "colab": {}
      },
      "source": [
        "bad_columns = ['SourceIP', 'DestinationIP', 'SourcePort', 'DestinationPort', 'TimeStamp']\n",
        "df.drop(labels=bad_columns, axis='columns', inplace=True)"
      ],
      "execution_count": 17,
      "outputs": []
    },
    {
      "cell_type": "code",
      "metadata": {
        "id": "RTtdF9Sja5e2",
        "colab_type": "code",
        "colab": {
          "base_uri": "https://localhost:8080/",
          "height": 69
        },
        "outputId": "17380d6b-9e6b-4fe0-d605-381055cb3dae"
      },
      "source": [
        "# The target classifications are in the 'Label' columns, \n",
        "#  thus this is the independent variable!\n",
        "dep_var = 'Label'\n",
        "df[dep_var].value_counts()"
      ],
      "execution_count": 18,
      "outputs": [
        {
          "output_type": "execute_result",
          "data": {
            "text/plain": [
              "Malicious    249553\n",
              "Benign        19746\n",
              "Name: Label, dtype: int64"
            ]
          },
          "metadata": {
            "tags": []
          },
          "execution_count": 18
        }
      ]
    },
    {
      "cell_type": "code",
      "metadata": {
        "id": "KHGbWGHxigHG",
        "colab_type": "code",
        "colab": {}
      },
      "source": [
        "# Balance the data out\n",
        "df = balance_data(df, dep_var)"
      ],
      "execution_count": 19,
      "outputs": []
    },
    {
      "cell_type": "code",
      "metadata": {
        "id": "zkeOOY-4ihz5",
        "colab_type": "code",
        "colab": {
          "base_uri": "https://localhost:8080/",
          "height": 69
        },
        "outputId": "bd5c97a2-b036-4f5e-c4a6-f942f13b924d"
      },
      "source": [
        "df[dep_var].value_counts()"
      ],
      "execution_count": 20,
      "outputs": [
        {
          "output_type": "execute_result",
          "data": {
            "text/plain": [
              "Malicious    19746\n",
              "Benign       19746\n",
              "Name: Label, dtype: int64"
            ]
          },
          "metadata": {
            "tags": []
          },
          "execution_count": 20
        }
      ]
    },
    {
      "cell_type": "code",
      "metadata": {
        "id": "zDSwiqNaa5XP",
        "colab_type": "code",
        "colab": {}
      },
      "source": [
        "# Split up the data into the data (X) and classifications (y)\n",
        "X = df.loc[:, df.columns != dep_var]\n",
        "y = df[dep_var]"
      ],
      "execution_count": 21,
      "outputs": []
    },
    {
      "cell_type": "code",
      "metadata": {
        "id": "3gXMvDDUa5MN",
        "colab_type": "code",
        "colab": {
          "base_uri": "https://localhost:8080/",
          "height": 72
        },
        "outputId": "92235810-a057-43e3-dcc3-636885d7363e"
      },
      "source": [
        "best_features_layer2 = ['PacketLengthStandardDeviation', 'PacketLengthCoefficientofVariation',\n",
        "       'FlowReceivedRate', 'PacketLengthMean', 'Duration',\n",
        "       'PacketTimeSkewFromMedian', 'FlowSentRate', 'PacketLengthVariance',\n",
        "       'PacketTimeMean', 'PacketTimeStandardDeviation',\n",
        "       'ResponseTimeTimeMedian', 'PacketTimeMedian',\n",
        "       'ResponseTimeTimeSkewFromMode', 'ResponseTimeTimeMean',\n",
        "       'ResponseTimeTimeMode', 'PacketTimeCoefficientofVariation',\n",
        "       'ResponseTimeTimeSkewFromMedian', 'PacketTimeMode', 'FlowBytesSent',\n",
        "       'FlowBytesReceived', 'PacketLengthMode',\n",
        "       'ResponseTimeTimeCoefficientofVariation', 'PacketLengthSkewFromMedian',\n",
        "       'PacketTimeVariance', 'PacketLengthMedian', 'PacketTimeSkewFromMode',\n",
        "       'ResponseTimeTimeStandardDeviation', 'ResponseTimeTimeVariance',\n",
        "       'PacketLengthSkewFromMode']\n",
        "print('These are the best 4 features for layer 2: {}'.format(best_features_layer2[:4]))\n",
        "print('These are the worst 4 features for layer 2: {}'.format(best_features_layer2[-4:]))"
      ],
      "execution_count": 22,
      "outputs": [
        {
          "output_type": "stream",
          "text": [
            "These are the best 4 features for layer 2: ['PacketLengthStandardDeviation', 'PacketLengthCoefficientofVariation', 'FlowReceivedRate', 'PacketLengthMean']\n",
            "These are the worst 4 features for layer 2: ['PacketTimeSkewFromMode', 'ResponseTimeTimeStandardDeviation', 'ResponseTimeTimeVariance', 'PacketLengthSkewFromMode']\n"
          ],
          "name": "stdout"
        }
      ]
    },
    {
      "cell_type": "code",
      "metadata": {
        "id": "xr52P7hObFlI",
        "colab_type": "code",
        "colab": {
          "base_uri": "https://localhost:8080/",
          "height": 903
        },
        "outputId": "c763948f-cec5-4036-86b9-132e3c74a439"
      },
      "source": [
        "l2_performance_metrics = train_and_eval_on(X=X, y=y, feature_set=best_features_layer2)"
      ],
      "execution_count": 23,
      "outputs": [
        {
          "output_type": "stream",
          "text": [
            "Training with 29 features\n",
            "fold num 1\n",
            "splitting data\n",
            "creating rf\n",
            "fitting rf\n",
            "scoring rf\n",
            "fold num 2\n",
            "splitting data\n",
            "creating rf\n",
            "fitting rf\n",
            "scoring rf\n",
            "fold num 3\n",
            "splitting data\n",
            "creating rf\n",
            "fitting rf\n",
            "scoring rf\n",
            "fold num 4\n",
            "splitting data\n",
            "creating rf\n",
            "fitting rf\n",
            "scoring rf\n",
            "fold num 5\n",
            "splitting data\n",
            "creating rf\n",
            "fitting rf\n",
            "scoring rf\n",
            "fold num 6\n",
            "splitting data\n",
            "creating rf\n",
            "fitting rf\n",
            "scoring rf\n",
            "fold num 7\n",
            "splitting data\n",
            "creating rf\n",
            "fitting rf\n",
            "scoring rf\n",
            "fold num 8\n",
            "splitting data\n",
            "creating rf\n",
            "fitting rf\n",
            "scoring rf\n",
            "fold num 9\n",
            "splitting data\n",
            "creating rf\n",
            "fitting rf\n",
            "scoring rf\n",
            "fold num 10\n",
            "splitting data\n",
            "creating rf\n",
            "fitting rf\n",
            "scoring rf\n"
          ],
          "name": "stdout"
        }
      ]
    },
    {
      "cell_type": "code",
      "metadata": {
        "id": "U7EiIle-bNI3",
        "colab_type": "code",
        "colab": {
          "base_uri": "https://localhost:8080/",
          "height": 402
        },
        "outputId": "92a87836-9263-4e31-a04c-252905d7f52e"
      },
      "source": [
        "print('Models\\tAccuracy (%)')\n",
        "for key in l2_performance_metrics.keys():\n",
        "  avg = np.average(l2_performance_metrics[key])\n",
        "  std = np.std(l2_performance_metrics[key])\n",
        "  print('{}\\t{:.2f}\\u00B1{:.2f}'.format(key, avg*100, std*100))"
      ],
      "execution_count": 24,
      "outputs": [
        {
          "output_type": "stream",
          "text": [
            "Models\tAccuracy (%)\n",
            "rf\t99.92±0.04\n",
            "dt\tnan±nan\n",
            "knn\tnan±nan\n",
            "svm\tnan±nan\n",
            "lr\tnan±nan\n",
            "lda\tnan±nan\n",
            "ab\tnan±nan\n",
            "nb\tnan±nan\n",
            "keras\tnan±nan\n",
            "fastai\tnan±nan\n"
          ],
          "name": "stdout"
        },
        {
          "output_type": "stream",
          "text": [
            "/usr/local/lib/python3.6/dist-packages/numpy/lib/function_base.py:393: RuntimeWarning: Mean of empty slice.\n",
            "  avg = a.mean(axis)\n",
            "/usr/local/lib/python3.6/dist-packages/numpy/core/_methods.py:161: RuntimeWarning: invalid value encountered in double_scalars\n",
            "  ret = ret.dtype.type(ret / rcount)\n",
            "/usr/local/lib/python3.6/dist-packages/numpy/core/_methods.py:217: RuntimeWarning: Degrees of freedom <= 0 for slice\n",
            "  keepdims=keepdims)\n",
            "/usr/local/lib/python3.6/dist-packages/numpy/core/_methods.py:186: RuntimeWarning: invalid value encountered in true_divide\n",
            "  arrmean, rcount, out=arrmean, casting='unsafe', subok=False)\n",
            "/usr/local/lib/python3.6/dist-packages/numpy/core/_methods.py:209: RuntimeWarning: invalid value encountered in double_scalars\n",
            "  ret = ret.dtype.type(ret / rcount)\n"
          ],
          "name": "stderr"
        }
      ]
    }
  ]
}