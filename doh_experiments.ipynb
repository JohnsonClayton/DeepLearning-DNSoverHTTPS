{
  "nbformat": 4,
  "nbformat_minor": 0,
  "metadata": {
    "colab": {
      "name": "doh_experiments.ipynb",
      "provenance": [],
      "collapsed_sections": []
    },
    "kernelspec": {
      "name": "python3",
      "display_name": "Python 3"
    }
  },
  "cells": [
    {
      "cell_type": "markdown",
      "metadata": {
        "id": "AZu86kpZXYSL",
        "colab_type": "text"
      },
      "source": [
        "# DNS over HTTPS Experiments\n",
        "This notebook serves to run all the experiments for our work on the CIRA-CIC-DoHBrw-2020 dataset. This notebook will train and validate 9 machine learning models and 2 deep learning models. Additionally, the experiments will determine how the performance of these models changes as we increase the size of the feature set."
      ]
    },
    {
      "cell_type": "code",
      "metadata": {
        "id": "HXTulVCwXKYz",
        "colab_type": "code",
        "colab": {
          "base_uri": "https://localhost:8080/",
          "height": 34
        },
        "outputId": "73f8f6f1-1bcb-4304-c7c7-e738982b67bd"
      },
      "source": [
        "# Import the dataset saved on the google drive\n",
        "from google.colab import drive\n",
        "\n",
        "# Graphing capabilities\n",
        "import matplotlib.pyplot as plt\n",
        "\n",
        "# Data management\n",
        "import pandas as pd\n",
        "import numpy as np\n",
        "\n",
        "# For stratified 10-fold cross validation\n",
        "from sklearn.model_selection import StratifiedKFold\n",
        "\n",
        "# Scikit-Learn ML Models\n",
        "from sklearn.ensemble import RandomForestClassifier\n",
        "from sklearn.tree import DecisionTreeClassifier\n",
        "from sklearn.neighbors import KNeighborsClassifier\n",
        "from sklearn.svm import SVC\n",
        "from sklearn.linear_model import LogisticRegression\n",
        "from sklearn.discriminant_analysis import LinearDiscriminantAnalysis\n",
        "from sklearn.ensemble import AdaBoostClassifier\n",
        "from sklearn.naive_bayes import GaussianNB\n",
        "\n",
        "# Keras-TensorFlow DNN Model\n",
        "from keras.models import Sequential\n",
        "from keras.layers import BatchNormalization, Dense, Dropout\n",
        "from keras.regularizers import l2\n",
        "\n",
        "# Fast.ai DNN Model\n",
        "from fastai.tabular import *\n",
        "\n",
        "# Normalization\n",
        "from keras.utils import normalize, to_categorical\n",
        "\n",
        "print('Imports complete.')"
      ],
      "execution_count": 1,
      "outputs": [
        {
          "output_type": "stream",
          "text": [
            "Imports complete.\n"
          ],
          "name": "stdout"
        }
      ]
    },
    {
      "cell_type": "markdown",
      "metadata": {
        "id": "n59u-0dtv9JI",
        "colab_type": "text"
      },
      "source": [
        "## Custom Objects and Functions\n",
        "Below are the custom objects and functions created for these sorts of projects. We will begin by going through all of these and briefly describing what they are used for and what they do. Where appropriate, there should also be descriptions available through the `help` function as well. \n"
      ]
    },
    {
      "cell_type": "markdown",
      "metadata": {
        "id": "X2v4tgvtwUd2",
        "colab_type": "text"
      },
      "source": [
        "### Metric Management\n",
        "Below, we have two separate objects created to help alleviate in-code management of metrics. Previously, the code to manipulate metric data was incorporated within the model training functions and involved dictionaries within dictionaries. In an attempt to resolve the readability and debugging issues that were arising, this OOP-based method should be easier to understand!  \n",
        "Here, we will start by explaining some of the inner workings of the `Metric` object, then we will move on to explaining the `MetricsManager` object.\n",
        "\n",
        "#### Metric Object\n",
        "Each metric has an assigned name and fold value. In this case, the `self.name` attribute refers to the name of the model the metric is for (I'm sorry if this is not intuitive, when I was making the code it felt more intuitive than it does when I'm writing the documentation!). Appropriately, `self.fold_num` refers to which fold this specific metric was collected from. While this may not be entirely important, it's helpful to be able to distinguish between the values acquired across folds. This also allows us to keep track of a few different things simultaneously. Another thought behind this is having the fold number readily available may assist in expanding the code.  \n",
        "Regardless of that stuff, **what does this object actually do?** Good question. The Metric object is made to hold all the metrics gathered from a specific model in a given fold. For example, if I am on the fifth fold of running `RandomForestClassifier` and have acquired the accuracy of 97% through `RandomForestClassifier.score()`, assuming I've already created a `MetricsManager` object, then all I have to do to save this information for later is: \n",
        "```\n",
        "# Example 1\n",
        "metric = Metric('rf', fold_num=5)\n",
        "metric.addValue('acc', 0.97)\n",
        "metrics_manager.addMetric(metric)\n",
        "```\n",
        "While there is no standardization among the names of the models or measures (read metrics), consistency across code is helpful. The code below will work -- because the computer doesn't have an understanding about what \"accuracy\" means -- however the output will be less than helpful since it will treat `acc` as a separate measure than `Accuracy`, as seen in Example 2. Also, note that how the form in which the data is handed through the API will affect the output. This is also demonstrated in Example 2 Output.  \n",
        "```\n",
        "# Example 2\n",
        "metric0 = Metric('RandomForest', fold_num=1)\n",
        "metric0.addValue('Accuracy', 97.50)\n",
        "metrics_manager.addMetric(metric0)\n",
        "\n",
        "metric1 = Metric('cart', fold_num=1)\n",
        "metric1.addValue('acc', 0.95)\n",
        "metrics_manager.addMetric(metric1)\n",
        "```\n",
        "and the output\n",
        "```\n",
        "# Example 2 Output\n",
        "model     Accuracy   acc        \n",
        "---------------------\n",
        "RandomForest 97.50±0.00           \n",
        "cart                  0.95±0.00\n",
        "```\n",
        "It ain't the smartest beast in the word, but it can clean up the code substantially. If you care about how clean the output, or if you want to automatically generate a table for markdown, do it yourself.\n",
        "Other than that, the `Metric` object has clearly-defined getters and setters. If you need something, feel free to add it.\n",
        "\n",
        "#### MetricsManager object\n",
        "This object is *way* more and interesting. Every `MetricsManager` object will have an internal list of all the `Metric` objects it knows. You can see how to add a `Metric` object in both Example 1 and 2. The `getMetrics()` method will return the `Metric` objects the manager knows about that meet the given criteria. As an example, if we hand the manager a bunch of information and then we only want some of it back (Example 3), we can do that!\n",
        "```\n",
        "# Example 3\n",
        "mm = MetricsManager()\n",
        "\n",
        "m = Metric('rf', fold=1)\n",
        "m.addValue('acc', 0.97)\n",
        "m.addValue('time', 0.39)\n",
        "mm.addMetric(m)\n",
        "\n",
        "m = Metric('rf', fold=2)\n",
        "m.addValue('acc', 0.95)\n",
        "m.addValue('time', 0.99)\n",
        "mm.addMetric(m)\n",
        "\n",
        "m = Metric('rf', fold=3)\n",
        "m.addValue('acc', 0.93)\n",
        "m.addValue('time', 0.98)\n",
        "mm.addMetric(m)\n",
        "\n",
        "m = Metric('dt', fold=1)\n",
        "m.addValue('time', 0.75)\n",
        "mm.addMetric(m)\n",
        "\n",
        "m = Metric('xgboost', fold=1)\n",
        "m.addValue('acc', 0.99)\n",
        "m.addValue('time', 50)\n",
        "mm.addMetric(m)\n",
        "\n",
        "m = Metric('xgboost', fold=1)\n",
        "m.addValue('acc', 0.99)\n",
        "m.addValue('time', 519)\n",
        "mm.addMetric(m)\n",
        "\n",
        "mm.printMeasures(metrics=['time'])\n",
        "```\n",
        "```\n",
        "# Example 3 Output 1\n",
        "model     time       \n",
        "--------------\n",
        "rf         0.79±0.28\n",
        "dt         0.75±0.00\n",
        "xgboost  284.50±234.50\n",
        "```\n",
        "The `MetricsManager.printMeasures()` method will take `models` and `metrics` arguments, which may be either a single string identifier (such as `'rf'` or `'DecisionTreeClassifier'`) or a list of identifiers (`['acc', 'time']`). If you request data that the manager can not give you, however, you will not receive that data. Using the code from Example 3, we can see that if instead of `mm.printMeasures(metrics=['time'])` we say `mm.printMeasures(model=['rf', 'xgboost', 'dt'], metrics='acc')`, we will get the following output instead.\n",
        "```\n",
        "# Example 3 Output 2\n",
        "model     acc        \n",
        "--------------\n",
        "rf         0.95±0.02\n",
        "xgboost    0.99±0.00\n",
        "```"
      ]
    },
    {
      "cell_type": "code",
      "metadata": {
        "id": "xsOa5L_GvOAU",
        "colab_type": "code",
        "colab": {}
      },
      "source": [
        "# Objects used to help manage the metrics data\n",
        "class Metric:\n",
        "    def __init__(self, name, fold):\n",
        "        self.name = name\n",
        "        self.fold_num = fold\n",
        "        self.values = {}\n",
        "\n",
        "    def __str__(self):\n",
        "        return str({self.name: self.values})\n",
        "\n",
        "    def __repr__(self):\n",
        "        return str({self.name: self.values})\n",
        "\n",
        "    def addValue(self, m_type, value):\n",
        "        if m_type != None and value != None:\n",
        "            self.values[m_type] = value\n",
        "\n",
        "    def getValue(self, m_type):\n",
        "        if m_type in self.values:\n",
        "            return self.values[m_type]\n",
        "\n",
        "    def getName(self):\n",
        "        return self.name\n",
        "\n",
        "    def getMeasures(self):\n",
        "        # Retuns all the types of measurements (accuracy or time or whatever you have)\n",
        "        return self.values.keys()\n",
        "\n",
        "    def getValues(self):\n",
        "        return self.values\n",
        "\n",
        "    def containsType(self, m_type):\n",
        "        # Checks to see if the measurement type (accuracy for example) is contained in here\n",
        "        if type(m_type) == list:\n",
        "            for m in m_type:\n",
        "                if m not in self.values:\n",
        "                    return False\n",
        "            return True\n",
        "        elif type(m_type) == str:\n",
        "            if m_type in self.values:\n",
        "                return True\n",
        "            else:\n",
        "                return False\n",
        "        else:\n",
        "            return False\n",
        "\n",
        "    def getMetricWithMeasure(self, m_type):\n",
        "        # Return a metric with only the data requested, which may be in list format if there is more than one measurement desired\n",
        "        if type(m_type) == list:\n",
        "            new_metric = Metric(self.name, fold=self.fold_num)\n",
        "            for m in m_type:\n",
        "                new_metric.addValue(m, self.values[m])\n",
        "\n",
        "            return new_metric\n",
        "        elif type(m_type) == str:\n",
        "            new_metric = Metric(self.name, fold=self.fold_num)\n",
        "            new_metric.addValue(m_type, self.values[m_type])\n",
        "\n",
        "            return new_metric\n",
        "\n",
        "class MetricsManager:\n",
        "    def __init__(self):\n",
        "        self.metrics_list = []\n",
        "    \n",
        "    def getMetrics(self, model_name='all', m_type='all'):\n",
        "        # If they want everything, give them everything\n",
        "        if model_name == 'all' and m_type == 'all':\n",
        "            return self.metrics_list\n",
        "        # If they want a list of models, the conditional in the lambda function changes a little bit\n",
        "        elif type(model_name) == list:\n",
        "            # This line is a blast! It searches through all of the metrics the manager knows about, and returns all the metrics that have both the name and metrics the user wants in a list\n",
        "            return list(\n",
        "                filter(\n",
        "                    None, \n",
        "                    map( \n",
        "                        lambda m : m.getMetricWithMeasure(m_type) if (m.getName() in model_name) and (m.containsType(m_type) or m_type == 'all') else None, \n",
        "                        self.metrics_list\n",
        "                    )\n",
        "                )\n",
        "            )\n",
        "        # Return the data requested as per the terrible line below\n",
        "        else:\n",
        "            # This line is a blast! It searches through all of the metrics the manager knows about, and returns all the metrics that have both the name and metrics the user wants in a list\n",
        "            return list(\n",
        "                filter(\n",
        "                    None, \n",
        "                    map( \n",
        "                        lambda m : m.getMetricWithMeasure(m_type) if (m.getName() == model_name or model_name == 'all') and (m.containsType(m_type) or m_type == 'all') else None, \n",
        "                        self.metrics_list\n",
        "                    )\n",
        "                )\n",
        "            )\n",
        "\n",
        "    def addMetric(self, metric):\n",
        "        self.metrics_list.append(metric)\n",
        "\n",
        "    def printMeasures(self, model='all', metrics='all'):\n",
        "        # Acquire all of the metrics the user wants us to print first so there's no weird filtering going on later\n",
        "        metrics = self.getMetrics(model_name=model, m_type=metrics)\n",
        "\n",
        "        # Figure out all of the metrics that are going to be available and figure out their ordering\n",
        "        #   If we are printing time and accuracy data, we want the columns to be consistent\n",
        "        measurements = []\n",
        "        for metric in metrics:\n",
        "            metric_measures = metric.getMeasures()\n",
        "            for measure in metric_measures:\n",
        "                if measure not in measurements:\n",
        "                    measurements.append(measure)\n",
        "\n",
        "        # Formatting for the header, we need to print the model column name, then each of the values collected\n",
        "        print('{:10}'.format('model'), end='')\n",
        "        for measure in measurements:\n",
        "            print('{:11}'.format(measure), end='')\n",
        "        print('\\n', end='')\n",
        "        print('-------'*(len(measurements)+1))\n",
        "\n",
        "        # Go through all of the models and print their data one line at a time\n",
        "        printed_models = []\n",
        "        for metric in metrics:\n",
        "            metric_name = metric.getName()\n",
        "            \n",
        "            # If the model hasn't already been printed (this can happen if I have multiple folds for one classifier), then print the data\n",
        "            if metric_name not in printed_models:\n",
        "                print('{:9}'.format(metric_name), end='')\n",
        "\n",
        "                # Get all of the values stored in this metric (it's in a dictionary)\n",
        "                metric_values = metric.getValues()\n",
        "                \n",
        "                # Go through all of the measurement values in the order as determined above\n",
        "                for measure in measurements:\n",
        "                    if measure in metric_values:\n",
        "                        # We need to go through all of the data and calculate the mean and std deviation from each fold\n",
        "                        #  If there are no folds, then this won't cause any damage (Keep unique identifiers!)\n",
        "                        vals = []\n",
        "                        for m in metrics:\n",
        "                            if m.getName() == metric_name:\n",
        "                                vals.append(m.getValues()[measure])\n",
        "                        # Print the calcuated mean and standard deviations\n",
        "                        print('{:6.2f}\\u00B1{:6<.2f}'.format(np.mean(vals), np.std(vals)), end='')\n",
        "                    # If there is no value to print, just skip over this element\n",
        "                    else:\n",
        "                        print(' '*11, end='')\n",
        "                # Make note of the model we just printed. We don't want any repeats\n",
        "                printed_models.append(metric_name)\n",
        "                print('\\n', end='')"
      ],
      "execution_count": 2,
      "outputs": []
    },
    {
      "cell_type": "code",
      "metadata": {
        "id": "j0jZnJY1zDBC",
        "colab_type": "code",
        "colab": {
          "base_uri": "https://localhost:8080/",
          "height": 86
        },
        "outputId": "690e2be0-db7b-4871-f7e4-10b3e49d616d"
      },
      "source": [
        "# Metric manager tests and examples\n",
        "mm = MetricsManager()\n",
        "\n",
        "m = Metric('rf', fold=1)\n",
        "m.addValue('acc', 0.97)\n",
        "m.addValue('time', 0.39)\n",
        "mm.addMetric(m)\n",
        "\n",
        "m = Metric('rf', fold=2)\n",
        "m.addValue('acc', 0.95)\n",
        "m.addValue('time', 0.99)\n",
        "mm.addMetric(m)\n",
        "\n",
        "m = Metric('rf', fold=3)\n",
        "m.addValue('acc', 0.93)\n",
        "m.addValue('time', 0.98)\n",
        "mm.addMetric(m)\n",
        "\n",
        "m = Metric('dt', fold=1)\n",
        "m.addValue('time', 0.75)\n",
        "mm.addMetric(m)\n",
        "\n",
        "m = Metric('xgboost', fold=1)\n",
        "m.addValue('acc', 0.99)\n",
        "m.addValue('time', 50)\n",
        "mm.addMetric(m)\n",
        "\n",
        "m = Metric('xgboost', fold=1)\n",
        "m.addValue('acc', 0.99)\n",
        "m.addValue('time', 519)\n",
        "mm.addMetric(m)\n",
        "\n",
        "mm.printMeasures(model=['rf', 'xgboost', 'dt'], metrics='acc')"
      ],
      "execution_count": 3,
      "outputs": [
        {
          "output_type": "stream",
          "text": [
            "model     acc        \n",
            "--------------\n",
            "rf         0.95±0.02\n",
            "xgboost    0.99±0.00\n"
          ],
          "name": "stdout"
        }
      ]
    },
    {
      "cell_type": "code",
      "metadata": {
        "id": "ar5VnVOJz7jJ",
        "colab_type": "code",
        "colab": {
          "base_uri": "https://localhost:8080/",
          "height": 86
        },
        "outputId": "d87f1057-1b6a-4660-f86a-079ed9709def"
      },
      "source": [
        "metrics_manager = MetricsManager()\n",
        "\n",
        "metric0 = Metric('RandomForest', fold=1)\n",
        "metric0.addValue('Accuracy', 97.50)\n",
        "metrics_manager.addMetric(metric0)\n",
        "\n",
        "metric1 = Metric('cart', fold=1)\n",
        "metric1.addValue('acc', 0.95)\n",
        "metrics_manager.addMetric(metric1)\n",
        "\n",
        "metrics_manager.printMeasures()"
      ],
      "execution_count": 4,
      "outputs": [
        {
          "output_type": "stream",
          "text": [
            "model     Accuracy   acc        \n",
            "---------------------\n",
            "RandomForest 97.50±0.00           \n",
            "cart                  0.95±0.00\n"
          ],
          "name": "stdout"
        }
      ]
    },
    {
      "cell_type": "code",
      "metadata": {
        "id": "Iv30p0jtXQpd",
        "colab_type": "code",
        "colab": {}
      },
      "source": [
        "def train_and_eval_on(X, y, feature_set, metrics_manager):\n",
        "    \"\"\"\n",
        "    train_and_eval_on function\n",
        "        Description: This function will train all the models on the given feature set of the X (data) for predicting y (target) and add the acquired metrics \n",
        "          to the MetricsManager object from the user\n",
        "\n",
        "        Args: \n",
        "            X => pd.DataFrame object containing the data\n",
        "            y => pd.Series object containings the target classifications\n",
        "            feature_set => list of features in X to use for training\n",
        "            metrics_manager => MetricsManager object (custom)\n",
        "\n",
        "        Returns:\n",
        "            Nothing\n",
        "        \n",
        "        Keys used for the manager:\n",
        "                        Random Forest => rf\n",
        "                        Decision Tree => dt\n",
        "                        k-Nearest Neighbors => knn\n",
        "                        Support Vector Machine => svm\n",
        "                        Logistic Regression => lr\n",
        "                        Linear Discriminant Analysis => lda\n",
        "                        AdaBoost => ab\n",
        "                        Naive Bayes => nb\n",
        "                        Keras-TensorFlow => keras\n",
        "                        Fast.ai => fastai\n",
        "    \"\"\"\n",
        "\n",
        "    # Select the given features within the data\n",
        "    X = X[feature_set]\n",
        "\n",
        "    print('Training with {} features'.format(len(X.columns)))\n",
        "\n",
        "    # Create stratified, 10-fold cross validation object\n",
        "    random_state = 0\n",
        "    sss = StratifiedKFold(n_splits=10, shuffle=True, random_state=random_state)\n",
        "\n",
        "    i=1\n",
        "\n",
        "    # Experiment with 10-fold cross validation\n",
        "    for train_idx, test_idx in sss.split(X, y):\n",
        "\n",
        "        print('fold num {}'.format(i))\n",
        "        i+=1\n",
        "\n",
        "        # Split the data into the training and testing sets\n",
        "        X_train, X_test = X.iloc[train_idx], X.iloc[test_idx]\n",
        "        y_train, y_test = y.iloc[train_idx], y.iloc[test_idx]\n",
        "\n",
        "        # Random Forest Model\n",
        "        rf = RandomForestClassifier(random_state=random_state)\n",
        "        rf.fit(X_train, y_train)\n",
        "        score = rf.score(X_test, y_test)\n",
        "\n",
        "        m = Metric('rf', fold=i)\n",
        "        m.addValue('acc', 100*score)\n",
        "        mm.addMetric(m)\n",
        "\n",
        "        # Decision Tree Model\n",
        "        dt = DecisionTreeClassifier(random_state=random_state)\n",
        "        dt.fit(X_train, y_train)\n",
        "        score = dt.score(X_test, y_test)\n",
        "\n",
        "        m = Metric('dt', fold=i)\n",
        "        m.addValue('acc', 100*score)\n",
        "        mm.addMetric(m)\n",
        "\n",
        "        # k-Nearest Neighbors Model\n",
        "        knn = KNeighborsClassifier()\n",
        "        knn.fit(X_train, y_train)\n",
        "        score = knn.score(X_test, y_test)\n",
        "\n",
        "        m = Metric('knn', fold=i)\n",
        "        m.addValue('acc', 100*score)\n",
        "        mm.addMetric(m)\n",
        "\n",
        "        # Support Vector Machine Model\n",
        "        svm = SVC(random_state=random_state)\n",
        "        svm.fit(X_train, y_train)\n",
        "        score = svm.score(X_test, y_test)\n",
        "\n",
        "        m = Metric('svm', fold=i)\n",
        "        m.addValue('acc', 100*score)\n",
        "        mm.addMetric(m)\n",
        "\n",
        "        # Logistic Regression Model\n",
        "        lr = LogisticRegression(random_state=random_state)\n",
        "        lr.fit(X_train, y_train)\n",
        "        score = lr.score(X_test, y_test)\n",
        "\n",
        "        m = Metric('lr', fold=i)\n",
        "        m.addValue('acc', 100*score)\n",
        "        mm.addMetric(m)\n",
        "\n",
        "        # Linear Discriminant Analysis Model\n",
        "        lda = LinearDiscriminantAnalysis()\n",
        "        lda.fit(X_train, y_train)\n",
        "        score = lda.score(X_test, y_test)\n",
        "\n",
        "        m = Metric('lda', fold=i)\n",
        "        m.addValue('acc', 100*score)\n",
        "        mm.addMetric(m)\n",
        "\n",
        "        # AdaBoost Model\n",
        "        ab = AdaBoostClassifier(random_state=random_state)\n",
        "        ab.fit(X_train, y_train)\n",
        "        score = ab.score(X_test, y_test)\n",
        "\n",
        "        m = Metric('ab', fold=i)\n",
        "        m.addValue('acc', 100*score)\n",
        "        mm.addMetric(m)\n",
        "\n",
        "        # Naive Bayes Model\n",
        "        nb = GaussianNB()\n",
        "        nb.fit(X_train, y_train)\n",
        "        score = nb.score(X_test, y_test)\n",
        "\n",
        "        m = Metric('nb', fold=i)\n",
        "        m.addValue('acc', 100*score)\n",
        "        mm.addMetric(m)\n",
        "\n",
        "        # Keras-TensorFlow DNN Model\n",
        "        dnn_keras = Sequential(layers=[\n",
        "                                 Dense(128, kernel_regularizer=l2(0.001), activation='relu',input_shape=(len(X_train.columns),)),\n",
        "                                 BatchNormalization(),\n",
        "                                 Dense(64, activation='relu', kernel_regularizer=l2(0.001)),\n",
        "                                 BatchNormalization(),\n",
        "                                 Dense(y_train.nunique(), activation='softmax')\n",
        "        ])\n",
        "        dnn_keras.compile(\n",
        "            optimizer='adam', \n",
        "            loss='categorical_crossentropy', \n",
        "            metrics=['accuracy'])\n",
        "        dnn_keras.fit(X_train, pd.get_dummies(y_train), epochs=100, verbose=0, batch_size=512)\n",
        "        _, score = dnn_keras.evaluate(X_test, pd.get_dummies(y_test), verbose=0)\n",
        "\n",
        "        m = Metric('keras', fold=i)\n",
        "        m.addValue('acc', 100*score)\n",
        "        mm.addMetric(m)\n",
        "\n",
        "        # Fast.ai DNN Model\n",
        "        data_fold = (TabularList.from_df(df, path=path, cont_names=X_train.columns, procs=[Categorify, Normalize])\n",
        "                     .split_by_idxs(train_idx, test_idx)\n",
        "                     .label_from_df(cols=dep_var)\n",
        "                     .databunch(num_workers=0))\n",
        "        dnn_fastai = tabular_learner(data_fold, layers=[200, 100], metrics=accuracy)\n",
        "        dnn_fastai.fit_one_cycle(cyc_len=10, callbacks=None)\n",
        "        _, score = dnn_fastai.validate()\n",
        "\n",
        "        m = Metric('fastai', fold=i)\n",
        "        m.addValue('acc', 100*score)\n",
        "        mm.addMetric(m)"
      ],
      "execution_count": 5,
      "outputs": []
    },
    {
      "cell_type": "code",
      "metadata": {
        "id": "gNtzSH3nX-rW",
        "colab_type": "code",
        "colab": {}
      },
      "source": [
        "def show_graph(figure, feature_count, metrics_dict, exp_type=''):\n",
        "  \"\"\"\n",
        "  show_graph function\n",
        "\n",
        "    Description: This function will take the metrics dictionary provided and update the graph already to show the most recent results\n",
        "\n",
        "    Args:\n",
        "      figure => matplotlib.pyplot.figure object\n",
        "      metrics_dict => dictionary of metrics as described in `train_and_eval_on` function\n",
        "      exp_type => string indicating the type of experiment to change the title of the graph\n",
        "\n",
        "    Returns:\n",
        "      nothing\n",
        "  \"\"\"\n",
        "  # Reorganize the data so we have all of the random forest metrics with increasing features side by side\n",
        "  reorganized_dictionary = {}\n",
        "\n",
        "  for feature_vals in metrics_dict.keys():\n",
        "    for key in metrics_dict[feature_vals].keys():\n",
        "      # If a given model is not in the new dictionary, add it\n",
        "      if key not in reorganized_dictionary:\n",
        "        reorganized_dictionary[key] = {}\n",
        "\n",
        "      # If there isn't a specific feature number in the model dictionary, add it\n",
        "      if feature_vals not in reorganized_dictionary[key]:\n",
        "        reorganized_dictionary[key][feature_vals] = []\n",
        "\n",
        "      # If there is anything to the record, add it\n",
        "      if len( metrics_dict[feature_vals][key] ) > 0:\n",
        "        accuracies = metrics_dict[feature_vals][key]\n",
        "        mean = np.mean(accuracies)\n",
        "        std = np.std(accuracies)\n",
        "\n",
        "        #print('Accuracies: {}'.format(accuracies))\n",
        "        #print('Mean: {}'.format(mean))\n",
        "        #print('Std: {}'.format(std))\n",
        "\n",
        "        reorganized_dictionary[key][feature_vals].append( [mean, std] ) \n",
        "\n",
        "  #print('Models: {}'.format( list(reorganized_dictionary.keys()) ))\n",
        "\n",
        "  for model in reorganized_dictionary.keys():\n",
        "    # The x-axis will have the feature_count\n",
        "    xs = []\n",
        "\n",
        "    # The y-axis will have the accuracy for that feature_count value\n",
        "    ys = []\n",
        "\n",
        "    # The y-axis will also have the std for these accuracies since they are accumulated over 10 folds\n",
        "    yerrs = []\n",
        "\n",
        "    for x in reorganized_dictionary[model].keys():\n",
        "      if len(reorganized_dictionary[model][x]) > 0:\n",
        "        xs.append(x)\n",
        "        ys.append(reorganized_dictionary[model][x][0][0])\n",
        "        yerrs.append(reorganized_dictionary[model][x][0][1])\n",
        "    #print('xs: {}'.format(xs))\n",
        "    #print('ys: {}'.format(ys))\n",
        "    if len(xs) > 0:\n",
        "      plt.errorbar(x=xs, y=ys, yerr=yerrs, label=model)\n",
        "\n",
        "  #print(reorganized_dictionary)\n",
        "  if exp_type == 'multi':\n",
        "    plt.title('Multi-class Classification Model Accuracies with Increasing Features')\n",
        "  elif exp_type == 'binary':\n",
        "    plt.title('Binary Classification Model Accuracies with Increasing Features')\n",
        "  plt.ylabel('Accuracy')\n",
        "  plt.xlabel('Number of Features')\n",
        "\n",
        "  plt.xticks(xs[4::5])\n",
        "\n",
        "  plt.legend()\n",
        "  plt.show()\n"
      ],
      "execution_count": 6,
      "outputs": []
    },
    {
      "cell_type": "code",
      "metadata": {
        "id": "iNMkFooNZPNS",
        "colab_type": "code",
        "colab": {}
      },
      "source": [
        "def get_data(path, layer=0, nans=False):\n",
        "    \"\"\" get_data function\n",
        "        Description: This function will take the given path and user-defined layer from the dataset, import the datafiles, and then return the combined pandas DataFrame\n",
        "        Arguments:\n",
        "            path => string, path to the directory containing the l1-doh.csv, l1-nonhod.csv, etc files.\n",
        "            layer => int, the level of layer desired. This will change the dataset that is imported. Values can be 1 or 2. Default is 0.\n",
        "            nans => boolean, Whether the user wants NaNs in the data or wants them removed. This function will automatically remove all rows with Nan values.\n",
        "        Returns:\n",
        "            df => pandas.DataFrame, contains complete data\n",
        "        Raises:\n",
        "            AttributeError for incorrect layer number\n",
        "            Any additional read errors are raised to the user\n",
        "    \"\"\"\n",
        "    import pandas as pd\n",
        "\n",
        "    if layer not in [1,2]:\n",
        "        raise AttributeError('Must provide valid layer for dataset: layer equals 1 or 2')\n",
        "    else:\n",
        "\n",
        "        # Select the files that the user has chosen\n",
        "        filenames = []\n",
        "        if layer == 1:\n",
        "            filenames.append('l1-doh.csv')\n",
        "            filenames.append('l1-nondoh.csv')\n",
        "        else:\n",
        "            filenames.append('l2-benign.csv')\n",
        "            filenames.append('l2-malicious.csv')\n",
        "\n",
        "        # Read the files into dataframes\n",
        "        df0 = pd.read_csv(path + '/' + filenames[0])\n",
        "        df1 = pd.read_csv(path + '/' + filenames[1])\n",
        "\n",
        "        df = pd.concat([df0, df1])\n",
        "\n",
        "        # Remove any rows with Nan values\n",
        "        if not nans:\n",
        "            df.dropna(axis='index', inplace=True)\n",
        "\n",
        "        return df"
      ],
      "execution_count": 7,
      "outputs": []
    },
    {
      "cell_type": "code",
      "metadata": {
        "id": "GUXd3-QLfTcg",
        "colab_type": "code",
        "colab": {}
      },
      "source": [
        "def balance_data(df, label_column):\n",
        "    labels = df[label_column].unique()\n",
        "    sample_length_list = []\n",
        "    for i in range(len(labels)):\n",
        "        samples = df.loc[ df[label_column] == labels[i] ]\n",
        "        sample_length_list.append( len(samples) )\n",
        "        #print('Number of {} samples: {}'.format(labels[i], len( samples )))\n",
        "\n",
        "    random_state = 0\n",
        "    smallest_count = min(sample_length_list)\n",
        "    dfs = []\n",
        "    for i in range(len(labels)):\n",
        "        #dfs.append( df.loc[ df[label_column] == labels[i] ].sample(smallest_count) )\n",
        "\n",
        "        # We are only sampling 40 purely for testing reasons to help speed up the dev process!\n",
        "        # Uncomment the line above this to actually run the complete tests\n",
        "        dfs.append( df.loc[ df[label_column] == labels[i] ].sample(40) )\n",
        "\n",
        "    return pd.concat(dfs)"
      ],
      "execution_count": 8,
      "outputs": []
    },
    {
      "cell_type": "code",
      "metadata": {
        "id": "ud8aOpkjX-vy",
        "colab_type": "code",
        "colab": {
          "base_uri": "https://localhost:8080/",
          "height": 34
        },
        "outputId": "00aaaa08-7372-4ab6-94fa-78b8d8a12b98"
      },
      "source": [
        "# Set up google drive access\n",
        "drive.mount('/content/gdrive')"
      ],
      "execution_count": 9,
      "outputs": [
        {
          "output_type": "stream",
          "text": [
            "Drive already mounted at /content/gdrive; to attempt to forcibly remount, call drive.mount(\"/content/gdrive\", force_remount=True).\n"
          ],
          "name": "stdout"
        }
      ]
    },
    {
      "cell_type": "markdown",
      "metadata": {
        "id": "FzhSe6mRZm3M",
        "colab_type": "text"
      },
      "source": [
        "## Layer 1 Experiments: DoH or nonDoH"
      ]
    },
    {
      "cell_type": "code",
      "metadata": {
        "id": "9gbAkkEhYrXD",
        "colab_type": "code",
        "colab": {
          "base_uri": "https://localhost:8080/",
          "height": 313
        },
        "outputId": "191df35e-8412-4a26-cae2-104c6c9d5fee"
      },
      "source": [
        "path = '/content/gdrive/My Drive/doh_dataset/Total-CSVs'\n",
        "df = get_data(path=path, layer=1)\n",
        "df.head()"
      ],
      "execution_count": 10,
      "outputs": [
        {
          "output_type": "execute_result",
          "data": {
            "text/html": [
              "<div>\n",
              "<style scoped>\n",
              "    .dataframe tbody tr th:only-of-type {\n",
              "        vertical-align: middle;\n",
              "    }\n",
              "\n",
              "    .dataframe tbody tr th {\n",
              "        vertical-align: top;\n",
              "    }\n",
              "\n",
              "    .dataframe thead th {\n",
              "        text-align: right;\n",
              "    }\n",
              "</style>\n",
              "<table border=\"1\" class=\"dataframe\">\n",
              "  <thead>\n",
              "    <tr style=\"text-align: right;\">\n",
              "      <th></th>\n",
              "      <th>SourceIP</th>\n",
              "      <th>DestinationIP</th>\n",
              "      <th>SourcePort</th>\n",
              "      <th>DestinationPort</th>\n",
              "      <th>TimeStamp</th>\n",
              "      <th>Duration</th>\n",
              "      <th>FlowBytesSent</th>\n",
              "      <th>FlowSentRate</th>\n",
              "      <th>FlowBytesReceived</th>\n",
              "      <th>FlowReceivedRate</th>\n",
              "      <th>PacketLengthVariance</th>\n",
              "      <th>PacketLengthStandardDeviation</th>\n",
              "      <th>PacketLengthMean</th>\n",
              "      <th>PacketLengthMedian</th>\n",
              "      <th>PacketLengthMode</th>\n",
              "      <th>PacketLengthSkewFromMedian</th>\n",
              "      <th>PacketLengthSkewFromMode</th>\n",
              "      <th>PacketLengthCoefficientofVariation</th>\n",
              "      <th>PacketTimeVariance</th>\n",
              "      <th>PacketTimeStandardDeviation</th>\n",
              "      <th>PacketTimeMean</th>\n",
              "      <th>PacketTimeMedian</th>\n",
              "      <th>PacketTimeMode</th>\n",
              "      <th>PacketTimeSkewFromMedian</th>\n",
              "      <th>PacketTimeSkewFromMode</th>\n",
              "      <th>PacketTimeCoefficientofVariation</th>\n",
              "      <th>ResponseTimeTimeVariance</th>\n",
              "      <th>ResponseTimeTimeStandardDeviation</th>\n",
              "      <th>ResponseTimeTimeMean</th>\n",
              "      <th>ResponseTimeTimeMedian</th>\n",
              "      <th>ResponseTimeTimeMode</th>\n",
              "      <th>ResponseTimeTimeSkewFromMedian</th>\n",
              "      <th>ResponseTimeTimeSkewFromMode</th>\n",
              "      <th>ResponseTimeTimeCoefficientofVariation</th>\n",
              "      <th>Label</th>\n",
              "    </tr>\n",
              "  </thead>\n",
              "  <tbody>\n",
              "    <tr>\n",
              "      <th>0</th>\n",
              "      <td>192.168.20.191</td>\n",
              "      <td>176.103.130.131</td>\n",
              "      <td>50749</td>\n",
              "      <td>443</td>\n",
              "      <td>2020-01-14 15:49:11</td>\n",
              "      <td>95.081550</td>\n",
              "      <td>62311</td>\n",
              "      <td>655.342703</td>\n",
              "      <td>65358</td>\n",
              "      <td>687.388878</td>\n",
              "      <td>7474.676771</td>\n",
              "      <td>86.456213</td>\n",
              "      <td>135.673751</td>\n",
              "      <td>102.0</td>\n",
              "      <td>54</td>\n",
              "      <td>1.168467</td>\n",
              "      <td>0.944683</td>\n",
              "      <td>0.637236</td>\n",
              "      <td>670.585814</td>\n",
              "      <td>25.895672</td>\n",
              "      <td>45.065277</td>\n",
              "      <td>48.811292</td>\n",
              "      <td>1.495060</td>\n",
              "      <td>-0.433974</td>\n",
              "      <td>1.682529</td>\n",
              "      <td>0.574626</td>\n",
              "      <td>0.001053</td>\n",
              "      <td>0.032457</td>\n",
              "      <td>0.027624</td>\n",
              "      <td>0.026854</td>\n",
              "      <td>0.026822</td>\n",
              "      <td>0.071187</td>\n",
              "      <td>0.024715</td>\n",
              "      <td>1.174948</td>\n",
              "      <td>DoH</td>\n",
              "    </tr>\n",
              "    <tr>\n",
              "      <th>1</th>\n",
              "      <td>192.168.20.191</td>\n",
              "      <td>176.103.130.131</td>\n",
              "      <td>50749</td>\n",
              "      <td>443</td>\n",
              "      <td>2020-01-14 15:50:52</td>\n",
              "      <td>122.309318</td>\n",
              "      <td>93828</td>\n",
              "      <td>767.136973</td>\n",
              "      <td>101232</td>\n",
              "      <td>827.672018</td>\n",
              "      <td>10458.118598</td>\n",
              "      <td>102.264943</td>\n",
              "      <td>141.245474</td>\n",
              "      <td>114.0</td>\n",
              "      <td>54</td>\n",
              "      <td>0.799261</td>\n",
              "      <td>0.853132</td>\n",
              "      <td>0.724023</td>\n",
              "      <td>708.465878</td>\n",
              "      <td>26.617022</td>\n",
              "      <td>52.287903</td>\n",
              "      <td>48.830314</td>\n",
              "      <td>31.719656</td>\n",
              "      <td>0.389704</td>\n",
              "      <td>0.772748</td>\n",
              "      <td>0.509047</td>\n",
              "      <td>0.001170</td>\n",
              "      <td>0.034200</td>\n",
              "      <td>0.024387</td>\n",
              "      <td>0.021043</td>\n",
              "      <td>0.026981</td>\n",
              "      <td>0.293297</td>\n",
              "      <td>-0.075845</td>\n",
              "      <td>1.402382</td>\n",
              "      <td>DoH</td>\n",
              "    </tr>\n",
              "    <tr>\n",
              "      <th>2</th>\n",
              "      <td>192.168.20.191</td>\n",
              "      <td>176.103.130.131</td>\n",
              "      <td>50749</td>\n",
              "      <td>443</td>\n",
              "      <td>2020-01-14 15:52:55</td>\n",
              "      <td>120.958413</td>\n",
              "      <td>38784</td>\n",
              "      <td>320.639127</td>\n",
              "      <td>38236</td>\n",
              "      <td>316.108645</td>\n",
              "      <td>7300.293933</td>\n",
              "      <td>85.441758</td>\n",
              "      <td>133.715278</td>\n",
              "      <td>89.0</td>\n",
              "      <td>54</td>\n",
              "      <td>1.570027</td>\n",
              "      <td>0.932978</td>\n",
              "      <td>0.638983</td>\n",
              "      <td>1358.911235</td>\n",
              "      <td>36.863413</td>\n",
              "      <td>50.316114</td>\n",
              "      <td>39.770747</td>\n",
              "      <td>0.417528</td>\n",
              "      <td>0.858198</td>\n",
              "      <td>1.353607</td>\n",
              "      <td>0.732636</td>\n",
              "      <td>0.000785</td>\n",
              "      <td>0.028021</td>\n",
              "      <td>0.029238</td>\n",
              "      <td>0.026921</td>\n",
              "      <td>0.026855</td>\n",
              "      <td>0.248064</td>\n",
              "      <td>0.085061</td>\n",
              "      <td>0.958348</td>\n",
              "      <td>DoH</td>\n",
              "    </tr>\n",
              "    <tr>\n",
              "      <th>3</th>\n",
              "      <td>192.168.20.191</td>\n",
              "      <td>176.103.130.131</td>\n",
              "      <td>50749</td>\n",
              "      <td>443</td>\n",
              "      <td>2020-01-14 15:54:56</td>\n",
              "      <td>110.501080</td>\n",
              "      <td>61993</td>\n",
              "      <td>561.017141</td>\n",
              "      <td>69757</td>\n",
              "      <td>631.278898</td>\n",
              "      <td>8499.282518</td>\n",
              "      <td>92.191553</td>\n",
              "      <td>139.123548</td>\n",
              "      <td>114.0</td>\n",
              "      <td>54</td>\n",
              "      <td>0.817544</td>\n",
              "      <td>0.923333</td>\n",
              "      <td>0.662660</td>\n",
              "      <td>1118.135436</td>\n",
              "      <td>33.438532</td>\n",
              "      <td>51.693726</td>\n",
              "      <td>34.882495</td>\n",
              "      <td>13.280934</td>\n",
              "      <td>1.508251</td>\n",
              "      <td>1.148758</td>\n",
              "      <td>0.646859</td>\n",
              "      <td>0.000411</td>\n",
              "      <td>0.020274</td>\n",
              "      <td>0.019925</td>\n",
              "      <td>0.019268</td>\n",
              "      <td>0.026918</td>\n",
              "      <td>0.097199</td>\n",
              "      <td>-0.344926</td>\n",
              "      <td>1.017535</td>\n",
              "      <td>DoH</td>\n",
              "    </tr>\n",
              "    <tr>\n",
              "      <th>4</th>\n",
              "      <td>176.103.130.131</td>\n",
              "      <td>192.168.20.191</td>\n",
              "      <td>443</td>\n",
              "      <td>50749</td>\n",
              "      <td>2020-01-14 15:56:46</td>\n",
              "      <td>54.229891</td>\n",
              "      <td>83641</td>\n",
              "      <td>1542.341289</td>\n",
              "      <td>76804</td>\n",
              "      <td>1416.266907</td>\n",
              "      <td>8052.745751</td>\n",
              "      <td>89.737092</td>\n",
              "      <td>138.913420</td>\n",
              "      <td>114.0</td>\n",
              "      <td>114</td>\n",
              "      <td>0.832880</td>\n",
              "      <td>0.277627</td>\n",
              "      <td>0.645993</td>\n",
              "      <td>341.696613</td>\n",
              "      <td>18.485038</td>\n",
              "      <td>36.435619</td>\n",
              "      <td>49.822561</td>\n",
              "      <td>7.342519</td>\n",
              "      <td>-2.172613</td>\n",
              "      <td>1.573873</td>\n",
              "      <td>0.507334</td>\n",
              "      <td>0.079079</td>\n",
              "      <td>0.281209</td>\n",
              "      <td>0.025930</td>\n",
              "      <td>0.000047</td>\n",
              "      <td>0.000021</td>\n",
              "      <td>0.276133</td>\n",
              "      <td>0.092135</td>\n",
              "      <td>10.844829</td>\n",
              "      <td>DoH</td>\n",
              "    </tr>\n",
              "  </tbody>\n",
              "</table>\n",
              "</div>"
            ],
            "text/plain": [
              "          SourceIP  ... Label\n",
              "0   192.168.20.191  ...   DoH\n",
              "1   192.168.20.191  ...   DoH\n",
              "2   192.168.20.191  ...   DoH\n",
              "3   192.168.20.191  ...   DoH\n",
              "4  176.103.130.131  ...   DoH\n",
              "\n",
              "[5 rows x 35 columns]"
            ]
          },
          "metadata": {
            "tags": []
          },
          "execution_count": 10
        }
      ]
    },
    {
      "cell_type": "code",
      "metadata": {
        "id": "BttPHEEZZZHd",
        "colab_type": "code",
        "colab": {}
      },
      "source": [
        "bad_columns = ['SourceIP', 'DestinationIP', 'SourcePort', 'DestinationPort', 'TimeStamp']\n",
        "df.drop(labels=bad_columns, axis='columns', inplace=True)"
      ],
      "execution_count": 11,
      "outputs": []
    },
    {
      "cell_type": "code",
      "metadata": {
        "id": "10RmnzFXZdP1",
        "colab_type": "code",
        "colab": {
          "base_uri": "https://localhost:8080/",
          "height": 69
        },
        "outputId": "9e507954-b646-4dda-8644-2aaa562e8faf"
      },
      "source": [
        "# The target classifications are in the 'Label' columns, \n",
        "#  thus this is the independent variable!\n",
        "dep_var = 'Label'\n",
        "df[dep_var].value_counts()"
      ],
      "execution_count": 12,
      "outputs": [
        {
          "output_type": "execute_result",
          "data": {
            "text/plain": [
              "NonDoH    889809\n",
              "DoH       269299\n",
              "Name: Label, dtype: int64"
            ]
          },
          "metadata": {
            "tags": []
          },
          "execution_count": 12
        }
      ]
    },
    {
      "cell_type": "code",
      "metadata": {
        "id": "17HxSHjjgkox",
        "colab_type": "code",
        "colab": {}
      },
      "source": [
        "# Balance the data out\n",
        "df = balance_data(df, dep_var)"
      ],
      "execution_count": 13,
      "outputs": []
    },
    {
      "cell_type": "code",
      "metadata": {
        "id": "gHHcLr9QgnRO",
        "colab_type": "code",
        "colab": {
          "base_uri": "https://localhost:8080/",
          "height": 69
        },
        "outputId": "9ebf41a2-4938-4a5a-cf1c-22bf6cb830ea"
      },
      "source": [
        "df[dep_var].value_counts()"
      ],
      "execution_count": 14,
      "outputs": [
        {
          "output_type": "execute_result",
          "data": {
            "text/plain": [
              "NonDoH    40\n",
              "DoH       40\n",
              "Name: Label, dtype: int64"
            ]
          },
          "metadata": {
            "tags": []
          },
          "execution_count": 14
        }
      ]
    },
    {
      "cell_type": "code",
      "metadata": {
        "id": "sGzXo9tkZdBk",
        "colab_type": "code",
        "colab": {}
      },
      "source": [
        "# Split up the data into the data (X) and classifications (y)\n",
        "X = df.loc[:, df.columns != dep_var]\n",
        "y = df[dep_var]"
      ],
      "execution_count": 15,
      "outputs": []
    },
    {
      "cell_type": "code",
      "metadata": {
        "id": "495Wym42X-zQ",
        "colab_type": "code",
        "colab": {
          "base_uri": "https://localhost:8080/",
          "height": 52
        },
        "outputId": "bda1e047-7e6e-4c69-b1c3-2a2bfd671973"
      },
      "source": [
        "best_features_layer1 = ['Duration', 'ResponseTimeTimeSkewFromMedian', 'ResponseTimeTimeMode',\n",
        "       'ResponseTimeTimeMedian', 'ResponseTimeTimeMean',\n",
        "       'PacketTimeSkewFromMedian', 'PacketTimeMode', 'PacketTimeMedian',\n",
        "       'PacketTimeMean', 'ResponseTimeTimeSkewFromMode', 'PacketTimeVariance',\n",
        "       'PacketLengthCoefficientofVariation', 'PacketTimeStandardDeviation',\n",
        "       'PacketLengthMode', 'PacketLengthMedian', 'PacketLengthMean',\n",
        "       'FlowBytesSent', 'ResponseTimeTimeCoefficientofVariation',\n",
        "       'PacketLengthStandardDeviation', 'PacketLengthVariance',\n",
        "       'PacketTimeCoefficientofVariation', 'FlowReceivedRate',\n",
        "       'ResponseTimeTimeStandardDeviation', 'PacketLengthSkewFromMode',\n",
        "       'FlowBytesReceived', 'PacketLengthSkewFromMedian', 'FlowSentRate',\n",
        "       'ResponseTimeTimeVariance', 'PacketTimeSkewFromMode']\n",
        "print('These are the best 4 features for layer 1: {}'.format(best_features_layer1[:4]))\n",
        "print('These are the worst 4 features for layer 1: {}'.format(best_features_layer1[-4:]))"
      ],
      "execution_count": 16,
      "outputs": [
        {
          "output_type": "stream",
          "text": [
            "These are the best 4 features for layer 1: ['Duration', 'ResponseTimeTimeSkewFromMedian', 'ResponseTimeTimeMode', 'ResponseTimeTimeMedian']\n",
            "These are the worst 4 features for layer 1: ['PacketLengthSkewFromMedian', 'FlowSentRate', 'ResponseTimeTimeVariance', 'PacketTimeSkewFromMode']\n"
          ],
          "name": "stdout"
        }
      ]
    },
    {
      "cell_type": "code",
      "metadata": {
        "id": "SZQIjcBnZyse",
        "colab_type": "code",
        "colab": {
          "base_uri": "https://localhost:8080/",
          "height": 1000
        },
        "outputId": "388cce1d-e920-444c-f08c-05d74bf7fde3"
      },
      "source": [
        "mm = MetricsManager()\n",
        "\n",
        "train_and_eval_on(X=X, y=y, feature_set=best_features_layer1, metrics_manager=mm)"
      ],
      "execution_count": 17,
      "outputs": [
        {
          "output_type": "stream",
          "text": [
            "Training with 29 features\n",
            "fold num 1\n"
          ],
          "name": "stdout"
        },
        {
          "output_type": "stream",
          "text": [
            "/usr/local/lib/python3.6/dist-packages/sklearn/linear_model/_logistic.py:940: ConvergenceWarning: lbfgs failed to converge (status=1):\n",
            "STOP: TOTAL NO. of ITERATIONS REACHED LIMIT.\n",
            "\n",
            "Increase the number of iterations (max_iter) or scale the data as shown in:\n",
            "    https://scikit-learn.org/stable/modules/preprocessing.html\n",
            "Please also refer to the documentation for alternative solver options:\n",
            "    https://scikit-learn.org/stable/modules/linear_model.html#logistic-regression\n",
            "  extra_warning_msg=_LOGISTIC_SOLVER_CONVERGENCE_MSG)\n"
          ],
          "name": "stderr"
        },
        {
          "output_type": "display_data",
          "data": {
            "text/html": [
              "<table border=\"1\" class=\"dataframe\">\n",
              "  <thead>\n",
              "    <tr style=\"text-align: left;\">\n",
              "      <th>epoch</th>\n",
              "      <th>train_loss</th>\n",
              "      <th>valid_loss</th>\n",
              "      <th>accuracy</th>\n",
              "      <th>time</th>\n",
              "    </tr>\n",
              "  </thead>\n",
              "  <tbody>\n",
              "    <tr>\n",
              "      <td>0</td>\n",
              "      <td>0.586454</td>\n",
              "      <td>0.694920</td>\n",
              "      <td>0.500000</td>\n",
              "      <td>00:00</td>\n",
              "    </tr>\n",
              "    <tr>\n",
              "      <td>1</td>\n",
              "      <td>0.580707</td>\n",
              "      <td>0.689570</td>\n",
              "      <td>0.500000</td>\n",
              "      <td>00:00</td>\n",
              "    </tr>\n",
              "    <tr>\n",
              "      <td>2</td>\n",
              "      <td>0.531031</td>\n",
              "      <td>0.680415</td>\n",
              "      <td>0.875000</td>\n",
              "      <td>00:00</td>\n",
              "    </tr>\n",
              "    <tr>\n",
              "      <td>3</td>\n",
              "      <td>0.475715</td>\n",
              "      <td>0.669179</td>\n",
              "      <td>0.625000</td>\n",
              "      <td>00:00</td>\n",
              "    </tr>\n",
              "    <tr>\n",
              "      <td>4</td>\n",
              "      <td>0.423041</td>\n",
              "      <td>0.653644</td>\n",
              "      <td>0.625000</td>\n",
              "      <td>00:00</td>\n",
              "    </tr>\n",
              "    <tr>\n",
              "      <td>5</td>\n",
              "      <td>0.384319</td>\n",
              "      <td>0.643595</td>\n",
              "      <td>0.625000</td>\n",
              "      <td>00:00</td>\n",
              "    </tr>\n",
              "    <tr>\n",
              "      <td>6</td>\n",
              "      <td>0.351636</td>\n",
              "      <td>0.634413</td>\n",
              "      <td>0.625000</td>\n",
              "      <td>00:00</td>\n",
              "    </tr>\n",
              "    <tr>\n",
              "      <td>7</td>\n",
              "      <td>0.324862</td>\n",
              "      <td>0.626189</td>\n",
              "      <td>0.625000</td>\n",
              "      <td>00:00</td>\n",
              "    </tr>\n",
              "    <tr>\n",
              "      <td>8</td>\n",
              "      <td>0.302895</td>\n",
              "      <td>0.617732</td>\n",
              "      <td>0.625000</td>\n",
              "      <td>00:00</td>\n",
              "    </tr>\n",
              "    <tr>\n",
              "      <td>9</td>\n",
              "      <td>0.282508</td>\n",
              "      <td>0.610007</td>\n",
              "      <td>0.625000</td>\n",
              "      <td>00:00</td>\n",
              "    </tr>\n",
              "  </tbody>\n",
              "</table>"
            ],
            "text/plain": [
              "<IPython.core.display.HTML object>"
            ]
          },
          "metadata": {
            "tags": []
          }
        },
        {
          "output_type": "display_data",
          "data": {
            "text/html": [
              ""
            ],
            "text/plain": [
              "<IPython.core.display.HTML object>"
            ]
          },
          "metadata": {
            "tags": []
          }
        },
        {
          "output_type": "stream",
          "text": [
            "fold num 2\n"
          ],
          "name": "stdout"
        },
        {
          "output_type": "stream",
          "text": [
            "/usr/local/lib/python3.6/dist-packages/sklearn/linear_model/_logistic.py:940: ConvergenceWarning: lbfgs failed to converge (status=1):\n",
            "STOP: TOTAL NO. of ITERATIONS REACHED LIMIT.\n",
            "\n",
            "Increase the number of iterations (max_iter) or scale the data as shown in:\n",
            "    https://scikit-learn.org/stable/modules/preprocessing.html\n",
            "Please also refer to the documentation for alternative solver options:\n",
            "    https://scikit-learn.org/stable/modules/linear_model.html#logistic-regression\n",
            "  extra_warning_msg=_LOGISTIC_SOLVER_CONVERGENCE_MSG)\n"
          ],
          "name": "stderr"
        },
        {
          "output_type": "display_data",
          "data": {
            "text/html": [
              "<table border=\"1\" class=\"dataframe\">\n",
              "  <thead>\n",
              "    <tr style=\"text-align: left;\">\n",
              "      <th>epoch</th>\n",
              "      <th>train_loss</th>\n",
              "      <th>valid_loss</th>\n",
              "      <th>accuracy</th>\n",
              "      <th>time</th>\n",
              "    </tr>\n",
              "  </thead>\n",
              "  <tbody>\n",
              "    <tr>\n",
              "      <td>0</td>\n",
              "      <td>0.820875</td>\n",
              "      <td>0.575008</td>\n",
              "      <td>0.625000</td>\n",
              "      <td>00:00</td>\n",
              "    </tr>\n",
              "    <tr>\n",
              "      <td>1</td>\n",
              "      <td>0.804633</td>\n",
              "      <td>0.566682</td>\n",
              "      <td>0.750000</td>\n",
              "      <td>00:00</td>\n",
              "    </tr>\n",
              "    <tr>\n",
              "      <td>2</td>\n",
              "      <td>0.720911</td>\n",
              "      <td>0.552958</td>\n",
              "      <td>0.875000</td>\n",
              "      <td>00:00</td>\n",
              "    </tr>\n",
              "    <tr>\n",
              "      <td>3</td>\n",
              "      <td>0.615335</td>\n",
              "      <td>0.541664</td>\n",
              "      <td>0.875000</td>\n",
              "      <td>00:00</td>\n",
              "    </tr>\n",
              "    <tr>\n",
              "      <td>4</td>\n",
              "      <td>0.540659</td>\n",
              "      <td>0.535697</td>\n",
              "      <td>0.875000</td>\n",
              "      <td>00:00</td>\n",
              "    </tr>\n",
              "    <tr>\n",
              "      <td>5</td>\n",
              "      <td>0.482755</td>\n",
              "      <td>0.525448</td>\n",
              "      <td>0.750000</td>\n",
              "      <td>00:00</td>\n",
              "    </tr>\n",
              "    <tr>\n",
              "      <td>6</td>\n",
              "      <td>0.443664</td>\n",
              "      <td>0.504967</td>\n",
              "      <td>0.750000</td>\n",
              "      <td>00:00</td>\n",
              "    </tr>\n",
              "    <tr>\n",
              "      <td>7</td>\n",
              "      <td>0.405678</td>\n",
              "      <td>0.490550</td>\n",
              "      <td>0.750000</td>\n",
              "      <td>00:00</td>\n",
              "    </tr>\n",
              "    <tr>\n",
              "      <td>8</td>\n",
              "      <td>0.373337</td>\n",
              "      <td>0.477500</td>\n",
              "      <td>0.750000</td>\n",
              "      <td>00:00</td>\n",
              "    </tr>\n",
              "    <tr>\n",
              "      <td>9</td>\n",
              "      <td>0.349449</td>\n",
              "      <td>0.466180</td>\n",
              "      <td>0.875000</td>\n",
              "      <td>00:00</td>\n",
              "    </tr>\n",
              "  </tbody>\n",
              "</table>"
            ],
            "text/plain": [
              "<IPython.core.display.HTML object>"
            ]
          },
          "metadata": {
            "tags": []
          }
        },
        {
          "output_type": "display_data",
          "data": {
            "text/html": [
              ""
            ],
            "text/plain": [
              "<IPython.core.display.HTML object>"
            ]
          },
          "metadata": {
            "tags": []
          }
        },
        {
          "output_type": "stream",
          "text": [
            "fold num 3\n"
          ],
          "name": "stdout"
        },
        {
          "output_type": "stream",
          "text": [
            "/usr/local/lib/python3.6/dist-packages/sklearn/linear_model/_logistic.py:940: ConvergenceWarning: lbfgs failed to converge (status=1):\n",
            "STOP: TOTAL NO. of ITERATIONS REACHED LIMIT.\n",
            "\n",
            "Increase the number of iterations (max_iter) or scale the data as shown in:\n",
            "    https://scikit-learn.org/stable/modules/preprocessing.html\n",
            "Please also refer to the documentation for alternative solver options:\n",
            "    https://scikit-learn.org/stable/modules/linear_model.html#logistic-regression\n",
            "  extra_warning_msg=_LOGISTIC_SOLVER_CONVERGENCE_MSG)\n"
          ],
          "name": "stderr"
        },
        {
          "output_type": "display_data",
          "data": {
            "text/html": [
              "<table border=\"1\" class=\"dataframe\">\n",
              "  <thead>\n",
              "    <tr style=\"text-align: left;\">\n",
              "      <th>epoch</th>\n",
              "      <th>train_loss</th>\n",
              "      <th>valid_loss</th>\n",
              "      <th>accuracy</th>\n",
              "      <th>time</th>\n",
              "    </tr>\n",
              "  </thead>\n",
              "  <tbody>\n",
              "    <tr>\n",
              "      <td>0</td>\n",
              "      <td>0.765419</td>\n",
              "      <td>0.700385</td>\n",
              "      <td>0.375000</td>\n",
              "      <td>00:00</td>\n",
              "    </tr>\n",
              "    <tr>\n",
              "      <td>1</td>\n",
              "      <td>0.752629</td>\n",
              "      <td>0.680744</td>\n",
              "      <td>0.750000</td>\n",
              "      <td>00:00</td>\n",
              "    </tr>\n",
              "    <tr>\n",
              "      <td>2</td>\n",
              "      <td>0.681751</td>\n",
              "      <td>0.642219</td>\n",
              "      <td>0.750000</td>\n",
              "      <td>00:00</td>\n",
              "    </tr>\n",
              "    <tr>\n",
              "      <td>3</td>\n",
              "      <td>0.608368</td>\n",
              "      <td>0.598549</td>\n",
              "      <td>0.875000</td>\n",
              "      <td>00:00</td>\n",
              "    </tr>\n",
              "    <tr>\n",
              "      <td>4</td>\n",
              "      <td>0.543536</td>\n",
              "      <td>0.560751</td>\n",
              "      <td>0.875000</td>\n",
              "      <td>00:00</td>\n",
              "    </tr>\n",
              "    <tr>\n",
              "      <td>5</td>\n",
              "      <td>0.496919</td>\n",
              "      <td>0.530435</td>\n",
              "      <td>0.875000</td>\n",
              "      <td>00:00</td>\n",
              "    </tr>\n",
              "    <tr>\n",
              "      <td>6</td>\n",
              "      <td>0.460474</td>\n",
              "      <td>0.503342</td>\n",
              "      <td>0.875000</td>\n",
              "      <td>00:00</td>\n",
              "    </tr>\n",
              "    <tr>\n",
              "      <td>7</td>\n",
              "      <td>0.427805</td>\n",
              "      <td>0.480372</td>\n",
              "      <td>0.875000</td>\n",
              "      <td>00:00</td>\n",
              "    </tr>\n",
              "    <tr>\n",
              "      <td>8</td>\n",
              "      <td>0.403187</td>\n",
              "      <td>0.461110</td>\n",
              "      <td>0.875000</td>\n",
              "      <td>00:00</td>\n",
              "    </tr>\n",
              "    <tr>\n",
              "      <td>9</td>\n",
              "      <td>0.381008</td>\n",
              "      <td>0.447029</td>\n",
              "      <td>0.875000</td>\n",
              "      <td>00:00</td>\n",
              "    </tr>\n",
              "  </tbody>\n",
              "</table>"
            ],
            "text/plain": [
              "<IPython.core.display.HTML object>"
            ]
          },
          "metadata": {
            "tags": []
          }
        },
        {
          "output_type": "display_data",
          "data": {
            "text/html": [
              ""
            ],
            "text/plain": [
              "<IPython.core.display.HTML object>"
            ]
          },
          "metadata": {
            "tags": []
          }
        },
        {
          "output_type": "stream",
          "text": [
            "fold num 4\n"
          ],
          "name": "stdout"
        },
        {
          "output_type": "stream",
          "text": [
            "/usr/local/lib/python3.6/dist-packages/sklearn/linear_model/_logistic.py:940: ConvergenceWarning: lbfgs failed to converge (status=1):\n",
            "STOP: TOTAL NO. of ITERATIONS REACHED LIMIT.\n",
            "\n",
            "Increase the number of iterations (max_iter) or scale the data as shown in:\n",
            "    https://scikit-learn.org/stable/modules/preprocessing.html\n",
            "Please also refer to the documentation for alternative solver options:\n",
            "    https://scikit-learn.org/stable/modules/linear_model.html#logistic-regression\n",
            "  extra_warning_msg=_LOGISTIC_SOLVER_CONVERGENCE_MSG)\n"
          ],
          "name": "stderr"
        },
        {
          "output_type": "display_data",
          "data": {
            "text/html": [
              "<table border=\"1\" class=\"dataframe\">\n",
              "  <thead>\n",
              "    <tr style=\"text-align: left;\">\n",
              "      <th>epoch</th>\n",
              "      <th>train_loss</th>\n",
              "      <th>valid_loss</th>\n",
              "      <th>accuracy</th>\n",
              "      <th>time</th>\n",
              "    </tr>\n",
              "  </thead>\n",
              "  <tbody>\n",
              "    <tr>\n",
              "      <td>0</td>\n",
              "      <td>0.735889</td>\n",
              "      <td>0.704162</td>\n",
              "      <td>0.375000</td>\n",
              "      <td>00:00</td>\n",
              "    </tr>\n",
              "    <tr>\n",
              "      <td>1</td>\n",
              "      <td>0.701706</td>\n",
              "      <td>0.683957</td>\n",
              "      <td>0.375000</td>\n",
              "      <td>00:00</td>\n",
              "    </tr>\n",
              "    <tr>\n",
              "      <td>2</td>\n",
              "      <td>0.625626</td>\n",
              "      <td>0.640974</td>\n",
              "      <td>0.625000</td>\n",
              "      <td>00:00</td>\n",
              "    </tr>\n",
              "    <tr>\n",
              "      <td>3</td>\n",
              "      <td>0.546125</td>\n",
              "      <td>0.593731</td>\n",
              "      <td>0.875000</td>\n",
              "      <td>00:00</td>\n",
              "    </tr>\n",
              "    <tr>\n",
              "      <td>4</td>\n",
              "      <td>0.476257</td>\n",
              "      <td>0.556285</td>\n",
              "      <td>0.750000</td>\n",
              "      <td>00:00</td>\n",
              "    </tr>\n",
              "    <tr>\n",
              "      <td>5</td>\n",
              "      <td>0.433208</td>\n",
              "      <td>0.533176</td>\n",
              "      <td>0.750000</td>\n",
              "      <td>00:00</td>\n",
              "    </tr>\n",
              "    <tr>\n",
              "      <td>6</td>\n",
              "      <td>0.395045</td>\n",
              "      <td>0.518491</td>\n",
              "      <td>0.875000</td>\n",
              "      <td>00:00</td>\n",
              "    </tr>\n",
              "    <tr>\n",
              "      <td>7</td>\n",
              "      <td>0.365774</td>\n",
              "      <td>0.508397</td>\n",
              "      <td>0.875000</td>\n",
              "      <td>00:00</td>\n",
              "    </tr>\n",
              "    <tr>\n",
              "      <td>8</td>\n",
              "      <td>0.344276</td>\n",
              "      <td>0.500763</td>\n",
              "      <td>0.875000</td>\n",
              "      <td>00:00</td>\n",
              "    </tr>\n",
              "    <tr>\n",
              "      <td>9</td>\n",
              "      <td>0.325577</td>\n",
              "      <td>0.494080</td>\n",
              "      <td>0.875000</td>\n",
              "      <td>00:00</td>\n",
              "    </tr>\n",
              "  </tbody>\n",
              "</table>"
            ],
            "text/plain": [
              "<IPython.core.display.HTML object>"
            ]
          },
          "metadata": {
            "tags": []
          }
        },
        {
          "output_type": "display_data",
          "data": {
            "text/html": [
              ""
            ],
            "text/plain": [
              "<IPython.core.display.HTML object>"
            ]
          },
          "metadata": {
            "tags": []
          }
        },
        {
          "output_type": "stream",
          "text": [
            "fold num 5\n"
          ],
          "name": "stdout"
        },
        {
          "output_type": "stream",
          "text": [
            "/usr/local/lib/python3.6/dist-packages/sklearn/linear_model/_logistic.py:940: ConvergenceWarning: lbfgs failed to converge (status=1):\n",
            "STOP: TOTAL NO. of ITERATIONS REACHED LIMIT.\n",
            "\n",
            "Increase the number of iterations (max_iter) or scale the data as shown in:\n",
            "    https://scikit-learn.org/stable/modules/preprocessing.html\n",
            "Please also refer to the documentation for alternative solver options:\n",
            "    https://scikit-learn.org/stable/modules/linear_model.html#logistic-regression\n",
            "  extra_warning_msg=_LOGISTIC_SOLVER_CONVERGENCE_MSG)\n"
          ],
          "name": "stderr"
        },
        {
          "output_type": "stream",
          "text": [
            "WARNING:tensorflow:5 out of the last 5 calls to <function Model.make_test_function.<locals>.test_function at 0x7f5dbea07f28> triggered tf.function retracing. Tracing is expensive and the excessive number of tracings could be due to (1) creating @tf.function repeatedly in a loop, (2) passing tensors with different shapes, (3) passing Python objects instead of tensors. For (1), please define your @tf.function outside of the loop. For (2), @tf.function has experimental_relax_shapes=True option that relaxes argument shapes that can avoid unnecessary retracing. For (3), please refer to https://www.tensorflow.org/tutorials/customization/performance#python_or_tensor_args and https://www.tensorflow.org/api_docs/python/tf/function for  more details.\n"
          ],
          "name": "stdout"
        },
        {
          "output_type": "display_data",
          "data": {
            "text/html": [
              "<table border=\"1\" class=\"dataframe\">\n",
              "  <thead>\n",
              "    <tr style=\"text-align: left;\">\n",
              "      <th>epoch</th>\n",
              "      <th>train_loss</th>\n",
              "      <th>valid_loss</th>\n",
              "      <th>accuracy</th>\n",
              "      <th>time</th>\n",
              "    </tr>\n",
              "  </thead>\n",
              "  <tbody>\n",
              "    <tr>\n",
              "      <td>0</td>\n",
              "      <td>0.886537</td>\n",
              "      <td>0.711560</td>\n",
              "      <td>0.250000</td>\n",
              "      <td>00:00</td>\n",
              "    </tr>\n",
              "    <tr>\n",
              "      <td>1</td>\n",
              "      <td>0.873783</td>\n",
              "      <td>0.690165</td>\n",
              "      <td>0.500000</td>\n",
              "      <td>00:00</td>\n",
              "    </tr>\n",
              "    <tr>\n",
              "      <td>2</td>\n",
              "      <td>0.788095</td>\n",
              "      <td>0.654848</td>\n",
              "      <td>0.750000</td>\n",
              "      <td>00:00</td>\n",
              "    </tr>\n",
              "    <tr>\n",
              "      <td>3</td>\n",
              "      <td>0.681902</td>\n",
              "      <td>0.610475</td>\n",
              "      <td>0.875000</td>\n",
              "      <td>00:00</td>\n",
              "    </tr>\n",
              "    <tr>\n",
              "      <td>4</td>\n",
              "      <td>0.605068</td>\n",
              "      <td>0.558097</td>\n",
              "      <td>0.875000</td>\n",
              "      <td>00:00</td>\n",
              "    </tr>\n",
              "    <tr>\n",
              "      <td>5</td>\n",
              "      <td>0.539365</td>\n",
              "      <td>0.489833</td>\n",
              "      <td>1.000000</td>\n",
              "      <td>00:00</td>\n",
              "    </tr>\n",
              "    <tr>\n",
              "      <td>6</td>\n",
              "      <td>0.494160</td>\n",
              "      <td>0.434186</td>\n",
              "      <td>1.000000</td>\n",
              "      <td>00:00</td>\n",
              "    </tr>\n",
              "    <tr>\n",
              "      <td>7</td>\n",
              "      <td>0.458598</td>\n",
              "      <td>0.391661</td>\n",
              "      <td>1.000000</td>\n",
              "      <td>00:00</td>\n",
              "    </tr>\n",
              "    <tr>\n",
              "      <td>8</td>\n",
              "      <td>0.428922</td>\n",
              "      <td>0.358499</td>\n",
              "      <td>1.000000</td>\n",
              "      <td>00:00</td>\n",
              "    </tr>\n",
              "    <tr>\n",
              "      <td>9</td>\n",
              "      <td>0.408296</td>\n",
              "      <td>0.331377</td>\n",
              "      <td>1.000000</td>\n",
              "      <td>00:00</td>\n",
              "    </tr>\n",
              "  </tbody>\n",
              "</table>"
            ],
            "text/plain": [
              "<IPython.core.display.HTML object>"
            ]
          },
          "metadata": {
            "tags": []
          }
        },
        {
          "output_type": "display_data",
          "data": {
            "text/html": [
              ""
            ],
            "text/plain": [
              "<IPython.core.display.HTML object>"
            ]
          },
          "metadata": {
            "tags": []
          }
        },
        {
          "output_type": "stream",
          "text": [
            "fold num 6\n"
          ],
          "name": "stdout"
        },
        {
          "output_type": "stream",
          "text": [
            "/usr/local/lib/python3.6/dist-packages/sklearn/linear_model/_logistic.py:940: ConvergenceWarning: lbfgs failed to converge (status=1):\n",
            "STOP: TOTAL NO. of ITERATIONS REACHED LIMIT.\n",
            "\n",
            "Increase the number of iterations (max_iter) or scale the data as shown in:\n",
            "    https://scikit-learn.org/stable/modules/preprocessing.html\n",
            "Please also refer to the documentation for alternative solver options:\n",
            "    https://scikit-learn.org/stable/modules/linear_model.html#logistic-regression\n",
            "  extra_warning_msg=_LOGISTIC_SOLVER_CONVERGENCE_MSG)\n"
          ],
          "name": "stderr"
        },
        {
          "output_type": "stream",
          "text": [
            "WARNING:tensorflow:6 out of the last 6 calls to <function Model.make_test_function.<locals>.test_function at 0x7f5dc0630378> triggered tf.function retracing. Tracing is expensive and the excessive number of tracings could be due to (1) creating @tf.function repeatedly in a loop, (2) passing tensors with different shapes, (3) passing Python objects instead of tensors. For (1), please define your @tf.function outside of the loop. For (2), @tf.function has experimental_relax_shapes=True option that relaxes argument shapes that can avoid unnecessary retracing. For (3), please refer to https://www.tensorflow.org/tutorials/customization/performance#python_or_tensor_args and https://www.tensorflow.org/api_docs/python/tf/function for  more details.\n"
          ],
          "name": "stdout"
        },
        {
          "output_type": "display_data",
          "data": {
            "text/html": [
              "<table border=\"1\" class=\"dataframe\">\n",
              "  <thead>\n",
              "    <tr style=\"text-align: left;\">\n",
              "      <th>epoch</th>\n",
              "      <th>train_loss</th>\n",
              "      <th>valid_loss</th>\n",
              "      <th>accuracy</th>\n",
              "      <th>time</th>\n",
              "    </tr>\n",
              "  </thead>\n",
              "  <tbody>\n",
              "    <tr>\n",
              "      <td>0</td>\n",
              "      <td>1.008191</td>\n",
              "      <td>0.700878</td>\n",
              "      <td>0.375000</td>\n",
              "      <td>00:00</td>\n",
              "    </tr>\n",
              "    <tr>\n",
              "      <td>1</td>\n",
              "      <td>0.966739</td>\n",
              "      <td>0.690287</td>\n",
              "      <td>0.500000</td>\n",
              "      <td>00:00</td>\n",
              "    </tr>\n",
              "    <tr>\n",
              "      <td>2</td>\n",
              "      <td>0.911775</td>\n",
              "      <td>0.666552</td>\n",
              "      <td>0.875000</td>\n",
              "      <td>00:00</td>\n",
              "    </tr>\n",
              "    <tr>\n",
              "      <td>3</td>\n",
              "      <td>0.787911</td>\n",
              "      <td>0.636518</td>\n",
              "      <td>0.875000</td>\n",
              "      <td>00:00</td>\n",
              "    </tr>\n",
              "    <tr>\n",
              "      <td>4</td>\n",
              "      <td>0.680737</td>\n",
              "      <td>0.605416</td>\n",
              "      <td>0.875000</td>\n",
              "      <td>00:00</td>\n",
              "    </tr>\n",
              "    <tr>\n",
              "      <td>5</td>\n",
              "      <td>0.600387</td>\n",
              "      <td>0.580382</td>\n",
              "      <td>0.875000</td>\n",
              "      <td>00:00</td>\n",
              "    </tr>\n",
              "    <tr>\n",
              "      <td>6</td>\n",
              "      <td>0.539256</td>\n",
              "      <td>0.560405</td>\n",
              "      <td>0.875000</td>\n",
              "      <td>00:00</td>\n",
              "    </tr>\n",
              "    <tr>\n",
              "      <td>7</td>\n",
              "      <td>0.500802</td>\n",
              "      <td>0.546531</td>\n",
              "      <td>0.875000</td>\n",
              "      <td>00:00</td>\n",
              "    </tr>\n",
              "    <tr>\n",
              "      <td>8</td>\n",
              "      <td>0.462507</td>\n",
              "      <td>0.536522</td>\n",
              "      <td>0.875000</td>\n",
              "      <td>00:00</td>\n",
              "    </tr>\n",
              "    <tr>\n",
              "      <td>9</td>\n",
              "      <td>0.430212</td>\n",
              "      <td>0.528817</td>\n",
              "      <td>0.875000</td>\n",
              "      <td>00:00</td>\n",
              "    </tr>\n",
              "  </tbody>\n",
              "</table>"
            ],
            "text/plain": [
              "<IPython.core.display.HTML object>"
            ]
          },
          "metadata": {
            "tags": []
          }
        },
        {
          "output_type": "display_data",
          "data": {
            "text/html": [
              ""
            ],
            "text/plain": [
              "<IPython.core.display.HTML object>"
            ]
          },
          "metadata": {
            "tags": []
          }
        },
        {
          "output_type": "stream",
          "text": [
            "fold num 7\n"
          ],
          "name": "stdout"
        },
        {
          "output_type": "stream",
          "text": [
            "/usr/local/lib/python3.6/dist-packages/sklearn/linear_model/_logistic.py:940: ConvergenceWarning: lbfgs failed to converge (status=1):\n",
            "STOP: TOTAL NO. of ITERATIONS REACHED LIMIT.\n",
            "\n",
            "Increase the number of iterations (max_iter) or scale the data as shown in:\n",
            "    https://scikit-learn.org/stable/modules/preprocessing.html\n",
            "Please also refer to the documentation for alternative solver options:\n",
            "    https://scikit-learn.org/stable/modules/linear_model.html#logistic-regression\n",
            "  extra_warning_msg=_LOGISTIC_SOLVER_CONVERGENCE_MSG)\n"
          ],
          "name": "stderr"
        },
        {
          "output_type": "stream",
          "text": [
            "WARNING:tensorflow:7 out of the last 7 calls to <function Model.make_test_function.<locals>.test_function at 0x7f5dc6465bf8> triggered tf.function retracing. Tracing is expensive and the excessive number of tracings could be due to (1) creating @tf.function repeatedly in a loop, (2) passing tensors with different shapes, (3) passing Python objects instead of tensors. For (1), please define your @tf.function outside of the loop. For (2), @tf.function has experimental_relax_shapes=True option that relaxes argument shapes that can avoid unnecessary retracing. For (3), please refer to https://www.tensorflow.org/tutorials/customization/performance#python_or_tensor_args and https://www.tensorflow.org/api_docs/python/tf/function for  more details.\n"
          ],
          "name": "stdout"
        },
        {
          "output_type": "display_data",
          "data": {
            "text/html": [
              "<table border=\"1\" class=\"dataframe\">\n",
              "  <thead>\n",
              "    <tr style=\"text-align: left;\">\n",
              "      <th>epoch</th>\n",
              "      <th>train_loss</th>\n",
              "      <th>valid_loss</th>\n",
              "      <th>accuracy</th>\n",
              "      <th>time</th>\n",
              "    </tr>\n",
              "  </thead>\n",
              "  <tbody>\n",
              "    <tr>\n",
              "      <td>0</td>\n",
              "      <td>0.845274</td>\n",
              "      <td>0.689571</td>\n",
              "      <td>0.500000</td>\n",
              "      <td>00:00</td>\n",
              "    </tr>\n",
              "    <tr>\n",
              "      <td>1</td>\n",
              "      <td>0.818758</td>\n",
              "      <td>0.661387</td>\n",
              "      <td>0.625000</td>\n",
              "      <td>00:00</td>\n",
              "    </tr>\n",
              "    <tr>\n",
              "      <td>2</td>\n",
              "      <td>0.759776</td>\n",
              "      <td>0.609380</td>\n",
              "      <td>1.000000</td>\n",
              "      <td>00:00</td>\n",
              "    </tr>\n",
              "    <tr>\n",
              "      <td>3</td>\n",
              "      <td>0.658915</td>\n",
              "      <td>0.551555</td>\n",
              "      <td>0.875000</td>\n",
              "      <td>00:00</td>\n",
              "    </tr>\n",
              "    <tr>\n",
              "      <td>4</td>\n",
              "      <td>0.585831</td>\n",
              "      <td>0.501302</td>\n",
              "      <td>0.875000</td>\n",
              "      <td>00:00</td>\n",
              "    </tr>\n",
              "    <tr>\n",
              "      <td>5</td>\n",
              "      <td>0.538746</td>\n",
              "      <td>0.460169</td>\n",
              "      <td>0.875000</td>\n",
              "      <td>00:00</td>\n",
              "    </tr>\n",
              "    <tr>\n",
              "      <td>6</td>\n",
              "      <td>0.494776</td>\n",
              "      <td>0.428511</td>\n",
              "      <td>0.875000</td>\n",
              "      <td>00:00</td>\n",
              "    </tr>\n",
              "    <tr>\n",
              "      <td>7</td>\n",
              "      <td>0.460535</td>\n",
              "      <td>0.404621</td>\n",
              "      <td>0.875000</td>\n",
              "      <td>00:00</td>\n",
              "    </tr>\n",
              "    <tr>\n",
              "      <td>8</td>\n",
              "      <td>0.429277</td>\n",
              "      <td>0.387612</td>\n",
              "      <td>0.875000</td>\n",
              "      <td>00:00</td>\n",
              "    </tr>\n",
              "    <tr>\n",
              "      <td>9</td>\n",
              "      <td>0.405086</td>\n",
              "      <td>0.375743</td>\n",
              "      <td>0.875000</td>\n",
              "      <td>00:00</td>\n",
              "    </tr>\n",
              "  </tbody>\n",
              "</table>"
            ],
            "text/plain": [
              "<IPython.core.display.HTML object>"
            ]
          },
          "metadata": {
            "tags": []
          }
        },
        {
          "output_type": "display_data",
          "data": {
            "text/html": [
              ""
            ],
            "text/plain": [
              "<IPython.core.display.HTML object>"
            ]
          },
          "metadata": {
            "tags": []
          }
        },
        {
          "output_type": "stream",
          "text": [
            "fold num 8\n"
          ],
          "name": "stdout"
        },
        {
          "output_type": "stream",
          "text": [
            "/usr/local/lib/python3.6/dist-packages/sklearn/linear_model/_logistic.py:940: ConvergenceWarning: lbfgs failed to converge (status=1):\n",
            "STOP: TOTAL NO. of ITERATIONS REACHED LIMIT.\n",
            "\n",
            "Increase the number of iterations (max_iter) or scale the data as shown in:\n",
            "    https://scikit-learn.org/stable/modules/preprocessing.html\n",
            "Please also refer to the documentation for alternative solver options:\n",
            "    https://scikit-learn.org/stable/modules/linear_model.html#logistic-regression\n",
            "  extra_warning_msg=_LOGISTIC_SOLVER_CONVERGENCE_MSG)\n"
          ],
          "name": "stderr"
        },
        {
          "output_type": "stream",
          "text": [
            "WARNING:tensorflow:8 out of the last 8 calls to <function Model.make_test_function.<locals>.test_function at 0x7f5dc63ef2f0> triggered tf.function retracing. Tracing is expensive and the excessive number of tracings could be due to (1) creating @tf.function repeatedly in a loop, (2) passing tensors with different shapes, (3) passing Python objects instead of tensors. For (1), please define your @tf.function outside of the loop. For (2), @tf.function has experimental_relax_shapes=True option that relaxes argument shapes that can avoid unnecessary retracing. For (3), please refer to https://www.tensorflow.org/tutorials/customization/performance#python_or_tensor_args and https://www.tensorflow.org/api_docs/python/tf/function for  more details.\n"
          ],
          "name": "stdout"
        },
        {
          "output_type": "display_data",
          "data": {
            "text/html": [
              "<table border=\"1\" class=\"dataframe\">\n",
              "  <thead>\n",
              "    <tr style=\"text-align: left;\">\n",
              "      <th>epoch</th>\n",
              "      <th>train_loss</th>\n",
              "      <th>valid_loss</th>\n",
              "      <th>accuracy</th>\n",
              "      <th>time</th>\n",
              "    </tr>\n",
              "  </thead>\n",
              "  <tbody>\n",
              "    <tr>\n",
              "      <td>0</td>\n",
              "      <td>0.800919</td>\n",
              "      <td>0.660596</td>\n",
              "      <td>0.500000</td>\n",
              "      <td>00:00</td>\n",
              "    </tr>\n",
              "    <tr>\n",
              "      <td>1</td>\n",
              "      <td>0.764018</td>\n",
              "      <td>0.634454</td>\n",
              "      <td>0.750000</td>\n",
              "      <td>00:00</td>\n",
              "    </tr>\n",
              "    <tr>\n",
              "      <td>2</td>\n",
              "      <td>0.681831</td>\n",
              "      <td>0.583541</td>\n",
              "      <td>0.875000</td>\n",
              "      <td>00:00</td>\n",
              "    </tr>\n",
              "    <tr>\n",
              "      <td>3</td>\n",
              "      <td>0.598476</td>\n",
              "      <td>0.530093</td>\n",
              "      <td>0.875000</td>\n",
              "      <td>00:00</td>\n",
              "    </tr>\n",
              "    <tr>\n",
              "      <td>4</td>\n",
              "      <td>0.540559</td>\n",
              "      <td>0.483077</td>\n",
              "      <td>0.750000</td>\n",
              "      <td>00:00</td>\n",
              "    </tr>\n",
              "    <tr>\n",
              "      <td>5</td>\n",
              "      <td>0.486774</td>\n",
              "      <td>0.445686</td>\n",
              "      <td>0.750000</td>\n",
              "      <td>00:00</td>\n",
              "    </tr>\n",
              "    <tr>\n",
              "      <td>6</td>\n",
              "      <td>0.445597</td>\n",
              "      <td>0.414478</td>\n",
              "      <td>0.750000</td>\n",
              "      <td>00:00</td>\n",
              "    </tr>\n",
              "    <tr>\n",
              "      <td>7</td>\n",
              "      <td>0.408562</td>\n",
              "      <td>0.388164</td>\n",
              "      <td>0.750000</td>\n",
              "      <td>00:00</td>\n",
              "    </tr>\n",
              "    <tr>\n",
              "      <td>8</td>\n",
              "      <td>0.382097</td>\n",
              "      <td>0.367361</td>\n",
              "      <td>0.875000</td>\n",
              "      <td>00:00</td>\n",
              "    </tr>\n",
              "    <tr>\n",
              "      <td>9</td>\n",
              "      <td>0.360537</td>\n",
              "      <td>0.351039</td>\n",
              "      <td>0.875000</td>\n",
              "      <td>00:00</td>\n",
              "    </tr>\n",
              "  </tbody>\n",
              "</table>"
            ],
            "text/plain": [
              "<IPython.core.display.HTML object>"
            ]
          },
          "metadata": {
            "tags": []
          }
        },
        {
          "output_type": "display_data",
          "data": {
            "text/html": [
              ""
            ],
            "text/plain": [
              "<IPython.core.display.HTML object>"
            ]
          },
          "metadata": {
            "tags": []
          }
        },
        {
          "output_type": "stream",
          "text": [
            "fold num 9\n"
          ],
          "name": "stdout"
        },
        {
          "output_type": "stream",
          "text": [
            "/usr/local/lib/python3.6/dist-packages/sklearn/linear_model/_logistic.py:940: ConvergenceWarning: lbfgs failed to converge (status=1):\n",
            "STOP: TOTAL NO. of ITERATIONS REACHED LIMIT.\n",
            "\n",
            "Increase the number of iterations (max_iter) or scale the data as shown in:\n",
            "    https://scikit-learn.org/stable/modules/preprocessing.html\n",
            "Please also refer to the documentation for alternative solver options:\n",
            "    https://scikit-learn.org/stable/modules/linear_model.html#logistic-regression\n",
            "  extra_warning_msg=_LOGISTIC_SOLVER_CONVERGENCE_MSG)\n"
          ],
          "name": "stderr"
        },
        {
          "output_type": "stream",
          "text": [
            "WARNING:tensorflow:9 out of the last 9 calls to <function Model.make_test_function.<locals>.test_function at 0x7f5dc20c6e18> triggered tf.function retracing. Tracing is expensive and the excessive number of tracings could be due to (1) creating @tf.function repeatedly in a loop, (2) passing tensors with different shapes, (3) passing Python objects instead of tensors. For (1), please define your @tf.function outside of the loop. For (2), @tf.function has experimental_relax_shapes=True option that relaxes argument shapes that can avoid unnecessary retracing. For (3), please refer to https://www.tensorflow.org/tutorials/customization/performance#python_or_tensor_args and https://www.tensorflow.org/api_docs/python/tf/function for  more details.\n"
          ],
          "name": "stdout"
        },
        {
          "output_type": "display_data",
          "data": {
            "text/html": [
              "<table border=\"1\" class=\"dataframe\">\n",
              "  <thead>\n",
              "    <tr style=\"text-align: left;\">\n",
              "      <th>epoch</th>\n",
              "      <th>train_loss</th>\n",
              "      <th>valid_loss</th>\n",
              "      <th>accuracy</th>\n",
              "      <th>time</th>\n",
              "    </tr>\n",
              "  </thead>\n",
              "  <tbody>\n",
              "    <tr>\n",
              "      <td>0</td>\n",
              "      <td>1.090590</td>\n",
              "      <td>0.692755</td>\n",
              "      <td>0.625000</td>\n",
              "      <td>00:00</td>\n",
              "    </tr>\n",
              "    <tr>\n",
              "      <td>1</td>\n",
              "      <td>1.056711</td>\n",
              "      <td>0.672676</td>\n",
              "      <td>0.625000</td>\n",
              "      <td>00:00</td>\n",
              "    </tr>\n",
              "    <tr>\n",
              "      <td>2</td>\n",
              "      <td>0.937090</td>\n",
              "      <td>0.632657</td>\n",
              "      <td>0.750000</td>\n",
              "      <td>00:00</td>\n",
              "    </tr>\n",
              "    <tr>\n",
              "      <td>3</td>\n",
              "      <td>0.800092</td>\n",
              "      <td>0.592068</td>\n",
              "      <td>0.875000</td>\n",
              "      <td>00:00</td>\n",
              "    </tr>\n",
              "    <tr>\n",
              "      <td>4</td>\n",
              "      <td>0.700378</td>\n",
              "      <td>0.560399</td>\n",
              "      <td>0.875000</td>\n",
              "      <td>00:00</td>\n",
              "    </tr>\n",
              "    <tr>\n",
              "      <td>5</td>\n",
              "      <td>0.620434</td>\n",
              "      <td>0.536668</td>\n",
              "      <td>0.875000</td>\n",
              "      <td>00:00</td>\n",
              "    </tr>\n",
              "    <tr>\n",
              "      <td>6</td>\n",
              "      <td>0.558503</td>\n",
              "      <td>0.515276</td>\n",
              "      <td>0.875000</td>\n",
              "      <td>00:00</td>\n",
              "    </tr>\n",
              "    <tr>\n",
              "      <td>7</td>\n",
              "      <td>0.511095</td>\n",
              "      <td>0.497619</td>\n",
              "      <td>0.875000</td>\n",
              "      <td>00:00</td>\n",
              "    </tr>\n",
              "    <tr>\n",
              "      <td>8</td>\n",
              "      <td>0.475301</td>\n",
              "      <td>0.483670</td>\n",
              "      <td>0.875000</td>\n",
              "      <td>00:00</td>\n",
              "    </tr>\n",
              "    <tr>\n",
              "      <td>9</td>\n",
              "      <td>0.442453</td>\n",
              "      <td>0.473212</td>\n",
              "      <td>0.875000</td>\n",
              "      <td>00:00</td>\n",
              "    </tr>\n",
              "  </tbody>\n",
              "</table>"
            ],
            "text/plain": [
              "<IPython.core.display.HTML object>"
            ]
          },
          "metadata": {
            "tags": []
          }
        },
        {
          "output_type": "display_data",
          "data": {
            "text/html": [
              ""
            ],
            "text/plain": [
              "<IPython.core.display.HTML object>"
            ]
          },
          "metadata": {
            "tags": []
          }
        },
        {
          "output_type": "stream",
          "text": [
            "fold num 10\n"
          ],
          "name": "stdout"
        },
        {
          "output_type": "stream",
          "text": [
            "/usr/local/lib/python3.6/dist-packages/sklearn/linear_model/_logistic.py:940: ConvergenceWarning: lbfgs failed to converge (status=1):\n",
            "STOP: TOTAL NO. of ITERATIONS REACHED LIMIT.\n",
            "\n",
            "Increase the number of iterations (max_iter) or scale the data as shown in:\n",
            "    https://scikit-learn.org/stable/modules/preprocessing.html\n",
            "Please also refer to the documentation for alternative solver options:\n",
            "    https://scikit-learn.org/stable/modules/linear_model.html#logistic-regression\n",
            "  extra_warning_msg=_LOGISTIC_SOLVER_CONVERGENCE_MSG)\n"
          ],
          "name": "stderr"
        },
        {
          "output_type": "stream",
          "text": [
            "WARNING:tensorflow:10 out of the last 10 calls to <function Model.make_test_function.<locals>.test_function at 0x7f5dc1de37b8> triggered tf.function retracing. Tracing is expensive and the excessive number of tracings could be due to (1) creating @tf.function repeatedly in a loop, (2) passing tensors with different shapes, (3) passing Python objects instead of tensors. For (1), please define your @tf.function outside of the loop. For (2), @tf.function has experimental_relax_shapes=True option that relaxes argument shapes that can avoid unnecessary retracing. For (3), please refer to https://www.tensorflow.org/tutorials/customization/performance#python_or_tensor_args and https://www.tensorflow.org/api_docs/python/tf/function for  more details.\n"
          ],
          "name": "stdout"
        },
        {
          "output_type": "display_data",
          "data": {
            "text/html": [
              "<table border=\"1\" class=\"dataframe\">\n",
              "  <thead>\n",
              "    <tr style=\"text-align: left;\">\n",
              "      <th>epoch</th>\n",
              "      <th>train_loss</th>\n",
              "      <th>valid_loss</th>\n",
              "      <th>accuracy</th>\n",
              "      <th>time</th>\n",
              "    </tr>\n",
              "  </thead>\n",
              "  <tbody>\n",
              "    <tr>\n",
              "      <td>0</td>\n",
              "      <td>0.731904</td>\n",
              "      <td>1.554641</td>\n",
              "      <td>0.250000</td>\n",
              "      <td>00:00</td>\n",
              "    </tr>\n",
              "    <tr>\n",
              "      <td>1</td>\n",
              "      <td>0.715179</td>\n",
              "      <td>2.918347</td>\n",
              "      <td>0.625000</td>\n",
              "      <td>00:00</td>\n",
              "    </tr>\n",
              "    <tr>\n",
              "      <td>2</td>\n",
              "      <td>0.654629</td>\n",
              "      <td>5.824059</td>\n",
              "      <td>0.500000</td>\n",
              "      <td>00:00</td>\n",
              "    </tr>\n",
              "    <tr>\n",
              "      <td>3</td>\n",
              "      <td>0.575111</td>\n",
              "      <td>9.875998</td>\n",
              "      <td>0.625000</td>\n",
              "      <td>00:00</td>\n",
              "    </tr>\n",
              "    <tr>\n",
              "      <td>4</td>\n",
              "      <td>0.508116</td>\n",
              "      <td>13.667651</td>\n",
              "      <td>0.750000</td>\n",
              "      <td>00:00</td>\n",
              "    </tr>\n",
              "    <tr>\n",
              "      <td>5</td>\n",
              "      <td>0.460425</td>\n",
              "      <td>17.287638</td>\n",
              "      <td>0.750000</td>\n",
              "      <td>00:00</td>\n",
              "    </tr>\n",
              "    <tr>\n",
              "      <td>6</td>\n",
              "      <td>0.420152</td>\n",
              "      <td>21.055470</td>\n",
              "      <td>0.750000</td>\n",
              "      <td>00:00</td>\n",
              "    </tr>\n",
              "    <tr>\n",
              "      <td>7</td>\n",
              "      <td>0.390085</td>\n",
              "      <td>23.878262</td>\n",
              "      <td>0.750000</td>\n",
              "      <td>00:00</td>\n",
              "    </tr>\n",
              "    <tr>\n",
              "      <td>8</td>\n",
              "      <td>0.361890</td>\n",
              "      <td>26.253588</td>\n",
              "      <td>0.750000</td>\n",
              "      <td>00:00</td>\n",
              "    </tr>\n",
              "    <tr>\n",
              "      <td>9</td>\n",
              "      <td>0.340437</td>\n",
              "      <td>28.223818</td>\n",
              "      <td>0.750000</td>\n",
              "      <td>00:00</td>\n",
              "    </tr>\n",
              "  </tbody>\n",
              "</table>"
            ],
            "text/plain": [
              "<IPython.core.display.HTML object>"
            ]
          },
          "metadata": {
            "tags": []
          }
        },
        {
          "output_type": "display_data",
          "data": {
            "text/html": [
              ""
            ],
            "text/plain": [
              "<IPython.core.display.HTML object>"
            ]
          },
          "metadata": {
            "tags": []
          }
        }
      ]
    },
    {
      "cell_type": "code",
      "metadata": {
        "id": "f7UNXwkzaEia",
        "colab_type": "code",
        "colab": {
          "base_uri": "https://localhost:8080/",
          "height": 225
        },
        "outputId": "beb5b599-99db-43df-94bb-f05ba8a6b37e"
      },
      "source": [
        "mm.printMeasures()"
      ],
      "execution_count": 18,
      "outputs": [
        {
          "output_type": "stream",
          "text": [
            "model     acc        \n",
            "--------------\n",
            "rf        96.25±5.73\n",
            "dt        96.25±5.73\n",
            "knn       81.25±10.08\n",
            "svm       58.75±12.56\n",
            "lr        83.75±9.76\n",
            "lda       75.00±9.68\n",
            "ab        92.50±8.29\n",
            "nb        83.75±13.75\n",
            "keras     65.00±12.25\n",
            "fastai    85.00±9.35\n"
          ],
          "name": "stdout"
        }
      ]
    },
    {
      "cell_type": "markdown",
      "metadata": {
        "id": "ssg9yMpDasKm",
        "colab_type": "text"
      },
      "source": [
        "## Layer 2 Experiments: Benign-DoH or Malicious-DoH"
      ]
    },
    {
      "cell_type": "code",
      "metadata": {
        "id": "oQzcxhJWay90",
        "colab_type": "code",
        "colab": {
          "base_uri": "https://localhost:8080/",
          "height": 313
        },
        "outputId": "b13f756d-404a-46dd-c40b-03986de6a3da"
      },
      "source": [
        "path = '/content/gdrive/My Drive/doh_dataset/Total-CSVs'\n",
        "df = get_data(path=path, layer=2)\n",
        "df.head()"
      ],
      "execution_count": 19,
      "outputs": [
        {
          "output_type": "execute_result",
          "data": {
            "text/html": [
              "<div>\n",
              "<style scoped>\n",
              "    .dataframe tbody tr th:only-of-type {\n",
              "        vertical-align: middle;\n",
              "    }\n",
              "\n",
              "    .dataframe tbody tr th {\n",
              "        vertical-align: top;\n",
              "    }\n",
              "\n",
              "    .dataframe thead th {\n",
              "        text-align: right;\n",
              "    }\n",
              "</style>\n",
              "<table border=\"1\" class=\"dataframe\">\n",
              "  <thead>\n",
              "    <tr style=\"text-align: right;\">\n",
              "      <th></th>\n",
              "      <th>SourceIP</th>\n",
              "      <th>DestinationIP</th>\n",
              "      <th>SourcePort</th>\n",
              "      <th>DestinationPort</th>\n",
              "      <th>TimeStamp</th>\n",
              "      <th>Duration</th>\n",
              "      <th>FlowBytesSent</th>\n",
              "      <th>FlowSentRate</th>\n",
              "      <th>FlowBytesReceived</th>\n",
              "      <th>FlowReceivedRate</th>\n",
              "      <th>PacketLengthVariance</th>\n",
              "      <th>PacketLengthStandardDeviation</th>\n",
              "      <th>PacketLengthMean</th>\n",
              "      <th>PacketLengthMedian</th>\n",
              "      <th>PacketLengthMode</th>\n",
              "      <th>PacketLengthSkewFromMedian</th>\n",
              "      <th>PacketLengthSkewFromMode</th>\n",
              "      <th>PacketLengthCoefficientofVariation</th>\n",
              "      <th>PacketTimeVariance</th>\n",
              "      <th>PacketTimeStandardDeviation</th>\n",
              "      <th>PacketTimeMean</th>\n",
              "      <th>PacketTimeMedian</th>\n",
              "      <th>PacketTimeMode</th>\n",
              "      <th>PacketTimeSkewFromMedian</th>\n",
              "      <th>PacketTimeSkewFromMode</th>\n",
              "      <th>PacketTimeCoefficientofVariation</th>\n",
              "      <th>ResponseTimeTimeVariance</th>\n",
              "      <th>ResponseTimeTimeStandardDeviation</th>\n",
              "      <th>ResponseTimeTimeMean</th>\n",
              "      <th>ResponseTimeTimeMedian</th>\n",
              "      <th>ResponseTimeTimeMode</th>\n",
              "      <th>ResponseTimeTimeSkewFromMedian</th>\n",
              "      <th>ResponseTimeTimeSkewFromMode</th>\n",
              "      <th>ResponseTimeTimeCoefficientofVariation</th>\n",
              "      <th>Label</th>\n",
              "    </tr>\n",
              "  </thead>\n",
              "  <tbody>\n",
              "    <tr>\n",
              "      <th>0</th>\n",
              "      <td>192.168.20.191</td>\n",
              "      <td>176.103.130.131</td>\n",
              "      <td>50749</td>\n",
              "      <td>443</td>\n",
              "      <td>2020-01-14 15:49:11</td>\n",
              "      <td>95.081550</td>\n",
              "      <td>62311</td>\n",
              "      <td>655.342703</td>\n",
              "      <td>65358</td>\n",
              "      <td>687.388878</td>\n",
              "      <td>7474.676771</td>\n",
              "      <td>86.456213</td>\n",
              "      <td>135.673751</td>\n",
              "      <td>102.0</td>\n",
              "      <td>54</td>\n",
              "      <td>1.168467</td>\n",
              "      <td>0.944683</td>\n",
              "      <td>0.637236</td>\n",
              "      <td>670.585814</td>\n",
              "      <td>25.895672</td>\n",
              "      <td>45.065277</td>\n",
              "      <td>48.811292</td>\n",
              "      <td>1.495060</td>\n",
              "      <td>-0.433974</td>\n",
              "      <td>1.682529</td>\n",
              "      <td>0.574626</td>\n",
              "      <td>0.001053</td>\n",
              "      <td>0.032457</td>\n",
              "      <td>0.027624</td>\n",
              "      <td>0.026854</td>\n",
              "      <td>0.026822</td>\n",
              "      <td>0.071187</td>\n",
              "      <td>0.024715</td>\n",
              "      <td>1.174948</td>\n",
              "      <td>Benign</td>\n",
              "    </tr>\n",
              "    <tr>\n",
              "      <th>1</th>\n",
              "      <td>192.168.20.191</td>\n",
              "      <td>176.103.130.131</td>\n",
              "      <td>50749</td>\n",
              "      <td>443</td>\n",
              "      <td>2020-01-14 15:50:52</td>\n",
              "      <td>122.309318</td>\n",
              "      <td>93828</td>\n",
              "      <td>767.136973</td>\n",
              "      <td>101232</td>\n",
              "      <td>827.672018</td>\n",
              "      <td>10458.118598</td>\n",
              "      <td>102.264943</td>\n",
              "      <td>141.245474</td>\n",
              "      <td>114.0</td>\n",
              "      <td>54</td>\n",
              "      <td>0.799261</td>\n",
              "      <td>0.853132</td>\n",
              "      <td>0.724023</td>\n",
              "      <td>708.465878</td>\n",
              "      <td>26.617022</td>\n",
              "      <td>52.287903</td>\n",
              "      <td>48.830314</td>\n",
              "      <td>31.719656</td>\n",
              "      <td>0.389704</td>\n",
              "      <td>0.772748</td>\n",
              "      <td>0.509047</td>\n",
              "      <td>0.001170</td>\n",
              "      <td>0.034200</td>\n",
              "      <td>0.024387</td>\n",
              "      <td>0.021043</td>\n",
              "      <td>0.026981</td>\n",
              "      <td>0.293297</td>\n",
              "      <td>-0.075845</td>\n",
              "      <td>1.402382</td>\n",
              "      <td>Benign</td>\n",
              "    </tr>\n",
              "    <tr>\n",
              "      <th>2</th>\n",
              "      <td>192.168.20.191</td>\n",
              "      <td>176.103.130.131</td>\n",
              "      <td>50749</td>\n",
              "      <td>443</td>\n",
              "      <td>2020-01-14 15:52:55</td>\n",
              "      <td>120.958413</td>\n",
              "      <td>38784</td>\n",
              "      <td>320.639127</td>\n",
              "      <td>38236</td>\n",
              "      <td>316.108645</td>\n",
              "      <td>7300.293933</td>\n",
              "      <td>85.441758</td>\n",
              "      <td>133.715278</td>\n",
              "      <td>89.0</td>\n",
              "      <td>54</td>\n",
              "      <td>1.570027</td>\n",
              "      <td>0.932978</td>\n",
              "      <td>0.638983</td>\n",
              "      <td>1358.911235</td>\n",
              "      <td>36.863413</td>\n",
              "      <td>50.316114</td>\n",
              "      <td>39.770747</td>\n",
              "      <td>0.417528</td>\n",
              "      <td>0.858198</td>\n",
              "      <td>1.353607</td>\n",
              "      <td>0.732636</td>\n",
              "      <td>0.000785</td>\n",
              "      <td>0.028021</td>\n",
              "      <td>0.029238</td>\n",
              "      <td>0.026921</td>\n",
              "      <td>0.026855</td>\n",
              "      <td>0.248064</td>\n",
              "      <td>0.085061</td>\n",
              "      <td>0.958348</td>\n",
              "      <td>Benign</td>\n",
              "    </tr>\n",
              "    <tr>\n",
              "      <th>3</th>\n",
              "      <td>192.168.20.191</td>\n",
              "      <td>176.103.130.131</td>\n",
              "      <td>50749</td>\n",
              "      <td>443</td>\n",
              "      <td>2020-01-14 15:54:56</td>\n",
              "      <td>110.501080</td>\n",
              "      <td>61993</td>\n",
              "      <td>561.017141</td>\n",
              "      <td>69757</td>\n",
              "      <td>631.278898</td>\n",
              "      <td>8499.282518</td>\n",
              "      <td>92.191553</td>\n",
              "      <td>139.123548</td>\n",
              "      <td>114.0</td>\n",
              "      <td>54</td>\n",
              "      <td>0.817544</td>\n",
              "      <td>0.923333</td>\n",
              "      <td>0.662660</td>\n",
              "      <td>1118.135436</td>\n",
              "      <td>33.438532</td>\n",
              "      <td>51.693726</td>\n",
              "      <td>34.882495</td>\n",
              "      <td>13.280934</td>\n",
              "      <td>1.508251</td>\n",
              "      <td>1.148758</td>\n",
              "      <td>0.646859</td>\n",
              "      <td>0.000411</td>\n",
              "      <td>0.020274</td>\n",
              "      <td>0.019925</td>\n",
              "      <td>0.019268</td>\n",
              "      <td>0.026918</td>\n",
              "      <td>0.097199</td>\n",
              "      <td>-0.344926</td>\n",
              "      <td>1.017535</td>\n",
              "      <td>Benign</td>\n",
              "    </tr>\n",
              "    <tr>\n",
              "      <th>4</th>\n",
              "      <td>176.103.130.131</td>\n",
              "      <td>192.168.20.191</td>\n",
              "      <td>443</td>\n",
              "      <td>50749</td>\n",
              "      <td>2020-01-14 15:56:46</td>\n",
              "      <td>54.229891</td>\n",
              "      <td>83641</td>\n",
              "      <td>1542.341289</td>\n",
              "      <td>76804</td>\n",
              "      <td>1416.266907</td>\n",
              "      <td>8052.745751</td>\n",
              "      <td>89.737092</td>\n",
              "      <td>138.913420</td>\n",
              "      <td>114.0</td>\n",
              "      <td>114</td>\n",
              "      <td>0.832880</td>\n",
              "      <td>0.277627</td>\n",
              "      <td>0.645993</td>\n",
              "      <td>341.696613</td>\n",
              "      <td>18.485038</td>\n",
              "      <td>36.435619</td>\n",
              "      <td>49.822561</td>\n",
              "      <td>7.342519</td>\n",
              "      <td>-2.172613</td>\n",
              "      <td>1.573873</td>\n",
              "      <td>0.507334</td>\n",
              "      <td>0.079079</td>\n",
              "      <td>0.281209</td>\n",
              "      <td>0.025930</td>\n",
              "      <td>0.000047</td>\n",
              "      <td>0.000021</td>\n",
              "      <td>0.276133</td>\n",
              "      <td>0.092135</td>\n",
              "      <td>10.844829</td>\n",
              "      <td>Benign</td>\n",
              "    </tr>\n",
              "  </tbody>\n",
              "</table>\n",
              "</div>"
            ],
            "text/plain": [
              "          SourceIP  ...   Label\n",
              "0   192.168.20.191  ...  Benign\n",
              "1   192.168.20.191  ...  Benign\n",
              "2   192.168.20.191  ...  Benign\n",
              "3   192.168.20.191  ...  Benign\n",
              "4  176.103.130.131  ...  Benign\n",
              "\n",
              "[5 rows x 35 columns]"
            ]
          },
          "metadata": {
            "tags": []
          },
          "execution_count": 19
        }
      ]
    },
    {
      "cell_type": "code",
      "metadata": {
        "id": "p1R8pZ66a5mz",
        "colab_type": "code",
        "colab": {}
      },
      "source": [
        "bad_columns = ['SourceIP', 'DestinationIP', 'SourcePort', 'DestinationPort', 'TimeStamp']\n",
        "df.drop(labels=bad_columns, axis='columns', inplace=True)"
      ],
      "execution_count": 20,
      "outputs": []
    },
    {
      "cell_type": "code",
      "metadata": {
        "id": "RTtdF9Sja5e2",
        "colab_type": "code",
        "colab": {
          "base_uri": "https://localhost:8080/",
          "height": 69
        },
        "outputId": "9299f2a6-2b6b-4ee3-a0a6-680c04928c85"
      },
      "source": [
        "# The target classifications are in the 'Label' columns, \n",
        "#  thus this is the independent variable!\n",
        "dep_var = 'Label'\n",
        "df[dep_var].value_counts()"
      ],
      "execution_count": 21,
      "outputs": [
        {
          "output_type": "execute_result",
          "data": {
            "text/plain": [
              "Malicious    249553\n",
              "Benign        19746\n",
              "Name: Label, dtype: int64"
            ]
          },
          "metadata": {
            "tags": []
          },
          "execution_count": 21
        }
      ]
    },
    {
      "cell_type": "code",
      "metadata": {
        "id": "KHGbWGHxigHG",
        "colab_type": "code",
        "colab": {}
      },
      "source": [
        "# Balance the data out\n",
        "df = balance_data(df, dep_var)"
      ],
      "execution_count": 22,
      "outputs": []
    },
    {
      "cell_type": "code",
      "metadata": {
        "id": "zkeOOY-4ihz5",
        "colab_type": "code",
        "colab": {
          "base_uri": "https://localhost:8080/",
          "height": 69
        },
        "outputId": "594be442-af5c-49a0-cb96-8249911146ea"
      },
      "source": [
        "df[dep_var].value_counts()"
      ],
      "execution_count": 23,
      "outputs": [
        {
          "output_type": "execute_result",
          "data": {
            "text/plain": [
              "Benign       40\n",
              "Malicious    40\n",
              "Name: Label, dtype: int64"
            ]
          },
          "metadata": {
            "tags": []
          },
          "execution_count": 23
        }
      ]
    },
    {
      "cell_type": "code",
      "metadata": {
        "id": "zDSwiqNaa5XP",
        "colab_type": "code",
        "colab": {}
      },
      "source": [
        "# Split up the data into the data (X) and classifications (y)\n",
        "X = df.loc[:, df.columns != dep_var]\n",
        "y = df[dep_var]"
      ],
      "execution_count": 24,
      "outputs": []
    },
    {
      "cell_type": "code",
      "metadata": {
        "id": "3gXMvDDUa5MN",
        "colab_type": "code",
        "colab": {
          "base_uri": "https://localhost:8080/",
          "height": 52
        },
        "outputId": "1942777f-e6c0-4b9b-ee30-51cd5bc8f7e6"
      },
      "source": [
        "best_features_layer2 = ['PacketLengthStandardDeviation', 'PacketLengthCoefficientofVariation',\n",
        "       'FlowReceivedRate', 'PacketLengthMean', 'Duration',\n",
        "       'PacketTimeSkewFromMedian', 'FlowSentRate', 'PacketLengthVariance',\n",
        "       'PacketTimeMean', 'PacketTimeStandardDeviation',\n",
        "       'ResponseTimeTimeMedian', 'PacketTimeMedian',\n",
        "       'ResponseTimeTimeSkewFromMode', 'ResponseTimeTimeMean',\n",
        "       'ResponseTimeTimeMode', 'PacketTimeCoefficientofVariation',\n",
        "       'ResponseTimeTimeSkewFromMedian', 'PacketTimeMode', 'FlowBytesSent',\n",
        "       'FlowBytesReceived', 'PacketLengthMode',\n",
        "       'ResponseTimeTimeCoefficientofVariation', 'PacketLengthSkewFromMedian',\n",
        "       'PacketTimeVariance', 'PacketLengthMedian', 'PacketTimeSkewFromMode',\n",
        "       'ResponseTimeTimeStandardDeviation', 'ResponseTimeTimeVariance',\n",
        "       'PacketLengthSkewFromMode']\n",
        "print('These are the best 4 features for layer 2: {}'.format(best_features_layer2[:4]))\n",
        "print('These are the worst 4 features for layer 2: {}'.format(best_features_layer2[-4:]))"
      ],
      "execution_count": 25,
      "outputs": [
        {
          "output_type": "stream",
          "text": [
            "These are the best 4 features for layer 2: ['PacketLengthStandardDeviation', 'PacketLengthCoefficientofVariation', 'FlowReceivedRate', 'PacketLengthMean']\n",
            "These are the worst 4 features for layer 2: ['PacketTimeSkewFromMode', 'ResponseTimeTimeStandardDeviation', 'ResponseTimeTimeVariance', 'PacketLengthSkewFromMode']\n"
          ],
          "name": "stdout"
        }
      ]
    },
    {
      "cell_type": "code",
      "metadata": {
        "id": "xr52P7hObFlI",
        "colab_type": "code",
        "colab": {
          "base_uri": "https://localhost:8080/",
          "height": 1000
        },
        "outputId": "e86b39c0-d04c-4999-9634-65225ce35443"
      },
      "source": [
        "mm = MetricsManager()\n",
        "\n",
        "train_and_eval_on(X=X, y=y, feature_set=best_features_layer1, metrics_manager=mm)"
      ],
      "execution_count": 26,
      "outputs": [
        {
          "output_type": "stream",
          "text": [
            "Training with 29 features\n",
            "fold num 1\n"
          ],
          "name": "stdout"
        },
        {
          "output_type": "stream",
          "text": [
            "/usr/local/lib/python3.6/dist-packages/sklearn/linear_model/_logistic.py:940: ConvergenceWarning: lbfgs failed to converge (status=1):\n",
            "STOP: TOTAL NO. of ITERATIONS REACHED LIMIT.\n",
            "\n",
            "Increase the number of iterations (max_iter) or scale the data as shown in:\n",
            "    https://scikit-learn.org/stable/modules/preprocessing.html\n",
            "Please also refer to the documentation for alternative solver options:\n",
            "    https://scikit-learn.org/stable/modules/linear_model.html#logistic-regression\n",
            "  extra_warning_msg=_LOGISTIC_SOLVER_CONVERGENCE_MSG)\n"
          ],
          "name": "stderr"
        },
        {
          "output_type": "stream",
          "text": [
            "WARNING:tensorflow:11 out of the last 11 calls to <function Model.make_test_function.<locals>.test_function at 0x7f5dbb52f730> triggered tf.function retracing. Tracing is expensive and the excessive number of tracings could be due to (1) creating @tf.function repeatedly in a loop, (2) passing tensors with different shapes, (3) passing Python objects instead of tensors. For (1), please define your @tf.function outside of the loop. For (2), @tf.function has experimental_relax_shapes=True option that relaxes argument shapes that can avoid unnecessary retracing. For (3), please refer to https://www.tensorflow.org/tutorials/customization/performance#python_or_tensor_args and https://www.tensorflow.org/api_docs/python/tf/function for  more details.\n"
          ],
          "name": "stdout"
        },
        {
          "output_type": "display_data",
          "data": {
            "text/html": [
              "<table border=\"1\" class=\"dataframe\">\n",
              "  <thead>\n",
              "    <tr style=\"text-align: left;\">\n",
              "      <th>epoch</th>\n",
              "      <th>train_loss</th>\n",
              "      <th>valid_loss</th>\n",
              "      <th>accuracy</th>\n",
              "      <th>time</th>\n",
              "    </tr>\n",
              "  </thead>\n",
              "  <tbody>\n",
              "    <tr>\n",
              "      <td>0</td>\n",
              "      <td>0.737612</td>\n",
              "      <td>0.675974</td>\n",
              "      <td>0.500000</td>\n",
              "      <td>00:00</td>\n",
              "    </tr>\n",
              "    <tr>\n",
              "      <td>1</td>\n",
              "      <td>0.687723</td>\n",
              "      <td>0.662456</td>\n",
              "      <td>0.625000</td>\n",
              "      <td>00:00</td>\n",
              "    </tr>\n",
              "    <tr>\n",
              "      <td>2</td>\n",
              "      <td>0.637703</td>\n",
              "      <td>0.638048</td>\n",
              "      <td>0.750000</td>\n",
              "      <td>00:00</td>\n",
              "    </tr>\n",
              "    <tr>\n",
              "      <td>3</td>\n",
              "      <td>0.557583</td>\n",
              "      <td>0.604583</td>\n",
              "      <td>0.750000</td>\n",
              "      <td>00:00</td>\n",
              "    </tr>\n",
              "    <tr>\n",
              "      <td>4</td>\n",
              "      <td>0.495572</td>\n",
              "      <td>0.572135</td>\n",
              "      <td>0.750000</td>\n",
              "      <td>00:00</td>\n",
              "    </tr>\n",
              "    <tr>\n",
              "      <td>5</td>\n",
              "      <td>0.440726</td>\n",
              "      <td>0.536911</td>\n",
              "      <td>0.750000</td>\n",
              "      <td>00:00</td>\n",
              "    </tr>\n",
              "    <tr>\n",
              "      <td>6</td>\n",
              "      <td>0.403011</td>\n",
              "      <td>0.506367</td>\n",
              "      <td>0.875000</td>\n",
              "      <td>00:00</td>\n",
              "    </tr>\n",
              "    <tr>\n",
              "      <td>7</td>\n",
              "      <td>0.371606</td>\n",
              "      <td>0.479389</td>\n",
              "      <td>0.875000</td>\n",
              "      <td>00:00</td>\n",
              "    </tr>\n",
              "    <tr>\n",
              "      <td>8</td>\n",
              "      <td>0.343860</td>\n",
              "      <td>0.457346</td>\n",
              "      <td>0.875000</td>\n",
              "      <td>00:00</td>\n",
              "    </tr>\n",
              "    <tr>\n",
              "      <td>9</td>\n",
              "      <td>0.322250</td>\n",
              "      <td>0.438344</td>\n",
              "      <td>0.875000</td>\n",
              "      <td>00:00</td>\n",
              "    </tr>\n",
              "  </tbody>\n",
              "</table>"
            ],
            "text/plain": [
              "<IPython.core.display.HTML object>"
            ]
          },
          "metadata": {
            "tags": []
          }
        },
        {
          "output_type": "display_data",
          "data": {
            "text/html": [
              ""
            ],
            "text/plain": [
              "<IPython.core.display.HTML object>"
            ]
          },
          "metadata": {
            "tags": []
          }
        },
        {
          "output_type": "stream",
          "text": [
            "fold num 2\n"
          ],
          "name": "stdout"
        },
        {
          "output_type": "stream",
          "text": [
            "/usr/local/lib/python3.6/dist-packages/sklearn/linear_model/_logistic.py:940: ConvergenceWarning: lbfgs failed to converge (status=1):\n",
            "STOP: TOTAL NO. of ITERATIONS REACHED LIMIT.\n",
            "\n",
            "Increase the number of iterations (max_iter) or scale the data as shown in:\n",
            "    https://scikit-learn.org/stable/modules/preprocessing.html\n",
            "Please also refer to the documentation for alternative solver options:\n",
            "    https://scikit-learn.org/stable/modules/linear_model.html#logistic-regression\n",
            "  extra_warning_msg=_LOGISTIC_SOLVER_CONVERGENCE_MSG)\n"
          ],
          "name": "stderr"
        },
        {
          "output_type": "stream",
          "text": [
            "WARNING:tensorflow:11 out of the last 11 calls to <function Model.make_test_function.<locals>.test_function at 0x7f5dc3b16ea0> triggered tf.function retracing. Tracing is expensive and the excessive number of tracings could be due to (1) creating @tf.function repeatedly in a loop, (2) passing tensors with different shapes, (3) passing Python objects instead of tensors. For (1), please define your @tf.function outside of the loop. For (2), @tf.function has experimental_relax_shapes=True option that relaxes argument shapes that can avoid unnecessary retracing. For (3), please refer to https://www.tensorflow.org/tutorials/customization/performance#python_or_tensor_args and https://www.tensorflow.org/api_docs/python/tf/function for  more details.\n"
          ],
          "name": "stdout"
        },
        {
          "output_type": "display_data",
          "data": {
            "text/html": [
              "<table border=\"1\" class=\"dataframe\">\n",
              "  <thead>\n",
              "    <tr style=\"text-align: left;\">\n",
              "      <th>epoch</th>\n",
              "      <th>train_loss</th>\n",
              "      <th>valid_loss</th>\n",
              "      <th>accuracy</th>\n",
              "      <th>time</th>\n",
              "    </tr>\n",
              "  </thead>\n",
              "  <tbody>\n",
              "    <tr>\n",
              "      <td>0</td>\n",
              "      <td>0.847909</td>\n",
              "      <td>0.716261</td>\n",
              "      <td>0.125000</td>\n",
              "      <td>00:00</td>\n",
              "    </tr>\n",
              "    <tr>\n",
              "      <td>1</td>\n",
              "      <td>0.839858</td>\n",
              "      <td>0.704190</td>\n",
              "      <td>0.250000</td>\n",
              "      <td>00:00</td>\n",
              "    </tr>\n",
              "    <tr>\n",
              "      <td>2</td>\n",
              "      <td>0.766856</td>\n",
              "      <td>0.669720</td>\n",
              "      <td>0.625000</td>\n",
              "      <td>00:00</td>\n",
              "    </tr>\n",
              "    <tr>\n",
              "      <td>3</td>\n",
              "      <td>0.665648</td>\n",
              "      <td>0.625690</td>\n",
              "      <td>0.875000</td>\n",
              "      <td>00:00</td>\n",
              "    </tr>\n",
              "    <tr>\n",
              "      <td>4</td>\n",
              "      <td>0.583602</td>\n",
              "      <td>0.582032</td>\n",
              "      <td>0.875000</td>\n",
              "      <td>00:00</td>\n",
              "    </tr>\n",
              "    <tr>\n",
              "      <td>5</td>\n",
              "      <td>0.523103</td>\n",
              "      <td>0.543118</td>\n",
              "      <td>1.000000</td>\n",
              "      <td>00:00</td>\n",
              "    </tr>\n",
              "    <tr>\n",
              "      <td>6</td>\n",
              "      <td>0.477680</td>\n",
              "      <td>0.509218</td>\n",
              "      <td>1.000000</td>\n",
              "      <td>00:00</td>\n",
              "    </tr>\n",
              "    <tr>\n",
              "      <td>7</td>\n",
              "      <td>0.437856</td>\n",
              "      <td>0.480057</td>\n",
              "      <td>1.000000</td>\n",
              "      <td>00:00</td>\n",
              "    </tr>\n",
              "    <tr>\n",
              "      <td>8</td>\n",
              "      <td>0.406566</td>\n",
              "      <td>0.454399</td>\n",
              "      <td>1.000000</td>\n",
              "      <td>00:00</td>\n",
              "    </tr>\n",
              "    <tr>\n",
              "      <td>9</td>\n",
              "      <td>0.378726</td>\n",
              "      <td>0.432347</td>\n",
              "      <td>1.000000</td>\n",
              "      <td>00:00</td>\n",
              "    </tr>\n",
              "  </tbody>\n",
              "</table>"
            ],
            "text/plain": [
              "<IPython.core.display.HTML object>"
            ]
          },
          "metadata": {
            "tags": []
          }
        },
        {
          "output_type": "display_data",
          "data": {
            "text/html": [
              ""
            ],
            "text/plain": [
              "<IPython.core.display.HTML object>"
            ]
          },
          "metadata": {
            "tags": []
          }
        },
        {
          "output_type": "stream",
          "text": [
            "fold num 3\n"
          ],
          "name": "stdout"
        },
        {
          "output_type": "stream",
          "text": [
            "/usr/local/lib/python3.6/dist-packages/sklearn/linear_model/_logistic.py:940: ConvergenceWarning: lbfgs failed to converge (status=1):\n",
            "STOP: TOTAL NO. of ITERATIONS REACHED LIMIT.\n",
            "\n",
            "Increase the number of iterations (max_iter) or scale the data as shown in:\n",
            "    https://scikit-learn.org/stable/modules/preprocessing.html\n",
            "Please also refer to the documentation for alternative solver options:\n",
            "    https://scikit-learn.org/stable/modules/linear_model.html#logistic-regression\n",
            "  extra_warning_msg=_LOGISTIC_SOLVER_CONVERGENCE_MSG)\n"
          ],
          "name": "stderr"
        },
        {
          "output_type": "stream",
          "text": [
            "WARNING:tensorflow:11 out of the last 11 calls to <function Model.make_test_function.<locals>.test_function at 0x7f5dc65a1d90> triggered tf.function retracing. Tracing is expensive and the excessive number of tracings could be due to (1) creating @tf.function repeatedly in a loop, (2) passing tensors with different shapes, (3) passing Python objects instead of tensors. For (1), please define your @tf.function outside of the loop. For (2), @tf.function has experimental_relax_shapes=True option that relaxes argument shapes that can avoid unnecessary retracing. For (3), please refer to https://www.tensorflow.org/tutorials/customization/performance#python_or_tensor_args and https://www.tensorflow.org/api_docs/python/tf/function for  more details.\n"
          ],
          "name": "stdout"
        },
        {
          "output_type": "display_data",
          "data": {
            "text/html": [
              "<table border=\"1\" class=\"dataframe\">\n",
              "  <thead>\n",
              "    <tr style=\"text-align: left;\">\n",
              "      <th>epoch</th>\n",
              "      <th>train_loss</th>\n",
              "      <th>valid_loss</th>\n",
              "      <th>accuracy</th>\n",
              "      <th>time</th>\n",
              "    </tr>\n",
              "  </thead>\n",
              "  <tbody>\n",
              "    <tr>\n",
              "      <td>0</td>\n",
              "      <td>0.590634</td>\n",
              "      <td>0.648027</td>\n",
              "      <td>0.500000</td>\n",
              "      <td>00:00</td>\n",
              "    </tr>\n",
              "    <tr>\n",
              "      <td>1</td>\n",
              "      <td>0.573107</td>\n",
              "      <td>0.647330</td>\n",
              "      <td>0.500000</td>\n",
              "      <td>00:00</td>\n",
              "    </tr>\n",
              "    <tr>\n",
              "      <td>2</td>\n",
              "      <td>0.527670</td>\n",
              "      <td>0.672234</td>\n",
              "      <td>0.500000</td>\n",
              "      <td>00:00</td>\n",
              "    </tr>\n",
              "    <tr>\n",
              "      <td>3</td>\n",
              "      <td>0.463100</td>\n",
              "      <td>0.704037</td>\n",
              "      <td>0.500000</td>\n",
              "      <td>00:00</td>\n",
              "    </tr>\n",
              "    <tr>\n",
              "      <td>4</td>\n",
              "      <td>0.411604</td>\n",
              "      <td>0.727815</td>\n",
              "      <td>0.500000</td>\n",
              "      <td>00:00</td>\n",
              "    </tr>\n",
              "    <tr>\n",
              "      <td>5</td>\n",
              "      <td>0.368722</td>\n",
              "      <td>0.736181</td>\n",
              "      <td>0.625000</td>\n",
              "      <td>00:00</td>\n",
              "    </tr>\n",
              "    <tr>\n",
              "      <td>6</td>\n",
              "      <td>0.334228</td>\n",
              "      <td>0.745755</td>\n",
              "      <td>0.625000</td>\n",
              "      <td>00:00</td>\n",
              "    </tr>\n",
              "    <tr>\n",
              "      <td>7</td>\n",
              "      <td>0.304314</td>\n",
              "      <td>0.755084</td>\n",
              "      <td>0.625000</td>\n",
              "      <td>00:00</td>\n",
              "    </tr>\n",
              "    <tr>\n",
              "      <td>8</td>\n",
              "      <td>0.279468</td>\n",
              "      <td>0.770200</td>\n",
              "      <td>0.625000</td>\n",
              "      <td>00:00</td>\n",
              "    </tr>\n",
              "    <tr>\n",
              "      <td>9</td>\n",
              "      <td>0.260007</td>\n",
              "      <td>0.783458</td>\n",
              "      <td>0.625000</td>\n",
              "      <td>00:00</td>\n",
              "    </tr>\n",
              "  </tbody>\n",
              "</table>"
            ],
            "text/plain": [
              "<IPython.core.display.HTML object>"
            ]
          },
          "metadata": {
            "tags": []
          }
        },
        {
          "output_type": "display_data",
          "data": {
            "text/html": [
              ""
            ],
            "text/plain": [
              "<IPython.core.display.HTML object>"
            ]
          },
          "metadata": {
            "tags": []
          }
        },
        {
          "output_type": "stream",
          "text": [
            "fold num 4\n"
          ],
          "name": "stdout"
        },
        {
          "output_type": "stream",
          "text": [
            "/usr/local/lib/python3.6/dist-packages/sklearn/linear_model/_logistic.py:940: ConvergenceWarning: lbfgs failed to converge (status=1):\n",
            "STOP: TOTAL NO. of ITERATIONS REACHED LIMIT.\n",
            "\n",
            "Increase the number of iterations (max_iter) or scale the data as shown in:\n",
            "    https://scikit-learn.org/stable/modules/preprocessing.html\n",
            "Please also refer to the documentation for alternative solver options:\n",
            "    https://scikit-learn.org/stable/modules/linear_model.html#logistic-regression\n",
            "  extra_warning_msg=_LOGISTIC_SOLVER_CONVERGENCE_MSG)\n"
          ],
          "name": "stderr"
        },
        {
          "output_type": "stream",
          "text": [
            "WARNING:tensorflow:11 out of the last 11 calls to <function Model.make_test_function.<locals>.test_function at 0x7f5dc3afa2f0> triggered tf.function retracing. Tracing is expensive and the excessive number of tracings could be due to (1) creating @tf.function repeatedly in a loop, (2) passing tensors with different shapes, (3) passing Python objects instead of tensors. For (1), please define your @tf.function outside of the loop. For (2), @tf.function has experimental_relax_shapes=True option that relaxes argument shapes that can avoid unnecessary retracing. For (3), please refer to https://www.tensorflow.org/tutorials/customization/performance#python_or_tensor_args and https://www.tensorflow.org/api_docs/python/tf/function for  more details.\n"
          ],
          "name": "stdout"
        },
        {
          "output_type": "display_data",
          "data": {
            "text/html": [
              "<table border=\"1\" class=\"dataframe\">\n",
              "  <thead>\n",
              "    <tr style=\"text-align: left;\">\n",
              "      <th>epoch</th>\n",
              "      <th>train_loss</th>\n",
              "      <th>valid_loss</th>\n",
              "      <th>accuracy</th>\n",
              "      <th>time</th>\n",
              "    </tr>\n",
              "  </thead>\n",
              "  <tbody>\n",
              "    <tr>\n",
              "      <td>0</td>\n",
              "      <td>0.752658</td>\n",
              "      <td>0.706581</td>\n",
              "      <td>0.500000</td>\n",
              "      <td>00:00</td>\n",
              "    </tr>\n",
              "    <tr>\n",
              "      <td>1</td>\n",
              "      <td>0.741617</td>\n",
              "      <td>0.690353</td>\n",
              "      <td>0.500000</td>\n",
              "      <td>00:00</td>\n",
              "    </tr>\n",
              "    <tr>\n",
              "      <td>2</td>\n",
              "      <td>0.657006</td>\n",
              "      <td>0.656469</td>\n",
              "      <td>0.500000</td>\n",
              "      <td>00:00</td>\n",
              "    </tr>\n",
              "    <tr>\n",
              "      <td>3</td>\n",
              "      <td>0.563958</td>\n",
              "      <td>0.620703</td>\n",
              "      <td>0.750000</td>\n",
              "      <td>00:00</td>\n",
              "    </tr>\n",
              "    <tr>\n",
              "      <td>4</td>\n",
              "      <td>0.493579</td>\n",
              "      <td>0.586800</td>\n",
              "      <td>0.750000</td>\n",
              "      <td>00:00</td>\n",
              "    </tr>\n",
              "    <tr>\n",
              "      <td>5</td>\n",
              "      <td>0.439085</td>\n",
              "      <td>0.557701</td>\n",
              "      <td>0.750000</td>\n",
              "      <td>00:00</td>\n",
              "    </tr>\n",
              "    <tr>\n",
              "      <td>6</td>\n",
              "      <td>0.393707</td>\n",
              "      <td>0.531500</td>\n",
              "      <td>0.750000</td>\n",
              "      <td>00:00</td>\n",
              "    </tr>\n",
              "    <tr>\n",
              "      <td>7</td>\n",
              "      <td>0.359186</td>\n",
              "      <td>0.509287</td>\n",
              "      <td>0.750000</td>\n",
              "      <td>00:00</td>\n",
              "    </tr>\n",
              "    <tr>\n",
              "      <td>8</td>\n",
              "      <td>0.327891</td>\n",
              "      <td>0.493083</td>\n",
              "      <td>0.750000</td>\n",
              "      <td>00:00</td>\n",
              "    </tr>\n",
              "    <tr>\n",
              "      <td>9</td>\n",
              "      <td>0.303407</td>\n",
              "      <td>0.481899</td>\n",
              "      <td>0.750000</td>\n",
              "      <td>00:00</td>\n",
              "    </tr>\n",
              "  </tbody>\n",
              "</table>"
            ],
            "text/plain": [
              "<IPython.core.display.HTML object>"
            ]
          },
          "metadata": {
            "tags": []
          }
        },
        {
          "output_type": "display_data",
          "data": {
            "text/html": [
              ""
            ],
            "text/plain": [
              "<IPython.core.display.HTML object>"
            ]
          },
          "metadata": {
            "tags": []
          }
        },
        {
          "output_type": "stream",
          "text": [
            "fold num 5\n"
          ],
          "name": "stdout"
        },
        {
          "output_type": "stream",
          "text": [
            "/usr/local/lib/python3.6/dist-packages/sklearn/linear_model/_logistic.py:940: ConvergenceWarning: lbfgs failed to converge (status=1):\n",
            "STOP: TOTAL NO. of ITERATIONS REACHED LIMIT.\n",
            "\n",
            "Increase the number of iterations (max_iter) or scale the data as shown in:\n",
            "    https://scikit-learn.org/stable/modules/preprocessing.html\n",
            "Please also refer to the documentation for alternative solver options:\n",
            "    https://scikit-learn.org/stable/modules/linear_model.html#logistic-regression\n",
            "  extra_warning_msg=_LOGISTIC_SOLVER_CONVERGENCE_MSG)\n"
          ],
          "name": "stderr"
        },
        {
          "output_type": "stream",
          "text": [
            "WARNING:tensorflow:11 out of the last 11 calls to <function Model.make_test_function.<locals>.test_function at 0x7f5dbb47c6a8> triggered tf.function retracing. Tracing is expensive and the excessive number of tracings could be due to (1) creating @tf.function repeatedly in a loop, (2) passing tensors with different shapes, (3) passing Python objects instead of tensors. For (1), please define your @tf.function outside of the loop. For (2), @tf.function has experimental_relax_shapes=True option that relaxes argument shapes that can avoid unnecessary retracing. For (3), please refer to https://www.tensorflow.org/tutorials/customization/performance#python_or_tensor_args and https://www.tensorflow.org/api_docs/python/tf/function for  more details.\n"
          ],
          "name": "stdout"
        },
        {
          "output_type": "display_data",
          "data": {
            "text/html": [
              "<table border=\"1\" class=\"dataframe\">\n",
              "  <thead>\n",
              "    <tr style=\"text-align: left;\">\n",
              "      <th>epoch</th>\n",
              "      <th>train_loss</th>\n",
              "      <th>valid_loss</th>\n",
              "      <th>accuracy</th>\n",
              "      <th>time</th>\n",
              "    </tr>\n",
              "  </thead>\n",
              "  <tbody>\n",
              "    <tr>\n",
              "      <td>0</td>\n",
              "      <td>0.804119</td>\n",
              "      <td>0.697153</td>\n",
              "      <td>0.500000</td>\n",
              "      <td>00:00</td>\n",
              "    </tr>\n",
              "    <tr>\n",
              "      <td>1</td>\n",
              "      <td>0.790285</td>\n",
              "      <td>0.674077</td>\n",
              "      <td>0.625000</td>\n",
              "      <td>00:00</td>\n",
              "    </tr>\n",
              "    <tr>\n",
              "      <td>2</td>\n",
              "      <td>0.716402</td>\n",
              "      <td>0.629154</td>\n",
              "      <td>0.750000</td>\n",
              "      <td>00:00</td>\n",
              "    </tr>\n",
              "    <tr>\n",
              "      <td>3</td>\n",
              "      <td>0.620098</td>\n",
              "      <td>0.579321</td>\n",
              "      <td>0.875000</td>\n",
              "      <td>00:00</td>\n",
              "    </tr>\n",
              "    <tr>\n",
              "      <td>4</td>\n",
              "      <td>0.543650</td>\n",
              "      <td>0.535138</td>\n",
              "      <td>1.000000</td>\n",
              "      <td>00:00</td>\n",
              "    </tr>\n",
              "    <tr>\n",
              "      <td>5</td>\n",
              "      <td>0.485686</td>\n",
              "      <td>0.497747</td>\n",
              "      <td>1.000000</td>\n",
              "      <td>00:00</td>\n",
              "    </tr>\n",
              "    <tr>\n",
              "      <td>6</td>\n",
              "      <td>0.438311</td>\n",
              "      <td>0.467382</td>\n",
              "      <td>1.000000</td>\n",
              "      <td>00:00</td>\n",
              "    </tr>\n",
              "    <tr>\n",
              "      <td>7</td>\n",
              "      <td>0.398583</td>\n",
              "      <td>0.441322</td>\n",
              "      <td>1.000000</td>\n",
              "      <td>00:00</td>\n",
              "    </tr>\n",
              "    <tr>\n",
              "      <td>8</td>\n",
              "      <td>0.369424</td>\n",
              "      <td>0.419180</td>\n",
              "      <td>1.000000</td>\n",
              "      <td>00:00</td>\n",
              "    </tr>\n",
              "    <tr>\n",
              "      <td>9</td>\n",
              "      <td>0.342391</td>\n",
              "      <td>0.402224</td>\n",
              "      <td>1.000000</td>\n",
              "      <td>00:00</td>\n",
              "    </tr>\n",
              "  </tbody>\n",
              "</table>"
            ],
            "text/plain": [
              "<IPython.core.display.HTML object>"
            ]
          },
          "metadata": {
            "tags": []
          }
        },
        {
          "output_type": "display_data",
          "data": {
            "text/html": [
              ""
            ],
            "text/plain": [
              "<IPython.core.display.HTML object>"
            ]
          },
          "metadata": {
            "tags": []
          }
        },
        {
          "output_type": "stream",
          "text": [
            "fold num 6\n"
          ],
          "name": "stdout"
        },
        {
          "output_type": "stream",
          "text": [
            "/usr/local/lib/python3.6/dist-packages/sklearn/linear_model/_logistic.py:940: ConvergenceWarning: lbfgs failed to converge (status=1):\n",
            "STOP: TOTAL NO. of ITERATIONS REACHED LIMIT.\n",
            "\n",
            "Increase the number of iterations (max_iter) or scale the data as shown in:\n",
            "    https://scikit-learn.org/stable/modules/preprocessing.html\n",
            "Please also refer to the documentation for alternative solver options:\n",
            "    https://scikit-learn.org/stable/modules/linear_model.html#logistic-regression\n",
            "  extra_warning_msg=_LOGISTIC_SOLVER_CONVERGENCE_MSG)\n"
          ],
          "name": "stderr"
        },
        {
          "output_type": "stream",
          "text": [
            "WARNING:tensorflow:11 out of the last 11 calls to <function Model.make_test_function.<locals>.test_function at 0x7f5dc1e138c8> triggered tf.function retracing. Tracing is expensive and the excessive number of tracings could be due to (1) creating @tf.function repeatedly in a loop, (2) passing tensors with different shapes, (3) passing Python objects instead of tensors. For (1), please define your @tf.function outside of the loop. For (2), @tf.function has experimental_relax_shapes=True option that relaxes argument shapes that can avoid unnecessary retracing. For (3), please refer to https://www.tensorflow.org/tutorials/customization/performance#python_or_tensor_args and https://www.tensorflow.org/api_docs/python/tf/function for  more details.\n"
          ],
          "name": "stdout"
        },
        {
          "output_type": "display_data",
          "data": {
            "text/html": [
              "<table border=\"1\" class=\"dataframe\">\n",
              "  <thead>\n",
              "    <tr style=\"text-align: left;\">\n",
              "      <th>epoch</th>\n",
              "      <th>train_loss</th>\n",
              "      <th>valid_loss</th>\n",
              "      <th>accuracy</th>\n",
              "      <th>time</th>\n",
              "    </tr>\n",
              "  </thead>\n",
              "  <tbody>\n",
              "    <tr>\n",
              "      <td>0</td>\n",
              "      <td>0.752959</td>\n",
              "      <td>3.184497</td>\n",
              "      <td>0.500000</td>\n",
              "      <td>00:00</td>\n",
              "    </tr>\n",
              "    <tr>\n",
              "      <td>1</td>\n",
              "      <td>0.743129</td>\n",
              "      <td>2.691381</td>\n",
              "      <td>0.750000</td>\n",
              "      <td>00:00</td>\n",
              "    </tr>\n",
              "    <tr>\n",
              "      <td>2</td>\n",
              "      <td>0.676512</td>\n",
              "      <td>1.329074</td>\n",
              "      <td>0.750000</td>\n",
              "      <td>00:00</td>\n",
              "    </tr>\n",
              "    <tr>\n",
              "      <td>3</td>\n",
              "      <td>0.588310</td>\n",
              "      <td>0.460545</td>\n",
              "      <td>0.875000</td>\n",
              "      <td>00:00</td>\n",
              "    </tr>\n",
              "    <tr>\n",
              "      <td>4</td>\n",
              "      <td>0.517741</td>\n",
              "      <td>0.425650</td>\n",
              "      <td>0.875000</td>\n",
              "      <td>00:00</td>\n",
              "    </tr>\n",
              "    <tr>\n",
              "      <td>5</td>\n",
              "      <td>0.462496</td>\n",
              "      <td>0.404220</td>\n",
              "      <td>0.875000</td>\n",
              "      <td>00:00</td>\n",
              "    </tr>\n",
              "    <tr>\n",
              "      <td>6</td>\n",
              "      <td>0.420076</td>\n",
              "      <td>0.386454</td>\n",
              "      <td>0.875000</td>\n",
              "      <td>00:00</td>\n",
              "    </tr>\n",
              "    <tr>\n",
              "      <td>7</td>\n",
              "      <td>0.381683</td>\n",
              "      <td>0.371209</td>\n",
              "      <td>0.875000</td>\n",
              "      <td>00:00</td>\n",
              "    </tr>\n",
              "    <tr>\n",
              "      <td>8</td>\n",
              "      <td>0.352970</td>\n",
              "      <td>0.357442</td>\n",
              "      <td>0.875000</td>\n",
              "      <td>00:00</td>\n",
              "    </tr>\n",
              "    <tr>\n",
              "      <td>9</td>\n",
              "      <td>0.329214</td>\n",
              "      <td>0.345491</td>\n",
              "      <td>0.875000</td>\n",
              "      <td>00:00</td>\n",
              "    </tr>\n",
              "  </tbody>\n",
              "</table>"
            ],
            "text/plain": [
              "<IPython.core.display.HTML object>"
            ]
          },
          "metadata": {
            "tags": []
          }
        },
        {
          "output_type": "display_data",
          "data": {
            "text/html": [
              ""
            ],
            "text/plain": [
              "<IPython.core.display.HTML object>"
            ]
          },
          "metadata": {
            "tags": []
          }
        },
        {
          "output_type": "stream",
          "text": [
            "fold num 7\n"
          ],
          "name": "stdout"
        },
        {
          "output_type": "stream",
          "text": [
            "/usr/local/lib/python3.6/dist-packages/sklearn/linear_model/_logistic.py:940: ConvergenceWarning: lbfgs failed to converge (status=1):\n",
            "STOP: TOTAL NO. of ITERATIONS REACHED LIMIT.\n",
            "\n",
            "Increase the number of iterations (max_iter) or scale the data as shown in:\n",
            "    https://scikit-learn.org/stable/modules/preprocessing.html\n",
            "Please also refer to the documentation for alternative solver options:\n",
            "    https://scikit-learn.org/stable/modules/linear_model.html#logistic-regression\n",
            "  extra_warning_msg=_LOGISTIC_SOLVER_CONVERGENCE_MSG)\n"
          ],
          "name": "stderr"
        },
        {
          "output_type": "stream",
          "text": [
            "WARNING:tensorflow:11 out of the last 11 calls to <function Model.make_test_function.<locals>.test_function at 0x7f5e1d272950> triggered tf.function retracing. Tracing is expensive and the excessive number of tracings could be due to (1) creating @tf.function repeatedly in a loop, (2) passing tensors with different shapes, (3) passing Python objects instead of tensors. For (1), please define your @tf.function outside of the loop. For (2), @tf.function has experimental_relax_shapes=True option that relaxes argument shapes that can avoid unnecessary retracing. For (3), please refer to https://www.tensorflow.org/tutorials/customization/performance#python_or_tensor_args and https://www.tensorflow.org/api_docs/python/tf/function for  more details.\n"
          ],
          "name": "stdout"
        },
        {
          "output_type": "display_data",
          "data": {
            "text/html": [
              "<table border=\"1\" class=\"dataframe\">\n",
              "  <thead>\n",
              "    <tr style=\"text-align: left;\">\n",
              "      <th>epoch</th>\n",
              "      <th>train_loss</th>\n",
              "      <th>valid_loss</th>\n",
              "      <th>accuracy</th>\n",
              "      <th>time</th>\n",
              "    </tr>\n",
              "  </thead>\n",
              "  <tbody>\n",
              "    <tr>\n",
              "      <td>0</td>\n",
              "      <td>0.953188</td>\n",
              "      <td>0.690687</td>\n",
              "      <td>0.375000</td>\n",
              "      <td>00:00</td>\n",
              "    </tr>\n",
              "    <tr>\n",
              "      <td>1</td>\n",
              "      <td>0.930186</td>\n",
              "      <td>0.673346</td>\n",
              "      <td>0.500000</td>\n",
              "      <td>00:00</td>\n",
              "    </tr>\n",
              "    <tr>\n",
              "      <td>2</td>\n",
              "      <td>0.824864</td>\n",
              "      <td>0.635550</td>\n",
              "      <td>0.875000</td>\n",
              "      <td>00:00</td>\n",
              "    </tr>\n",
              "    <tr>\n",
              "      <td>3</td>\n",
              "      <td>0.705569</td>\n",
              "      <td>0.595640</td>\n",
              "      <td>0.875000</td>\n",
              "      <td>00:00</td>\n",
              "    </tr>\n",
              "    <tr>\n",
              "      <td>4</td>\n",
              "      <td>0.619470</td>\n",
              "      <td>0.560106</td>\n",
              "      <td>0.750000</td>\n",
              "      <td>00:00</td>\n",
              "    </tr>\n",
              "    <tr>\n",
              "      <td>5</td>\n",
              "      <td>0.552441</td>\n",
              "      <td>0.532983</td>\n",
              "      <td>0.875000</td>\n",
              "      <td>00:00</td>\n",
              "    </tr>\n",
              "    <tr>\n",
              "      <td>6</td>\n",
              "      <td>0.505176</td>\n",
              "      <td>0.512305</td>\n",
              "      <td>0.875000</td>\n",
              "      <td>00:00</td>\n",
              "    </tr>\n",
              "    <tr>\n",
              "      <td>7</td>\n",
              "      <td>0.462008</td>\n",
              "      <td>0.495343</td>\n",
              "      <td>0.875000</td>\n",
              "      <td>00:00</td>\n",
              "    </tr>\n",
              "    <tr>\n",
              "      <td>8</td>\n",
              "      <td>0.424171</td>\n",
              "      <td>0.481742</td>\n",
              "      <td>0.875000</td>\n",
              "      <td>00:00</td>\n",
              "    </tr>\n",
              "    <tr>\n",
              "      <td>9</td>\n",
              "      <td>0.395186</td>\n",
              "      <td>0.470955</td>\n",
              "      <td>0.875000</td>\n",
              "      <td>00:00</td>\n",
              "    </tr>\n",
              "  </tbody>\n",
              "</table>"
            ],
            "text/plain": [
              "<IPython.core.display.HTML object>"
            ]
          },
          "metadata": {
            "tags": []
          }
        },
        {
          "output_type": "display_data",
          "data": {
            "text/html": [
              ""
            ],
            "text/plain": [
              "<IPython.core.display.HTML object>"
            ]
          },
          "metadata": {
            "tags": []
          }
        },
        {
          "output_type": "stream",
          "text": [
            "fold num 8\n"
          ],
          "name": "stdout"
        },
        {
          "output_type": "stream",
          "text": [
            "/usr/local/lib/python3.6/dist-packages/sklearn/linear_model/_logistic.py:940: ConvergenceWarning: lbfgs failed to converge (status=1):\n",
            "STOP: TOTAL NO. of ITERATIONS REACHED LIMIT.\n",
            "\n",
            "Increase the number of iterations (max_iter) or scale the data as shown in:\n",
            "    https://scikit-learn.org/stable/modules/preprocessing.html\n",
            "Please also refer to the documentation for alternative solver options:\n",
            "    https://scikit-learn.org/stable/modules/linear_model.html#logistic-regression\n",
            "  extra_warning_msg=_LOGISTIC_SOLVER_CONVERGENCE_MSG)\n"
          ],
          "name": "stderr"
        },
        {
          "output_type": "stream",
          "text": [
            "WARNING:tensorflow:11 out of the last 11 calls to <function Model.make_test_function.<locals>.test_function at 0x7f5dbe0db378> triggered tf.function retracing. Tracing is expensive and the excessive number of tracings could be due to (1) creating @tf.function repeatedly in a loop, (2) passing tensors with different shapes, (3) passing Python objects instead of tensors. For (1), please define your @tf.function outside of the loop. For (2), @tf.function has experimental_relax_shapes=True option that relaxes argument shapes that can avoid unnecessary retracing. For (3), please refer to https://www.tensorflow.org/tutorials/customization/performance#python_or_tensor_args and https://www.tensorflow.org/api_docs/python/tf/function for  more details.\n"
          ],
          "name": "stdout"
        },
        {
          "output_type": "display_data",
          "data": {
            "text/html": [
              "<table border=\"1\" class=\"dataframe\">\n",
              "  <thead>\n",
              "    <tr style=\"text-align: left;\">\n",
              "      <th>epoch</th>\n",
              "      <th>train_loss</th>\n",
              "      <th>valid_loss</th>\n",
              "      <th>accuracy</th>\n",
              "      <th>time</th>\n",
              "    </tr>\n",
              "  </thead>\n",
              "  <tbody>\n",
              "    <tr>\n",
              "      <td>0</td>\n",
              "      <td>0.685956</td>\n",
              "      <td>0.688266</td>\n",
              "      <td>0.500000</td>\n",
              "      <td>00:00</td>\n",
              "    </tr>\n",
              "    <tr>\n",
              "      <td>1</td>\n",
              "      <td>0.655174</td>\n",
              "      <td>0.671575</td>\n",
              "      <td>0.625000</td>\n",
              "      <td>00:00</td>\n",
              "    </tr>\n",
              "    <tr>\n",
              "      <td>2</td>\n",
              "      <td>0.587368</td>\n",
              "      <td>0.638689</td>\n",
              "      <td>0.750000</td>\n",
              "      <td>00:00</td>\n",
              "    </tr>\n",
              "    <tr>\n",
              "      <td>3</td>\n",
              "      <td>0.509931</td>\n",
              "      <td>0.611456</td>\n",
              "      <td>0.750000</td>\n",
              "      <td>00:00</td>\n",
              "    </tr>\n",
              "    <tr>\n",
              "      <td>4</td>\n",
              "      <td>0.452054</td>\n",
              "      <td>0.593212</td>\n",
              "      <td>0.750000</td>\n",
              "      <td>00:00</td>\n",
              "    </tr>\n",
              "    <tr>\n",
              "      <td>5</td>\n",
              "      <td>0.397670</td>\n",
              "      <td>0.577433</td>\n",
              "      <td>0.750000</td>\n",
              "      <td>00:00</td>\n",
              "    </tr>\n",
              "    <tr>\n",
              "      <td>6</td>\n",
              "      <td>0.355142</td>\n",
              "      <td>0.563061</td>\n",
              "      <td>0.875000</td>\n",
              "      <td>00:00</td>\n",
              "    </tr>\n",
              "    <tr>\n",
              "      <td>7</td>\n",
              "      <td>0.321153</td>\n",
              "      <td>0.548312</td>\n",
              "      <td>0.875000</td>\n",
              "      <td>00:00</td>\n",
              "    </tr>\n",
              "    <tr>\n",
              "      <td>8</td>\n",
              "      <td>0.294016</td>\n",
              "      <td>0.535285</td>\n",
              "      <td>0.875000</td>\n",
              "      <td>00:00</td>\n",
              "    </tr>\n",
              "    <tr>\n",
              "      <td>9</td>\n",
              "      <td>0.269552</td>\n",
              "      <td>0.525381</td>\n",
              "      <td>0.875000</td>\n",
              "      <td>00:00</td>\n",
              "    </tr>\n",
              "  </tbody>\n",
              "</table>"
            ],
            "text/plain": [
              "<IPython.core.display.HTML object>"
            ]
          },
          "metadata": {
            "tags": []
          }
        },
        {
          "output_type": "display_data",
          "data": {
            "text/html": [
              ""
            ],
            "text/plain": [
              "<IPython.core.display.HTML object>"
            ]
          },
          "metadata": {
            "tags": []
          }
        },
        {
          "output_type": "stream",
          "text": [
            "fold num 9\n"
          ],
          "name": "stdout"
        },
        {
          "output_type": "stream",
          "text": [
            "/usr/local/lib/python3.6/dist-packages/sklearn/linear_model/_logistic.py:940: ConvergenceWarning: lbfgs failed to converge (status=1):\n",
            "STOP: TOTAL NO. of ITERATIONS REACHED LIMIT.\n",
            "\n",
            "Increase the number of iterations (max_iter) or scale the data as shown in:\n",
            "    https://scikit-learn.org/stable/modules/preprocessing.html\n",
            "Please also refer to the documentation for alternative solver options:\n",
            "    https://scikit-learn.org/stable/modules/linear_model.html#logistic-regression\n",
            "  extra_warning_msg=_LOGISTIC_SOLVER_CONVERGENCE_MSG)\n"
          ],
          "name": "stderr"
        },
        {
          "output_type": "stream",
          "text": [
            "WARNING:tensorflow:11 out of the last 11 calls to <function Model.make_test_function.<locals>.test_function at 0x7f5dc64652f0> triggered tf.function retracing. Tracing is expensive and the excessive number of tracings could be due to (1) creating @tf.function repeatedly in a loop, (2) passing tensors with different shapes, (3) passing Python objects instead of tensors. For (1), please define your @tf.function outside of the loop. For (2), @tf.function has experimental_relax_shapes=True option that relaxes argument shapes that can avoid unnecessary retracing. For (3), please refer to https://www.tensorflow.org/tutorials/customization/performance#python_or_tensor_args and https://www.tensorflow.org/api_docs/python/tf/function for  more details.\n"
          ],
          "name": "stdout"
        },
        {
          "output_type": "display_data",
          "data": {
            "text/html": [
              "<table border=\"1\" class=\"dataframe\">\n",
              "  <thead>\n",
              "    <tr style=\"text-align: left;\">\n",
              "      <th>epoch</th>\n",
              "      <th>train_loss</th>\n",
              "      <th>valid_loss</th>\n",
              "      <th>accuracy</th>\n",
              "      <th>time</th>\n",
              "    </tr>\n",
              "  </thead>\n",
              "  <tbody>\n",
              "    <tr>\n",
              "      <td>0</td>\n",
              "      <td>0.587231</td>\n",
              "      <td>0.633969</td>\n",
              "      <td>0.500000</td>\n",
              "      <td>00:00</td>\n",
              "    </tr>\n",
              "    <tr>\n",
              "      <td>1</td>\n",
              "      <td>0.596934</td>\n",
              "      <td>0.608814</td>\n",
              "      <td>0.875000</td>\n",
              "      <td>00:00</td>\n",
              "    </tr>\n",
              "    <tr>\n",
              "      <td>2</td>\n",
              "      <td>0.551342</td>\n",
              "      <td>0.571680</td>\n",
              "      <td>0.875000</td>\n",
              "      <td>00:00</td>\n",
              "    </tr>\n",
              "    <tr>\n",
              "      <td>3</td>\n",
              "      <td>0.488635</td>\n",
              "      <td>0.526712</td>\n",
              "      <td>0.875000</td>\n",
              "      <td>00:00</td>\n",
              "    </tr>\n",
              "    <tr>\n",
              "      <td>4</td>\n",
              "      <td>0.439118</td>\n",
              "      <td>0.487738</td>\n",
              "      <td>0.875000</td>\n",
              "      <td>00:00</td>\n",
              "    </tr>\n",
              "    <tr>\n",
              "      <td>5</td>\n",
              "      <td>0.399527</td>\n",
              "      <td>0.448704</td>\n",
              "      <td>0.875000</td>\n",
              "      <td>00:00</td>\n",
              "    </tr>\n",
              "    <tr>\n",
              "      <td>6</td>\n",
              "      <td>0.365224</td>\n",
              "      <td>0.418393</td>\n",
              "      <td>0.875000</td>\n",
              "      <td>00:00</td>\n",
              "    </tr>\n",
              "    <tr>\n",
              "      <td>7</td>\n",
              "      <td>0.329432</td>\n",
              "      <td>0.392143</td>\n",
              "      <td>0.875000</td>\n",
              "      <td>00:00</td>\n",
              "    </tr>\n",
              "    <tr>\n",
              "      <td>8</td>\n",
              "      <td>0.304603</td>\n",
              "      <td>0.372309</td>\n",
              "      <td>0.875000</td>\n",
              "      <td>00:00</td>\n",
              "    </tr>\n",
              "    <tr>\n",
              "      <td>9</td>\n",
              "      <td>0.283798</td>\n",
              "      <td>0.357904</td>\n",
              "      <td>0.875000</td>\n",
              "      <td>00:00</td>\n",
              "    </tr>\n",
              "  </tbody>\n",
              "</table>"
            ],
            "text/plain": [
              "<IPython.core.display.HTML object>"
            ]
          },
          "metadata": {
            "tags": []
          }
        },
        {
          "output_type": "display_data",
          "data": {
            "text/html": [
              ""
            ],
            "text/plain": [
              "<IPython.core.display.HTML object>"
            ]
          },
          "metadata": {
            "tags": []
          }
        },
        {
          "output_type": "stream",
          "text": [
            "fold num 10\n"
          ],
          "name": "stdout"
        },
        {
          "output_type": "stream",
          "text": [
            "/usr/local/lib/python3.6/dist-packages/sklearn/linear_model/_logistic.py:940: ConvergenceWarning: lbfgs failed to converge (status=1):\n",
            "STOP: TOTAL NO. of ITERATIONS REACHED LIMIT.\n",
            "\n",
            "Increase the number of iterations (max_iter) or scale the data as shown in:\n",
            "    https://scikit-learn.org/stable/modules/preprocessing.html\n",
            "Please also refer to the documentation for alternative solver options:\n",
            "    https://scikit-learn.org/stable/modules/linear_model.html#logistic-regression\n",
            "  extra_warning_msg=_LOGISTIC_SOLVER_CONVERGENCE_MSG)\n"
          ],
          "name": "stderr"
        },
        {
          "output_type": "stream",
          "text": [
            "WARNING:tensorflow:11 out of the last 11 calls to <function Model.make_test_function.<locals>.test_function at 0x7f5dc0e82840> triggered tf.function retracing. Tracing is expensive and the excessive number of tracings could be due to (1) creating @tf.function repeatedly in a loop, (2) passing tensors with different shapes, (3) passing Python objects instead of tensors. For (1), please define your @tf.function outside of the loop. For (2), @tf.function has experimental_relax_shapes=True option that relaxes argument shapes that can avoid unnecessary retracing. For (3), please refer to https://www.tensorflow.org/tutorials/customization/performance#python_or_tensor_args and https://www.tensorflow.org/api_docs/python/tf/function for  more details.\n"
          ],
          "name": "stdout"
        },
        {
          "output_type": "display_data",
          "data": {
            "text/html": [
              "<table border=\"1\" class=\"dataframe\">\n",
              "  <thead>\n",
              "    <tr style=\"text-align: left;\">\n",
              "      <th>epoch</th>\n",
              "      <th>train_loss</th>\n",
              "      <th>valid_loss</th>\n",
              "      <th>accuracy</th>\n",
              "      <th>time</th>\n",
              "    </tr>\n",
              "  </thead>\n",
              "  <tbody>\n",
              "    <tr>\n",
              "      <td>0</td>\n",
              "      <td>0.681245</td>\n",
              "      <td>0.722606</td>\n",
              "      <td>0.500000</td>\n",
              "      <td>00:00</td>\n",
              "    </tr>\n",
              "    <tr>\n",
              "      <td>1</td>\n",
              "      <td>0.646734</td>\n",
              "      <td>0.720947</td>\n",
              "      <td>0.500000</td>\n",
              "      <td>00:00</td>\n",
              "    </tr>\n",
              "    <tr>\n",
              "      <td>2</td>\n",
              "      <td>0.578844</td>\n",
              "      <td>0.709337</td>\n",
              "      <td>0.625000</td>\n",
              "      <td>00:00</td>\n",
              "    </tr>\n",
              "    <tr>\n",
              "      <td>3</td>\n",
              "      <td>0.512260</td>\n",
              "      <td>0.679567</td>\n",
              "      <td>0.625000</td>\n",
              "      <td>00:00</td>\n",
              "    </tr>\n",
              "    <tr>\n",
              "      <td>4</td>\n",
              "      <td>0.456178</td>\n",
              "      <td>0.641594</td>\n",
              "      <td>0.625000</td>\n",
              "      <td>00:00</td>\n",
              "    </tr>\n",
              "    <tr>\n",
              "      <td>5</td>\n",
              "      <td>0.410669</td>\n",
              "      <td>0.598661</td>\n",
              "      <td>0.625000</td>\n",
              "      <td>00:00</td>\n",
              "    </tr>\n",
              "    <tr>\n",
              "      <td>6</td>\n",
              "      <td>0.374916</td>\n",
              "      <td>0.566063</td>\n",
              "      <td>0.625000</td>\n",
              "      <td>00:00</td>\n",
              "    </tr>\n",
              "    <tr>\n",
              "      <td>7</td>\n",
              "      <td>0.342692</td>\n",
              "      <td>0.543250</td>\n",
              "      <td>0.625000</td>\n",
              "      <td>00:00</td>\n",
              "    </tr>\n",
              "    <tr>\n",
              "      <td>8</td>\n",
              "      <td>0.320150</td>\n",
              "      <td>0.530267</td>\n",
              "      <td>0.750000</td>\n",
              "      <td>00:00</td>\n",
              "    </tr>\n",
              "    <tr>\n",
              "      <td>9</td>\n",
              "      <td>0.298653</td>\n",
              "      <td>0.521244</td>\n",
              "      <td>0.750000</td>\n",
              "      <td>00:00</td>\n",
              "    </tr>\n",
              "  </tbody>\n",
              "</table>"
            ],
            "text/plain": [
              "<IPython.core.display.HTML object>"
            ]
          },
          "metadata": {
            "tags": []
          }
        },
        {
          "output_type": "display_data",
          "data": {
            "text/html": [
              ""
            ],
            "text/plain": [
              "<IPython.core.display.HTML object>"
            ]
          },
          "metadata": {
            "tags": []
          }
        }
      ]
    },
    {
      "cell_type": "code",
      "metadata": {
        "id": "U7EiIle-bNI3",
        "colab_type": "code",
        "colab": {
          "base_uri": "https://localhost:8080/",
          "height": 225
        },
        "outputId": "7c9d863f-28a4-4461-d15d-8f1cec05b5f0"
      },
      "source": [
        "mm.printMeasures()"
      ],
      "execution_count": 27,
      "outputs": [
        {
          "output_type": "stream",
          "text": [
            "model     acc        \n",
            "--------------\n",
            "rf        93.75±6.25\n",
            "dt        92.50±8.29\n",
            "knn       85.00±10.90\n",
            "svm       81.25±11.52\n",
            "lr        70.00±12.75\n",
            "lda       87.50±12.50\n",
            "ab        98.75±3.75\n",
            "nb        73.75±6.73\n",
            "keras     70.00±16.96\n",
            "fastai    85.00±10.90\n"
          ],
          "name": "stdout"
        }
      ]
    }
  ]
}