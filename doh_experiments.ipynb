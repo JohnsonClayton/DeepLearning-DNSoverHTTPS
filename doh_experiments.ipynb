{
  "nbformat": 4,
  "nbformat_minor": 0,
  "metadata": {
    "colab": {
      "name": "doh_experiments.ipynb",
      "provenance": [],
      "collapsed_sections": []
    },
    "kernelspec": {
      "name": "python3",
      "display_name": "Python 3"
    }
  },
  "cells": [
    {
      "cell_type": "markdown",
      "metadata": {
        "id": "AZu86kpZXYSL",
        "colab_type": "text"
      },
      "source": [
        "# DNS over HTTPS Experiments\n",
        "This notebook serves to run all the experiments for our work on the CIRA-CIC-DoHBrw-2020 dataset. This notebook will train and validate 9 machine learning models and 2 deep learning models. Additionally, the experiments will determine how the performance of these models changes as we increase the size of the feature set."
      ]
    },
    {
      "cell_type": "code",
      "metadata": {
        "id": "HXTulVCwXKYz",
        "colab_type": "code",
        "colab": {
          "base_uri": "https://localhost:8080/",
          "height": 34
        },
        "outputId": "c4fae54c-432b-4acf-ac2a-01860ae410d2"
      },
      "source": [
        "# Import the dataset saved on the google drive\n",
        "from google.colab import drive\n",
        "\n",
        "# Graphing capabilities\n",
        "import matplotlib.pyplot as plt\n",
        "\n",
        "# Data management\n",
        "import pandas as pd\n",
        "import numpy as np\n",
        "\n",
        "# For stratified 10-fold cross validation\n",
        "from sklearn.model_selection import StratifiedKFold\n",
        "\n",
        "# Scikit-Learn ML Models\n",
        "from sklearn.ensemble import RandomForestClassifier\n",
        "from sklearn.tree import DecisionTreeClassifier\n",
        "from sklearn.neighbors import KNeighborsClassifier\n",
        "from sklearn.svm import SVC\n",
        "from sklearn.linear_model import LogisticRegression\n",
        "from sklearn.discriminant_analysis import LinearDiscriminantAnalysis\n",
        "from sklearn.ensemble import AdaBoostClassifier\n",
        "from sklearn.naive_bayes import GaussianNB\n",
        "\n",
        "# Keras-TensorFlow DNN Model\n",
        "from keras.models import Sequential\n",
        "from keras.layers import BatchNormalization, Dense, Dropout\n",
        "from keras.regularizers import l2\n",
        "\n",
        "# Fast.ai DNN Model\n",
        "from fastai.tabular import *\n",
        "\n",
        "# Normalization\n",
        "from keras.utils import normalize, to_categorical\n",
        "\n",
        "print('Imports complete.')"
      ],
      "execution_count": 1,
      "outputs": [
        {
          "output_type": "stream",
          "text": [
            "Imports complete.\n"
          ],
          "name": "stdout"
        }
      ]
    },
    {
      "cell_type": "code",
      "metadata": {
        "id": "xsOa5L_GvOAU",
        "colab_type": "code",
        "colab": {}
      },
      "source": [
        "# Objects used to help manage the metrics data\n",
        "class Metric:\n",
        "    def __init__(self, name, fold):\n",
        "        self.name = name\n",
        "        self.fold_num = fold\n",
        "        self.values = {}\n",
        "\n",
        "    def __str__(self):\n",
        "        return str({self.name: self.values})\n",
        "\n",
        "    def __repr__(self):\n",
        "        return str({self.name: self.values})\n",
        "\n",
        "    def addValue(self, m_type, value):\n",
        "        if m_type != None and value != None:\n",
        "            self.values[m_type] = value\n",
        "\n",
        "    def getValue(self, m_type):\n",
        "        if m_type in self.values:\n",
        "            return self.values[m_type]\n",
        "\n",
        "    def getName(self):\n",
        "        return self.name\n",
        "\n",
        "    def getMeasures(self):\n",
        "        return self.values.keys()\n",
        "\n",
        "    def getValues(self):\n",
        "        return self.values\n",
        "\n",
        "    def containsType(self, m_type):\n",
        "        if type(m_type) == list:\n",
        "            for m in m_type:\n",
        "                if m not in self.values:\n",
        "                    return False\n",
        "            return True\n",
        "        elif type(m_type) == str:\n",
        "            if m_type in self.values:\n",
        "                return True\n",
        "            else:\n",
        "                return False\n",
        "        else:\n",
        "            return False\n",
        "\n",
        "    def getModelWithMeasure(self, m_type):\n",
        "        if type(m_type) == list:\n",
        "            new_metric = Metric(self.name, fold=self.fold_num)\n",
        "            for m in m_type:\n",
        "                new_metric.addValue(m, self.values[m])\n",
        "\n",
        "            return new_metric\n",
        "        elif type(m_type) == str:\n",
        "            new_metric = Metric(self.name, fold=self.fold_num)\n",
        "            new_metric.addValue(m_type, self.values[m_type])\n",
        "\n",
        "            return new_metric\n",
        "\n",
        "class MetricsManager:\n",
        "    def __init__(self):\n",
        "        self.metrics_list = []\n",
        "    \n",
        "    def getMetrics(self, model_name='all', m_type='all'):\n",
        "        if model_name == 'all' and m_type == 'all':\n",
        "            return self.metrics_list\n",
        "        else:\n",
        "            # Return the metrics requested and remove any of the none values that have shown up\n",
        "            return list(filter(None, map( lambda m : m.getModelWithMeasure(m_type) if (m.getName() == model_name or model_name == 'all') and (m.containsType(m_type) or m_type == 'all') else None, self.metrics_list)))\n",
        "\n",
        "    def addMetric(self, metric):\n",
        "        self.metrics_list.append(metric)\n",
        "\n",
        "    def printMeasures(self, model='all', metrics='all'):\n",
        "        metrics = self.getMetrics(model_name=model, m_type=metrics)\n",
        "\n",
        "        measurements = []\n",
        "        for metric in metrics:\n",
        "            metric_measures = metric.getMeasures()\n",
        "            for measure in metric_measures:\n",
        "                if measure not in measurements:\n",
        "                    measurements.append(measure)\n",
        "\n",
        "        print('{:10}'.format('model'), end='')\n",
        "        for measure in measurements:\n",
        "            print('{:11}'.format(measure), end='')\n",
        "        print('\\n', end='')\n",
        "        print('-------'*(len(measurements)+1))\n",
        "\n",
        "        printed_models = []\n",
        "        for metric in metrics:\n",
        "            metric_name = metric.getName()\n",
        "            \n",
        "            if metric_name not in printed_models:\n",
        "                print('{:9}'.format(metric_name), end='')\n",
        "                metric_values = metric.getValues()\n",
        "                for measure in measurements:\n",
        "                    if measure in metric_values:\n",
        "                        # Edit this next line to calculate the values across all of the folds!\n",
        "                        #print('{:6.2f}'.format(100*metric_values[measure]), end='')\n",
        "\n",
        "                        # grab all of the metrics with the same key and calculate the mean pm std dev\n",
        "                        vals = []\n",
        "                        for m in metrics:\n",
        "                            if m.getName() == metric_name:\n",
        "                                vals.append(m.getValues()[measure])\n",
        "                        #print('vals for {}:{}'.format(metric_name, vals))\n",
        "                        print('{:6.2f}\\u00B1{:6<.2f}'.format(np.mean(vals), np.std(vals)), end='')\n",
        "                    else:\n",
        "                        print(' '*11, end='')\n",
        "                printed_models.append(metric_name)\n",
        "                print('\\n', end='')"
      ],
      "execution_count": 2,
      "outputs": []
    },
    {
      "cell_type": "code",
      "metadata": {
        "id": "j0jZnJY1zDBC",
        "colab_type": "code",
        "colab": {
          "base_uri": "https://localhost:8080/",
          "height": 104
        },
        "outputId": "de4cca63-a44e-4a9c-e7eb-e1381a77f646"
      },
      "source": [
        "# Metric manager tests and examples\n",
        "mm = MetricsManager()\n",
        "\n",
        "m = Metric('rf', fold=1)\n",
        "m.addValue('acc', 0.97)\n",
        "m.addValue('time', 0.99)\n",
        "mm.addMetric(m)\n",
        "\n",
        "m = Metric('rf', fold=2)\n",
        "m.addValue('acc', 0.95)\n",
        "m.addValue('time', 0.99)\n",
        "mm.addMetric(m)\n",
        "\n",
        "m = Metric('rf', fold=3)\n",
        "m.addValue('acc', 0.93)\n",
        "m.addValue('time', 0.99)\n",
        "mm.addMetric(m)\n",
        "\n",
        "m = Metric('dt', fold=1)\n",
        "m.addValue('time', 0.75)\n",
        "mm.addMetric(m)\n",
        "\n",
        "m = Metric('xgboost', fold=1)\n",
        "m.addValue('acc', 0.99)\n",
        "m.addValue('time', 50)\n",
        "mm.addMetric(m)\n",
        "\n",
        "mm.printMeasures(metrics=['time'])"
      ],
      "execution_count": 3,
      "outputs": [
        {
          "output_type": "stream",
          "text": [
            "model     time       \n",
            "--------------\n",
            "rf         0.99±0.00\n",
            "dt         0.75±0.00\n",
            "xgboost   50.00±0.00\n"
          ],
          "name": "stdout"
        }
      ]
    },
    {
      "cell_type": "code",
      "metadata": {
        "id": "ar5VnVOJz7jJ",
        "colab_type": "code",
        "colab": {}
      },
      "source": [
        ""
      ],
      "execution_count": 3,
      "outputs": []
    },
    {
      "cell_type": "code",
      "metadata": {
        "id": "Iv30p0jtXQpd",
        "colab_type": "code",
        "colab": {}
      },
      "source": [
        "def train_and_eval_on(X, y, feature_set, metrics_manager):\n",
        "    \"\"\"\n",
        "    train_and_eval_on function\n",
        "        Description: This function will train all the models on the given feature set of the X (data) for predicting y (target) and add the acquired metrics \n",
        "          to the MetricsManager object from the user\n",
        "\n",
        "        Args: \n",
        "            X => pd.DataFrame object containing the data\n",
        "            y => pd.Series object containings the target classifications\n",
        "            feature_set => list of features in X to use for training\n",
        "            metrics_manager => MetricsManager object (custom)\n",
        "\n",
        "        Returns:\n",
        "            Nothing\n",
        "        \n",
        "        Keys used for the manager:\n",
        "                        Random Forest => rf\n",
        "                        Decision Tree => dt\n",
        "                        k-Nearest Neighbors => knn\n",
        "                        Support Vector Machine => svm\n",
        "                        Logistic Regression => lr\n",
        "                        Linear Discriminant Analysis => lda\n",
        "                        AdaBoost => ab\n",
        "                        Naive Bayes => nb\n",
        "                        Keras-TensorFlow => keras\n",
        "                        Fast.ai => fastai\n",
        "    \"\"\"\n",
        "\n",
        "    # Select the given features within the data\n",
        "    X = X[feature_set]\n",
        "\n",
        "    print('Training with {} features'.format(len(X.columns)))\n",
        "\n",
        "    # Create stratified, 10-fold cross validation object\n",
        "    random_state = 0\n",
        "    sss = StratifiedKFold(n_splits=10, shuffle=True, random_state=random_state)\n",
        "\n",
        "    i=1\n",
        "\n",
        "    # Experiment with 10-fold cross validation\n",
        "    for train_idx, test_idx in sss.split(X, y):\n",
        "\n",
        "        print('fold num {}'.format(i))\n",
        "        i+=1\n",
        "\n",
        "        # Split the data into the training and testing sets\n",
        "        X_train, X_test = X.iloc[train_idx], X.iloc[test_idx]\n",
        "        y_train, y_test = y.iloc[train_idx], y.iloc[test_idx]\n",
        "\n",
        "        # Random Forest Model\n",
        "        rf = RandomForestClassifier(random_state=random_state)\n",
        "        rf.fit(X_train, y_train)\n",
        "        score = rf.score(X_test, y_test)\n",
        "\n",
        "        m = Metric('rf', fold=i)\n",
        "        m.addValue('acc', 100*score)\n",
        "        mm.addMetric(m)\n",
        "\n",
        "        # Decision Tree Model\n",
        "        dt = DecisionTreeClassifier(random_state=random_state)\n",
        "        dt.fit(X_train, y_train)\n",
        "        score = dt.score(X_test, y_test)\n",
        "\n",
        "        m = Metric('dt', fold=i)\n",
        "        m.addValue('acc', 100*score)\n",
        "        mm.addMetric(m)\n",
        "\n",
        "        # k-Nearest Neighbors Model\n",
        "        knn = KNeighborsClassifier()\n",
        "        knn.fit(X_train, y_train)\n",
        "        score = knn.score(X_test, y_test)\n",
        "\n",
        "        m = Metric('knn', fold=i)\n",
        "        m.addValue('acc', 100*score)\n",
        "        mm.addMetric(m)\n",
        "\n",
        "        # Support Vector Machine Model\n",
        "        svm = SVC(random_state=random_state)\n",
        "        svm.fit(X_train, y_train)\n",
        "        score = svm.score(X_test, y_test)\n",
        "\n",
        "        m = Metric('svm', fold=i)\n",
        "        m.addValue('acc', 100*score)\n",
        "        mm.addMetric(m)\n",
        "\n",
        "        # Logistic Regression Model\n",
        "        lr = LogisticRegression(random_state=random_state)\n",
        "        lr.fit(X_train, y_train)\n",
        "        score = lr.score(X_test, y_test)\n",
        "\n",
        "        m = Metric('lr', fold=i)\n",
        "        m.addValue('acc', 100*score)\n",
        "        mm.addMetric(m)\n",
        "\n",
        "        # Linear Discriminant Analysis Model\n",
        "        lda = LinearDiscriminantAnalysis()\n",
        "        lda.fit(X_train, y_train)\n",
        "        score = lda.score(X_test, y_test)\n",
        "\n",
        "        m = Metric('lda', fold=i)\n",
        "        m.addValue('acc', 100*score)\n",
        "        mm.addMetric(m)\n",
        "\n",
        "        # AdaBoost Model\n",
        "        ab = AdaBoostClassifier(random_state=random_state)\n",
        "        ab.fit(X_train, y_train)\n",
        "        score = ab.score(X_test, y_test)\n",
        "\n",
        "        m = Metric('ab', fold=i)\n",
        "        m.addValue('acc', 100*score)\n",
        "        mm.addMetric(m)\n",
        "\n",
        "        # Naive Bayes Model\n",
        "        nb = GaussianNB()\n",
        "        nb.fit(X_train, y_train)\n",
        "        score = nb.score(X_test, y_test)\n",
        "\n",
        "        m = Metric('nb', fold=i)\n",
        "        m.addValue('acc', 100*score)\n",
        "        mm.addMetric(m)\n",
        "\n",
        "        # Keras-TensorFlow DNN Model\n",
        "        dnn_keras = Sequential(layers=[\n",
        "                                 Dense(128, kernel_regularizer=l2(0.001), activation='relu',input_shape=(len(X_train.columns),)),\n",
        "                                 BatchNormalization(),\n",
        "                                 Dense(64, activation='relu', kernel_regularizer=l2(0.001)),\n",
        "                                 BatchNormalization(),\n",
        "                                 Dense(y_train.nunique(), activation='softmax')\n",
        "        ])\n",
        "        dnn_keras.compile(\n",
        "            optimizer='adam', \n",
        "            loss='categorical_crossentropy', \n",
        "            metrics=['accuracy'])\n",
        "        dnn_keras.fit(X_train, pd.get_dummies(y_train), epochs=100, verbose=0, batch_size=512)\n",
        "        _, score = dnn_keras.evaluate(X_test, pd.get_dummies(y_test), verbose=0)\n",
        "\n",
        "        m = Metric('keras', fold=i)\n",
        "        m.addValue('acc', 100*score)\n",
        "        mm.addMetric(m)\n",
        "\n",
        "        # Fast.ai DNN Model\n",
        "        data_fold = (TabularList.from_df(df, path=path, cont_names=X_train.columns, procs=[Categorify, Normalize])\n",
        "                     .split_by_idxs(train_idx, test_idx)\n",
        "                     .label_from_df(cols=dep_var)\n",
        "                     .databunch(num_workers=0))\n",
        "        dnn_fastai = tabular_learner(data_fold, layers=[200, 100], metrics=accuracy)\n",
        "        dnn_fastai.fit_one_cycle(cyc_len=10, callbacks=None)\n",
        "        _, score = dnn_fastai.validate()\n",
        "\n",
        "        m = Metric('fastai', fold=i)\n",
        "        m.addValue('acc', 100*score)\n",
        "        mm.addMetric(m)"
      ],
      "execution_count": 4,
      "outputs": []
    },
    {
      "cell_type": "code",
      "metadata": {
        "id": "gNtzSH3nX-rW",
        "colab_type": "code",
        "colab": {}
      },
      "source": [
        "def show_graph(figure, feature_count, metrics_dict, exp_type=''):\n",
        "  \"\"\"\n",
        "  show_graph function\n",
        "\n",
        "    Description: This function will take the metrics dictionary provided and update the graph already to show the most recent results\n",
        "\n",
        "    Args:\n",
        "      figure => matplotlib.pyplot.figure object\n",
        "      metrics_dict => dictionary of metrics as described in `train_and_eval_on` function\n",
        "      exp_type => string indicating the type of experiment to change the title of the graph\n",
        "\n",
        "    Returns:\n",
        "      nothing\n",
        "  \"\"\"\n",
        "  # Reorganize the data so we have all of the random forest metrics with increasing features side by side\n",
        "  reorganized_dictionary = {}\n",
        "\n",
        "  for feature_vals in metrics_dict.keys():\n",
        "    for key in metrics_dict[feature_vals].keys():\n",
        "      # If a given model is not in the new dictionary, add it\n",
        "      if key not in reorganized_dictionary:\n",
        "        reorganized_dictionary[key] = {}\n",
        "\n",
        "      # If there isn't a specific feature number in the model dictionary, add it\n",
        "      if feature_vals not in reorganized_dictionary[key]:\n",
        "        reorganized_dictionary[key][feature_vals] = []\n",
        "\n",
        "      # If there is anything to the record, add it\n",
        "      if len( metrics_dict[feature_vals][key] ) > 0:\n",
        "        accuracies = metrics_dict[feature_vals][key]\n",
        "        mean = np.mean(accuracies)\n",
        "        std = np.std(accuracies)\n",
        "\n",
        "        #print('Accuracies: {}'.format(accuracies))\n",
        "        #print('Mean: {}'.format(mean))\n",
        "        #print('Std: {}'.format(std))\n",
        "\n",
        "        reorganized_dictionary[key][feature_vals].append( [mean, std] ) \n",
        "\n",
        "  #print('Models: {}'.format( list(reorganized_dictionary.keys()) ))\n",
        "\n",
        "  for model in reorganized_dictionary.keys():\n",
        "    # The x-axis will have the feature_count\n",
        "    xs = []\n",
        "\n",
        "    # The y-axis will have the accuracy for that feature_count value\n",
        "    ys = []\n",
        "\n",
        "    # The y-axis will also have the std for these accuracies since they are accumulated over 10 folds\n",
        "    yerrs = []\n",
        "\n",
        "    for x in reorganized_dictionary[model].keys():\n",
        "      if len(reorganized_dictionary[model][x]) > 0:\n",
        "        xs.append(x)\n",
        "        ys.append(reorganized_dictionary[model][x][0][0])\n",
        "        yerrs.append(reorganized_dictionary[model][x][0][1])\n",
        "    #print('xs: {}'.format(xs))\n",
        "    #print('ys: {}'.format(ys))\n",
        "    if len(xs) > 0:\n",
        "      plt.errorbar(x=xs, y=ys, yerr=yerrs, label=model)\n",
        "\n",
        "  #print(reorganized_dictionary)\n",
        "  if exp_type == 'multi':\n",
        "    plt.title('Multi-class Classification Model Accuracies with Increasing Features')\n",
        "  elif exp_type == 'binary':\n",
        "    plt.title('Binary Classification Model Accuracies with Increasing Features')\n",
        "  plt.ylabel('Accuracy')\n",
        "  plt.xlabel('Number of Features')\n",
        "\n",
        "  plt.xticks(xs[4::5])\n",
        "\n",
        "  plt.legend()\n",
        "  plt.show()\n"
      ],
      "execution_count": 5,
      "outputs": []
    },
    {
      "cell_type": "code",
      "metadata": {
        "id": "iNMkFooNZPNS",
        "colab_type": "code",
        "colab": {}
      },
      "source": [
        "def get_data(path, layer=0, nans=False):\n",
        "    \"\"\" get_data function\n",
        "        Description: This function will take the given path and user-defined layer from the dataset, import the datafiles, and then return the combined pandas DataFrame\n",
        "        Arguments:\n",
        "            path => string, path to the directory containing the l1-doh.csv, l1-nonhod.csv, etc files.\n",
        "            layer => int, the level of layer desired. This will change the dataset that is imported. Values can be 1 or 2. Default is 0.\n",
        "            nans => boolean, Whether the user wants NaNs in the data or wants them removed. This function will automatically remove all rows with Nan values.\n",
        "        Returns:\n",
        "            df => pandas.DataFrame, contains complete data\n",
        "        Raises:\n",
        "            AttributeError for incorrect layer number\n",
        "            Any additional read errors are raised to the user\n",
        "    \"\"\"\n",
        "    import pandas as pd\n",
        "\n",
        "    if layer not in [1,2]:\n",
        "        raise AttributeError('Must provide valid layer for dataset: layer equals 1 or 2')\n",
        "    else:\n",
        "\n",
        "        # Select the files that the user has chosen\n",
        "        filenames = []\n",
        "        if layer == 1:\n",
        "            filenames.append('l1-doh.csv')\n",
        "            filenames.append('l1-nondoh.csv')\n",
        "        else:\n",
        "            filenames.append('l2-benign.csv')\n",
        "            filenames.append('l2-malicious.csv')\n",
        "\n",
        "        # Read the files into dataframes\n",
        "        df0 = pd.read_csv(path + '/' + filenames[0])\n",
        "        df1 = pd.read_csv(path + '/' + filenames[1])\n",
        "\n",
        "        df = pd.concat([df0, df1])\n",
        "\n",
        "        # Remove any rows with Nan values\n",
        "        if not nans:\n",
        "            df.dropna(axis='index', inplace=True)\n",
        "\n",
        "        return df"
      ],
      "execution_count": 6,
      "outputs": []
    },
    {
      "cell_type": "code",
      "metadata": {
        "id": "GUXd3-QLfTcg",
        "colab_type": "code",
        "colab": {}
      },
      "source": [
        "def balance_data(df, label_column):\n",
        "    labels = df[label_column].unique()\n",
        "    sample_length_list = []\n",
        "    for i in range(len(labels)):\n",
        "        samples = df.loc[ df[label_column] == labels[i] ]\n",
        "        sample_length_list.append( len(samples) )\n",
        "        #print('Number of {} samples: {}'.format(labels[i], len( samples )))\n",
        "\n",
        "    random_state = 0\n",
        "    smallest_count = min(sample_length_list)\n",
        "    dfs = []\n",
        "    for i in range(len(labels)):\n",
        "        #dfs.append( df.loc[ df[label_column] == labels[i] ].sample(smallest_count) )\n",
        "\n",
        "        # We are only sampling 40 purely for testing reasons to help speed up the dev process!\n",
        "        # Uncomment the line above this to actually run the complete tests\n",
        "        dfs.append( df.loc[ df[label_column] == labels[i] ].sample(40) )\n",
        "\n",
        "    return pd.concat(dfs)"
      ],
      "execution_count": 7,
      "outputs": []
    },
    {
      "cell_type": "code",
      "metadata": {
        "id": "ud8aOpkjX-vy",
        "colab_type": "code",
        "colab": {
          "base_uri": "https://localhost:8080/",
          "height": 34
        },
        "outputId": "97b1b0a7-cdbe-411f-e558-6ee92e84fe5c"
      },
      "source": [
        "# Set up google drive access\n",
        "drive.mount('/content/gdrive')"
      ],
      "execution_count": 8,
      "outputs": [
        {
          "output_type": "stream",
          "text": [
            "Drive already mounted at /content/gdrive; to attempt to forcibly remount, call drive.mount(\"/content/gdrive\", force_remount=True).\n"
          ],
          "name": "stdout"
        }
      ]
    },
    {
      "cell_type": "markdown",
      "metadata": {
        "id": "FzhSe6mRZm3M",
        "colab_type": "text"
      },
      "source": [
        "## Layer 1 Experiments: DoH or nonDoH"
      ]
    },
    {
      "cell_type": "code",
      "metadata": {
        "id": "9gbAkkEhYrXD",
        "colab_type": "code",
        "colab": {
          "base_uri": "https://localhost:8080/",
          "height": 313
        },
        "outputId": "36c33d68-1d9a-4b60-f667-82e7d3ba6ef1"
      },
      "source": [
        "path = '/content/gdrive/My Drive/doh_dataset/Total-CSVs'\n",
        "df = get_data(path=path, layer=1)\n",
        "df.head()"
      ],
      "execution_count": 9,
      "outputs": [
        {
          "output_type": "execute_result",
          "data": {
            "text/html": [
              "<div>\n",
              "<style scoped>\n",
              "    .dataframe tbody tr th:only-of-type {\n",
              "        vertical-align: middle;\n",
              "    }\n",
              "\n",
              "    .dataframe tbody tr th {\n",
              "        vertical-align: top;\n",
              "    }\n",
              "\n",
              "    .dataframe thead th {\n",
              "        text-align: right;\n",
              "    }\n",
              "</style>\n",
              "<table border=\"1\" class=\"dataframe\">\n",
              "  <thead>\n",
              "    <tr style=\"text-align: right;\">\n",
              "      <th></th>\n",
              "      <th>SourceIP</th>\n",
              "      <th>DestinationIP</th>\n",
              "      <th>SourcePort</th>\n",
              "      <th>DestinationPort</th>\n",
              "      <th>TimeStamp</th>\n",
              "      <th>Duration</th>\n",
              "      <th>FlowBytesSent</th>\n",
              "      <th>FlowSentRate</th>\n",
              "      <th>FlowBytesReceived</th>\n",
              "      <th>FlowReceivedRate</th>\n",
              "      <th>PacketLengthVariance</th>\n",
              "      <th>PacketLengthStandardDeviation</th>\n",
              "      <th>PacketLengthMean</th>\n",
              "      <th>PacketLengthMedian</th>\n",
              "      <th>PacketLengthMode</th>\n",
              "      <th>PacketLengthSkewFromMedian</th>\n",
              "      <th>PacketLengthSkewFromMode</th>\n",
              "      <th>PacketLengthCoefficientofVariation</th>\n",
              "      <th>PacketTimeVariance</th>\n",
              "      <th>PacketTimeStandardDeviation</th>\n",
              "      <th>PacketTimeMean</th>\n",
              "      <th>PacketTimeMedian</th>\n",
              "      <th>PacketTimeMode</th>\n",
              "      <th>PacketTimeSkewFromMedian</th>\n",
              "      <th>PacketTimeSkewFromMode</th>\n",
              "      <th>PacketTimeCoefficientofVariation</th>\n",
              "      <th>ResponseTimeTimeVariance</th>\n",
              "      <th>ResponseTimeTimeStandardDeviation</th>\n",
              "      <th>ResponseTimeTimeMean</th>\n",
              "      <th>ResponseTimeTimeMedian</th>\n",
              "      <th>ResponseTimeTimeMode</th>\n",
              "      <th>ResponseTimeTimeSkewFromMedian</th>\n",
              "      <th>ResponseTimeTimeSkewFromMode</th>\n",
              "      <th>ResponseTimeTimeCoefficientofVariation</th>\n",
              "      <th>Label</th>\n",
              "    </tr>\n",
              "  </thead>\n",
              "  <tbody>\n",
              "    <tr>\n",
              "      <th>0</th>\n",
              "      <td>192.168.20.191</td>\n",
              "      <td>176.103.130.131</td>\n",
              "      <td>50749</td>\n",
              "      <td>443</td>\n",
              "      <td>2020-01-14 15:49:11</td>\n",
              "      <td>95.081550</td>\n",
              "      <td>62311</td>\n",
              "      <td>655.342703</td>\n",
              "      <td>65358</td>\n",
              "      <td>687.388878</td>\n",
              "      <td>7474.676771</td>\n",
              "      <td>86.456213</td>\n",
              "      <td>135.673751</td>\n",
              "      <td>102.0</td>\n",
              "      <td>54</td>\n",
              "      <td>1.168467</td>\n",
              "      <td>0.944683</td>\n",
              "      <td>0.637236</td>\n",
              "      <td>670.585814</td>\n",
              "      <td>25.895672</td>\n",
              "      <td>45.065277</td>\n",
              "      <td>48.811292</td>\n",
              "      <td>1.495060</td>\n",
              "      <td>-0.433974</td>\n",
              "      <td>1.682529</td>\n",
              "      <td>0.574626</td>\n",
              "      <td>0.001053</td>\n",
              "      <td>0.032457</td>\n",
              "      <td>0.027624</td>\n",
              "      <td>0.026854</td>\n",
              "      <td>0.026822</td>\n",
              "      <td>0.071187</td>\n",
              "      <td>0.024715</td>\n",
              "      <td>1.174948</td>\n",
              "      <td>DoH</td>\n",
              "    </tr>\n",
              "    <tr>\n",
              "      <th>1</th>\n",
              "      <td>192.168.20.191</td>\n",
              "      <td>176.103.130.131</td>\n",
              "      <td>50749</td>\n",
              "      <td>443</td>\n",
              "      <td>2020-01-14 15:50:52</td>\n",
              "      <td>122.309318</td>\n",
              "      <td>93828</td>\n",
              "      <td>767.136973</td>\n",
              "      <td>101232</td>\n",
              "      <td>827.672018</td>\n",
              "      <td>10458.118598</td>\n",
              "      <td>102.264943</td>\n",
              "      <td>141.245474</td>\n",
              "      <td>114.0</td>\n",
              "      <td>54</td>\n",
              "      <td>0.799261</td>\n",
              "      <td>0.853132</td>\n",
              "      <td>0.724023</td>\n",
              "      <td>708.465878</td>\n",
              "      <td>26.617022</td>\n",
              "      <td>52.287903</td>\n",
              "      <td>48.830314</td>\n",
              "      <td>31.719656</td>\n",
              "      <td>0.389704</td>\n",
              "      <td>0.772748</td>\n",
              "      <td>0.509047</td>\n",
              "      <td>0.001170</td>\n",
              "      <td>0.034200</td>\n",
              "      <td>0.024387</td>\n",
              "      <td>0.021043</td>\n",
              "      <td>0.026981</td>\n",
              "      <td>0.293297</td>\n",
              "      <td>-0.075845</td>\n",
              "      <td>1.402382</td>\n",
              "      <td>DoH</td>\n",
              "    </tr>\n",
              "    <tr>\n",
              "      <th>2</th>\n",
              "      <td>192.168.20.191</td>\n",
              "      <td>176.103.130.131</td>\n",
              "      <td>50749</td>\n",
              "      <td>443</td>\n",
              "      <td>2020-01-14 15:52:55</td>\n",
              "      <td>120.958413</td>\n",
              "      <td>38784</td>\n",
              "      <td>320.639127</td>\n",
              "      <td>38236</td>\n",
              "      <td>316.108645</td>\n",
              "      <td>7300.293933</td>\n",
              "      <td>85.441758</td>\n",
              "      <td>133.715278</td>\n",
              "      <td>89.0</td>\n",
              "      <td>54</td>\n",
              "      <td>1.570027</td>\n",
              "      <td>0.932978</td>\n",
              "      <td>0.638983</td>\n",
              "      <td>1358.911235</td>\n",
              "      <td>36.863413</td>\n",
              "      <td>50.316114</td>\n",
              "      <td>39.770747</td>\n",
              "      <td>0.417528</td>\n",
              "      <td>0.858198</td>\n",
              "      <td>1.353607</td>\n",
              "      <td>0.732636</td>\n",
              "      <td>0.000785</td>\n",
              "      <td>0.028021</td>\n",
              "      <td>0.029238</td>\n",
              "      <td>0.026921</td>\n",
              "      <td>0.026855</td>\n",
              "      <td>0.248064</td>\n",
              "      <td>0.085061</td>\n",
              "      <td>0.958348</td>\n",
              "      <td>DoH</td>\n",
              "    </tr>\n",
              "    <tr>\n",
              "      <th>3</th>\n",
              "      <td>192.168.20.191</td>\n",
              "      <td>176.103.130.131</td>\n",
              "      <td>50749</td>\n",
              "      <td>443</td>\n",
              "      <td>2020-01-14 15:54:56</td>\n",
              "      <td>110.501080</td>\n",
              "      <td>61993</td>\n",
              "      <td>561.017141</td>\n",
              "      <td>69757</td>\n",
              "      <td>631.278898</td>\n",
              "      <td>8499.282518</td>\n",
              "      <td>92.191553</td>\n",
              "      <td>139.123548</td>\n",
              "      <td>114.0</td>\n",
              "      <td>54</td>\n",
              "      <td>0.817544</td>\n",
              "      <td>0.923333</td>\n",
              "      <td>0.662660</td>\n",
              "      <td>1118.135436</td>\n",
              "      <td>33.438532</td>\n",
              "      <td>51.693726</td>\n",
              "      <td>34.882495</td>\n",
              "      <td>13.280934</td>\n",
              "      <td>1.508251</td>\n",
              "      <td>1.148758</td>\n",
              "      <td>0.646859</td>\n",
              "      <td>0.000411</td>\n",
              "      <td>0.020274</td>\n",
              "      <td>0.019925</td>\n",
              "      <td>0.019268</td>\n",
              "      <td>0.026918</td>\n",
              "      <td>0.097199</td>\n",
              "      <td>-0.344926</td>\n",
              "      <td>1.017535</td>\n",
              "      <td>DoH</td>\n",
              "    </tr>\n",
              "    <tr>\n",
              "      <th>4</th>\n",
              "      <td>176.103.130.131</td>\n",
              "      <td>192.168.20.191</td>\n",
              "      <td>443</td>\n",
              "      <td>50749</td>\n",
              "      <td>2020-01-14 15:56:46</td>\n",
              "      <td>54.229891</td>\n",
              "      <td>83641</td>\n",
              "      <td>1542.341289</td>\n",
              "      <td>76804</td>\n",
              "      <td>1416.266907</td>\n",
              "      <td>8052.745751</td>\n",
              "      <td>89.737092</td>\n",
              "      <td>138.913420</td>\n",
              "      <td>114.0</td>\n",
              "      <td>114</td>\n",
              "      <td>0.832880</td>\n",
              "      <td>0.277627</td>\n",
              "      <td>0.645993</td>\n",
              "      <td>341.696613</td>\n",
              "      <td>18.485038</td>\n",
              "      <td>36.435619</td>\n",
              "      <td>49.822561</td>\n",
              "      <td>7.342519</td>\n",
              "      <td>-2.172613</td>\n",
              "      <td>1.573873</td>\n",
              "      <td>0.507334</td>\n",
              "      <td>0.079079</td>\n",
              "      <td>0.281209</td>\n",
              "      <td>0.025930</td>\n",
              "      <td>0.000047</td>\n",
              "      <td>0.000021</td>\n",
              "      <td>0.276133</td>\n",
              "      <td>0.092135</td>\n",
              "      <td>10.844829</td>\n",
              "      <td>DoH</td>\n",
              "    </tr>\n",
              "  </tbody>\n",
              "</table>\n",
              "</div>"
            ],
            "text/plain": [
              "          SourceIP  ... Label\n",
              "0   192.168.20.191  ...   DoH\n",
              "1   192.168.20.191  ...   DoH\n",
              "2   192.168.20.191  ...   DoH\n",
              "3   192.168.20.191  ...   DoH\n",
              "4  176.103.130.131  ...   DoH\n",
              "\n",
              "[5 rows x 35 columns]"
            ]
          },
          "metadata": {
            "tags": []
          },
          "execution_count": 9
        }
      ]
    },
    {
      "cell_type": "code",
      "metadata": {
        "id": "BttPHEEZZZHd",
        "colab_type": "code",
        "colab": {}
      },
      "source": [
        "bad_columns = ['SourceIP', 'DestinationIP', 'SourcePort', 'DestinationPort', 'TimeStamp']\n",
        "df.drop(labels=bad_columns, axis='columns', inplace=True)"
      ],
      "execution_count": 10,
      "outputs": []
    },
    {
      "cell_type": "code",
      "metadata": {
        "id": "10RmnzFXZdP1",
        "colab_type": "code",
        "colab": {
          "base_uri": "https://localhost:8080/",
          "height": 69
        },
        "outputId": "1992e12f-52c2-4cae-e5bf-3470eb4fc76f"
      },
      "source": [
        "# The target classifications are in the 'Label' columns, \n",
        "#  thus this is the independent variable!\n",
        "dep_var = 'Label'\n",
        "df[dep_var].value_counts()"
      ],
      "execution_count": 11,
      "outputs": [
        {
          "output_type": "execute_result",
          "data": {
            "text/plain": [
              "NonDoH    889809\n",
              "DoH       269299\n",
              "Name: Label, dtype: int64"
            ]
          },
          "metadata": {
            "tags": []
          },
          "execution_count": 11
        }
      ]
    },
    {
      "cell_type": "code",
      "metadata": {
        "id": "17HxSHjjgkox",
        "colab_type": "code",
        "colab": {}
      },
      "source": [
        "# Balance the data out\n",
        "df = balance_data(df, dep_var)"
      ],
      "execution_count": 12,
      "outputs": []
    },
    {
      "cell_type": "code",
      "metadata": {
        "id": "gHHcLr9QgnRO",
        "colab_type": "code",
        "colab": {
          "base_uri": "https://localhost:8080/",
          "height": 69
        },
        "outputId": "e77e1356-e119-4d4d-e263-112789d8b247"
      },
      "source": [
        "df[dep_var].value_counts()"
      ],
      "execution_count": 13,
      "outputs": [
        {
          "output_type": "execute_result",
          "data": {
            "text/plain": [
              "NonDoH    40\n",
              "DoH       40\n",
              "Name: Label, dtype: int64"
            ]
          },
          "metadata": {
            "tags": []
          },
          "execution_count": 13
        }
      ]
    },
    {
      "cell_type": "code",
      "metadata": {
        "id": "sGzXo9tkZdBk",
        "colab_type": "code",
        "colab": {}
      },
      "source": [
        "# Split up the data into the data (X) and classifications (y)\n",
        "X = df.loc[:, df.columns != dep_var]\n",
        "y = df[dep_var]"
      ],
      "execution_count": 14,
      "outputs": []
    },
    {
      "cell_type": "code",
      "metadata": {
        "id": "495Wym42X-zQ",
        "colab_type": "code",
        "colab": {
          "base_uri": "https://localhost:8080/",
          "height": 52
        },
        "outputId": "5fe774a1-aa4c-4698-d1db-76f03550f24d"
      },
      "source": [
        "best_features_layer1 = ['Duration', 'ResponseTimeTimeSkewFromMedian', 'ResponseTimeTimeMode',\n",
        "       'ResponseTimeTimeMedian', 'ResponseTimeTimeMean',\n",
        "       'PacketTimeSkewFromMedian', 'PacketTimeMode', 'PacketTimeMedian',\n",
        "       'PacketTimeMean', 'ResponseTimeTimeSkewFromMode', 'PacketTimeVariance',\n",
        "       'PacketLengthCoefficientofVariation', 'PacketTimeStandardDeviation',\n",
        "       'PacketLengthMode', 'PacketLengthMedian', 'PacketLengthMean',\n",
        "       'FlowBytesSent', 'ResponseTimeTimeCoefficientofVariation',\n",
        "       'PacketLengthStandardDeviation', 'PacketLengthVariance',\n",
        "       'PacketTimeCoefficientofVariation', 'FlowReceivedRate',\n",
        "       'ResponseTimeTimeStandardDeviation', 'PacketLengthSkewFromMode',\n",
        "       'FlowBytesReceived', 'PacketLengthSkewFromMedian', 'FlowSentRate',\n",
        "       'ResponseTimeTimeVariance', 'PacketTimeSkewFromMode']\n",
        "print('These are the best 4 features for layer 1: {}'.format(best_features_layer1[:4]))\n",
        "print('These are the worst 4 features for layer 1: {}'.format(best_features_layer1[-4:]))"
      ],
      "execution_count": 15,
      "outputs": [
        {
          "output_type": "stream",
          "text": [
            "These are the best 4 features for layer 1: ['Duration', 'ResponseTimeTimeSkewFromMedian', 'ResponseTimeTimeMode', 'ResponseTimeTimeMedian']\n",
            "These are the worst 4 features for layer 1: ['PacketLengthSkewFromMedian', 'FlowSentRate', 'ResponseTimeTimeVariance', 'PacketTimeSkewFromMode']\n"
          ],
          "name": "stdout"
        }
      ]
    },
    {
      "cell_type": "code",
      "metadata": {
        "id": "SZQIjcBnZyse",
        "colab_type": "code",
        "colab": {
          "base_uri": "https://localhost:8080/",
          "height": 1000
        },
        "outputId": "a196fd30-0cf9-4f96-b339-7be61066fba4"
      },
      "source": [
        "mm = MetricsManager()\n",
        "\n",
        "train_and_eval_on(X=X, y=y, feature_set=best_features_layer1, metrics_manager=mm)"
      ],
      "execution_count": 16,
      "outputs": [
        {
          "output_type": "stream",
          "text": [
            "Training with 29 features\n",
            "fold num 1\n"
          ],
          "name": "stdout"
        },
        {
          "output_type": "stream",
          "text": [
            "/usr/local/lib/python3.6/dist-packages/sklearn/linear_model/_logistic.py:940: ConvergenceWarning: lbfgs failed to converge (status=1):\n",
            "STOP: TOTAL NO. of ITERATIONS REACHED LIMIT.\n",
            "\n",
            "Increase the number of iterations (max_iter) or scale the data as shown in:\n",
            "    https://scikit-learn.org/stable/modules/preprocessing.html\n",
            "Please also refer to the documentation for alternative solver options:\n",
            "    https://scikit-learn.org/stable/modules/linear_model.html#logistic-regression\n",
            "  extra_warning_msg=_LOGISTIC_SOLVER_CONVERGENCE_MSG)\n"
          ],
          "name": "stderr"
        },
        {
          "output_type": "display_data",
          "data": {
            "text/html": [
              "<table border=\"1\" class=\"dataframe\">\n",
              "  <thead>\n",
              "    <tr style=\"text-align: left;\">\n",
              "      <th>epoch</th>\n",
              "      <th>train_loss</th>\n",
              "      <th>valid_loss</th>\n",
              "      <th>accuracy</th>\n",
              "      <th>time</th>\n",
              "    </tr>\n",
              "  </thead>\n",
              "  <tbody>\n",
              "    <tr>\n",
              "      <td>0</td>\n",
              "      <td>0.615438</td>\n",
              "      <td>1.580577</td>\n",
              "      <td>0.375000</td>\n",
              "      <td>00:00</td>\n",
              "    </tr>\n",
              "    <tr>\n",
              "      <td>1</td>\n",
              "      <td>0.604253</td>\n",
              "      <td>1.252201</td>\n",
              "      <td>0.500000</td>\n",
              "      <td>00:00</td>\n",
              "    </tr>\n",
              "    <tr>\n",
              "      <td>2</td>\n",
              "      <td>0.558038</td>\n",
              "      <td>0.561066</td>\n",
              "      <td>0.875000</td>\n",
              "      <td>00:00</td>\n",
              "    </tr>\n",
              "    <tr>\n",
              "      <td>3</td>\n",
              "      <td>0.511953</td>\n",
              "      <td>0.466901</td>\n",
              "      <td>0.750000</td>\n",
              "      <td>00:00</td>\n",
              "    </tr>\n",
              "    <tr>\n",
              "      <td>4</td>\n",
              "      <td>0.469057</td>\n",
              "      <td>0.426965</td>\n",
              "      <td>0.750000</td>\n",
              "      <td>00:00</td>\n",
              "    </tr>\n",
              "    <tr>\n",
              "      <td>5</td>\n",
              "      <td>0.431724</td>\n",
              "      <td>0.401478</td>\n",
              "      <td>0.750000</td>\n",
              "      <td>00:00</td>\n",
              "    </tr>\n",
              "    <tr>\n",
              "      <td>6</td>\n",
              "      <td>0.395923</td>\n",
              "      <td>0.385560</td>\n",
              "      <td>0.875000</td>\n",
              "      <td>00:00</td>\n",
              "    </tr>\n",
              "    <tr>\n",
              "      <td>7</td>\n",
              "      <td>0.371257</td>\n",
              "      <td>0.374945</td>\n",
              "      <td>0.875000</td>\n",
              "      <td>00:00</td>\n",
              "    </tr>\n",
              "    <tr>\n",
              "      <td>8</td>\n",
              "      <td>0.350126</td>\n",
              "      <td>0.367318</td>\n",
              "      <td>0.875000</td>\n",
              "      <td>00:00</td>\n",
              "    </tr>\n",
              "    <tr>\n",
              "      <td>9</td>\n",
              "      <td>0.331463</td>\n",
              "      <td>0.360870</td>\n",
              "      <td>0.875000</td>\n",
              "      <td>00:00</td>\n",
              "    </tr>\n",
              "  </tbody>\n",
              "</table>"
            ],
            "text/plain": [
              "<IPython.core.display.HTML object>"
            ]
          },
          "metadata": {
            "tags": []
          }
        },
        {
          "output_type": "display_data",
          "data": {
            "text/html": [
              ""
            ],
            "text/plain": [
              "<IPython.core.display.HTML object>"
            ]
          },
          "metadata": {
            "tags": []
          }
        },
        {
          "output_type": "stream",
          "text": [
            "fold num 2\n"
          ],
          "name": "stdout"
        },
        {
          "output_type": "stream",
          "text": [
            "/usr/local/lib/python3.6/dist-packages/sklearn/linear_model/_logistic.py:940: ConvergenceWarning: lbfgs failed to converge (status=1):\n",
            "STOP: TOTAL NO. of ITERATIONS REACHED LIMIT.\n",
            "\n",
            "Increase the number of iterations (max_iter) or scale the data as shown in:\n",
            "    https://scikit-learn.org/stable/modules/preprocessing.html\n",
            "Please also refer to the documentation for alternative solver options:\n",
            "    https://scikit-learn.org/stable/modules/linear_model.html#logistic-regression\n",
            "  extra_warning_msg=_LOGISTIC_SOLVER_CONVERGENCE_MSG)\n"
          ],
          "name": "stderr"
        },
        {
          "output_type": "display_data",
          "data": {
            "text/html": [
              "<table border=\"1\" class=\"dataframe\">\n",
              "  <thead>\n",
              "    <tr style=\"text-align: left;\">\n",
              "      <th>epoch</th>\n",
              "      <th>train_loss</th>\n",
              "      <th>valid_loss</th>\n",
              "      <th>accuracy</th>\n",
              "      <th>time</th>\n",
              "    </tr>\n",
              "  </thead>\n",
              "  <tbody>\n",
              "    <tr>\n",
              "      <td>0</td>\n",
              "      <td>0.644672</td>\n",
              "      <td>0.757726</td>\n",
              "      <td>0.375000</td>\n",
              "      <td>00:00</td>\n",
              "    </tr>\n",
              "    <tr>\n",
              "      <td>1</td>\n",
              "      <td>0.636418</td>\n",
              "      <td>0.739809</td>\n",
              "      <td>0.500000</td>\n",
              "      <td>00:00</td>\n",
              "    </tr>\n",
              "    <tr>\n",
              "      <td>2</td>\n",
              "      <td>0.597778</td>\n",
              "      <td>0.703476</td>\n",
              "      <td>0.500000</td>\n",
              "      <td>00:00</td>\n",
              "    </tr>\n",
              "    <tr>\n",
              "      <td>3</td>\n",
              "      <td>0.544875</td>\n",
              "      <td>0.663264</td>\n",
              "      <td>0.625000</td>\n",
              "      <td>00:00</td>\n",
              "    </tr>\n",
              "    <tr>\n",
              "      <td>4</td>\n",
              "      <td>0.489977</td>\n",
              "      <td>0.637309</td>\n",
              "      <td>0.500000</td>\n",
              "      <td>00:00</td>\n",
              "    </tr>\n",
              "    <tr>\n",
              "      <td>5</td>\n",
              "      <td>0.451808</td>\n",
              "      <td>0.619137</td>\n",
              "      <td>0.750000</td>\n",
              "      <td>00:00</td>\n",
              "    </tr>\n",
              "    <tr>\n",
              "      <td>6</td>\n",
              "      <td>0.421687</td>\n",
              "      <td>0.603152</td>\n",
              "      <td>0.750000</td>\n",
              "      <td>00:00</td>\n",
              "    </tr>\n",
              "    <tr>\n",
              "      <td>7</td>\n",
              "      <td>0.391087</td>\n",
              "      <td>0.588845</td>\n",
              "      <td>0.750000</td>\n",
              "      <td>00:00</td>\n",
              "    </tr>\n",
              "    <tr>\n",
              "      <td>8</td>\n",
              "      <td>0.372392</td>\n",
              "      <td>0.577951</td>\n",
              "      <td>0.750000</td>\n",
              "      <td>00:00</td>\n",
              "    </tr>\n",
              "    <tr>\n",
              "      <td>9</td>\n",
              "      <td>0.348001</td>\n",
              "      <td>0.569759</td>\n",
              "      <td>0.750000</td>\n",
              "      <td>00:00</td>\n",
              "    </tr>\n",
              "  </tbody>\n",
              "</table>"
            ],
            "text/plain": [
              "<IPython.core.display.HTML object>"
            ]
          },
          "metadata": {
            "tags": []
          }
        },
        {
          "output_type": "display_data",
          "data": {
            "text/html": [
              ""
            ],
            "text/plain": [
              "<IPython.core.display.HTML object>"
            ]
          },
          "metadata": {
            "tags": []
          }
        },
        {
          "output_type": "stream",
          "text": [
            "fold num 3\n"
          ],
          "name": "stdout"
        },
        {
          "output_type": "stream",
          "text": [
            "/usr/local/lib/python3.6/dist-packages/sklearn/linear_model/_logistic.py:940: ConvergenceWarning: lbfgs failed to converge (status=1):\n",
            "STOP: TOTAL NO. of ITERATIONS REACHED LIMIT.\n",
            "\n",
            "Increase the number of iterations (max_iter) or scale the data as shown in:\n",
            "    https://scikit-learn.org/stable/modules/preprocessing.html\n",
            "Please also refer to the documentation for alternative solver options:\n",
            "    https://scikit-learn.org/stable/modules/linear_model.html#logistic-regression\n",
            "  extra_warning_msg=_LOGISTIC_SOLVER_CONVERGENCE_MSG)\n"
          ],
          "name": "stderr"
        },
        {
          "output_type": "display_data",
          "data": {
            "text/html": [
              "<table border=\"1\" class=\"dataframe\">\n",
              "  <thead>\n",
              "    <tr style=\"text-align: left;\">\n",
              "      <th>epoch</th>\n",
              "      <th>train_loss</th>\n",
              "      <th>valid_loss</th>\n",
              "      <th>accuracy</th>\n",
              "      <th>time</th>\n",
              "    </tr>\n",
              "  </thead>\n",
              "  <tbody>\n",
              "    <tr>\n",
              "      <td>0</td>\n",
              "      <td>0.882083</td>\n",
              "      <td>0.736766</td>\n",
              "      <td>0.125000</td>\n",
              "      <td>00:00</td>\n",
              "    </tr>\n",
              "    <tr>\n",
              "      <td>1</td>\n",
              "      <td>0.876716</td>\n",
              "      <td>0.712057</td>\n",
              "      <td>0.375000</td>\n",
              "      <td>00:00</td>\n",
              "    </tr>\n",
              "    <tr>\n",
              "      <td>2</td>\n",
              "      <td>0.795624</td>\n",
              "      <td>0.650845</td>\n",
              "      <td>0.875000</td>\n",
              "      <td>00:00</td>\n",
              "    </tr>\n",
              "    <tr>\n",
              "      <td>3</td>\n",
              "      <td>0.699040</td>\n",
              "      <td>0.587196</td>\n",
              "      <td>0.875000</td>\n",
              "      <td>00:00</td>\n",
              "    </tr>\n",
              "    <tr>\n",
              "      <td>4</td>\n",
              "      <td>0.624317</td>\n",
              "      <td>0.542047</td>\n",
              "      <td>0.875000</td>\n",
              "      <td>00:00</td>\n",
              "    </tr>\n",
              "    <tr>\n",
              "      <td>5</td>\n",
              "      <td>0.560329</td>\n",
              "      <td>0.506923</td>\n",
              "      <td>0.875000</td>\n",
              "      <td>00:00</td>\n",
              "    </tr>\n",
              "    <tr>\n",
              "      <td>6</td>\n",
              "      <td>0.516704</td>\n",
              "      <td>0.482158</td>\n",
              "      <td>0.875000</td>\n",
              "      <td>00:00</td>\n",
              "    </tr>\n",
              "    <tr>\n",
              "      <td>7</td>\n",
              "      <td>0.479217</td>\n",
              "      <td>0.463935</td>\n",
              "      <td>0.875000</td>\n",
              "      <td>00:00</td>\n",
              "    </tr>\n",
              "    <tr>\n",
              "      <td>8</td>\n",
              "      <td>0.449055</td>\n",
              "      <td>0.450576</td>\n",
              "      <td>0.875000</td>\n",
              "      <td>00:00</td>\n",
              "    </tr>\n",
              "    <tr>\n",
              "      <td>9</td>\n",
              "      <td>0.425161</td>\n",
              "      <td>0.438851</td>\n",
              "      <td>0.875000</td>\n",
              "      <td>00:00</td>\n",
              "    </tr>\n",
              "  </tbody>\n",
              "</table>"
            ],
            "text/plain": [
              "<IPython.core.display.HTML object>"
            ]
          },
          "metadata": {
            "tags": []
          }
        },
        {
          "output_type": "display_data",
          "data": {
            "text/html": [
              ""
            ],
            "text/plain": [
              "<IPython.core.display.HTML object>"
            ]
          },
          "metadata": {
            "tags": []
          }
        },
        {
          "output_type": "stream",
          "text": [
            "fold num 4\n"
          ],
          "name": "stdout"
        },
        {
          "output_type": "stream",
          "text": [
            "/usr/local/lib/python3.6/dist-packages/sklearn/linear_model/_logistic.py:940: ConvergenceWarning: lbfgs failed to converge (status=1):\n",
            "STOP: TOTAL NO. of ITERATIONS REACHED LIMIT.\n",
            "\n",
            "Increase the number of iterations (max_iter) or scale the data as shown in:\n",
            "    https://scikit-learn.org/stable/modules/preprocessing.html\n",
            "Please also refer to the documentation for alternative solver options:\n",
            "    https://scikit-learn.org/stable/modules/linear_model.html#logistic-regression\n",
            "  extra_warning_msg=_LOGISTIC_SOLVER_CONVERGENCE_MSG)\n"
          ],
          "name": "stderr"
        },
        {
          "output_type": "display_data",
          "data": {
            "text/html": [
              "<table border=\"1\" class=\"dataframe\">\n",
              "  <thead>\n",
              "    <tr style=\"text-align: left;\">\n",
              "      <th>epoch</th>\n",
              "      <th>train_loss</th>\n",
              "      <th>valid_loss</th>\n",
              "      <th>accuracy</th>\n",
              "      <th>time</th>\n",
              "    </tr>\n",
              "  </thead>\n",
              "  <tbody>\n",
              "    <tr>\n",
              "      <td>0</td>\n",
              "      <td>0.827300</td>\n",
              "      <td>0.710074</td>\n",
              "      <td>0.750000</td>\n",
              "      <td>00:00</td>\n",
              "    </tr>\n",
              "    <tr>\n",
              "      <td>1</td>\n",
              "      <td>0.803003</td>\n",
              "      <td>0.685075</td>\n",
              "      <td>0.750000</td>\n",
              "      <td>00:00</td>\n",
              "    </tr>\n",
              "    <tr>\n",
              "      <td>2</td>\n",
              "      <td>0.735166</td>\n",
              "      <td>0.628400</td>\n",
              "      <td>0.875000</td>\n",
              "      <td>00:00</td>\n",
              "    </tr>\n",
              "    <tr>\n",
              "      <td>3</td>\n",
              "      <td>0.651323</td>\n",
              "      <td>0.575915</td>\n",
              "      <td>0.875000</td>\n",
              "      <td>00:00</td>\n",
              "    </tr>\n",
              "    <tr>\n",
              "      <td>4</td>\n",
              "      <td>0.568397</td>\n",
              "      <td>0.533332</td>\n",
              "      <td>0.875000</td>\n",
              "      <td>00:00</td>\n",
              "    </tr>\n",
              "    <tr>\n",
              "      <td>5</td>\n",
              "      <td>0.525353</td>\n",
              "      <td>0.510306</td>\n",
              "      <td>0.875000</td>\n",
              "      <td>00:00</td>\n",
              "    </tr>\n",
              "    <tr>\n",
              "      <td>6</td>\n",
              "      <td>0.491574</td>\n",
              "      <td>0.496277</td>\n",
              "      <td>0.875000</td>\n",
              "      <td>00:00</td>\n",
              "    </tr>\n",
              "    <tr>\n",
              "      <td>7</td>\n",
              "      <td>0.456872</td>\n",
              "      <td>0.486378</td>\n",
              "      <td>0.875000</td>\n",
              "      <td>00:00</td>\n",
              "    </tr>\n",
              "    <tr>\n",
              "      <td>8</td>\n",
              "      <td>0.427218</td>\n",
              "      <td>0.477961</td>\n",
              "      <td>0.875000</td>\n",
              "      <td>00:00</td>\n",
              "    </tr>\n",
              "    <tr>\n",
              "      <td>9</td>\n",
              "      <td>0.408727</td>\n",
              "      <td>0.471124</td>\n",
              "      <td>0.875000</td>\n",
              "      <td>00:00</td>\n",
              "    </tr>\n",
              "  </tbody>\n",
              "</table>"
            ],
            "text/plain": [
              "<IPython.core.display.HTML object>"
            ]
          },
          "metadata": {
            "tags": []
          }
        },
        {
          "output_type": "display_data",
          "data": {
            "text/html": [
              ""
            ],
            "text/plain": [
              "<IPython.core.display.HTML object>"
            ]
          },
          "metadata": {
            "tags": []
          }
        },
        {
          "output_type": "stream",
          "text": [
            "fold num 5\n"
          ],
          "name": "stdout"
        },
        {
          "output_type": "stream",
          "text": [
            "/usr/local/lib/python3.6/dist-packages/sklearn/linear_model/_logistic.py:940: ConvergenceWarning: lbfgs failed to converge (status=1):\n",
            "STOP: TOTAL NO. of ITERATIONS REACHED LIMIT.\n",
            "\n",
            "Increase the number of iterations (max_iter) or scale the data as shown in:\n",
            "    https://scikit-learn.org/stable/modules/preprocessing.html\n",
            "Please also refer to the documentation for alternative solver options:\n",
            "    https://scikit-learn.org/stable/modules/linear_model.html#logistic-regression\n",
            "  extra_warning_msg=_LOGISTIC_SOLVER_CONVERGENCE_MSG)\n"
          ],
          "name": "stderr"
        },
        {
          "output_type": "stream",
          "text": [
            "WARNING:tensorflow:5 out of the last 5 calls to <function Model.make_test_function.<locals>.test_function at 0x7fec208382f0> triggered tf.function retracing. Tracing is expensive and the excessive number of tracings could be due to (1) creating @tf.function repeatedly in a loop, (2) passing tensors with different shapes, (3) passing Python objects instead of tensors. For (1), please define your @tf.function outside of the loop. For (2), @tf.function has experimental_relax_shapes=True option that relaxes argument shapes that can avoid unnecessary retracing. For (3), please refer to https://www.tensorflow.org/tutorials/customization/performance#python_or_tensor_args and https://www.tensorflow.org/api_docs/python/tf/function for  more details.\n"
          ],
          "name": "stdout"
        },
        {
          "output_type": "display_data",
          "data": {
            "text/html": [
              "<table border=\"1\" class=\"dataframe\">\n",
              "  <thead>\n",
              "    <tr style=\"text-align: left;\">\n",
              "      <th>epoch</th>\n",
              "      <th>train_loss</th>\n",
              "      <th>valid_loss</th>\n",
              "      <th>accuracy</th>\n",
              "      <th>time</th>\n",
              "    </tr>\n",
              "  </thead>\n",
              "  <tbody>\n",
              "    <tr>\n",
              "      <td>0</td>\n",
              "      <td>0.724292</td>\n",
              "      <td>0.788631</td>\n",
              "      <td>0.500000</td>\n",
              "      <td>00:00</td>\n",
              "    </tr>\n",
              "    <tr>\n",
              "      <td>1</td>\n",
              "      <td>0.711576</td>\n",
              "      <td>0.743522</td>\n",
              "      <td>0.750000</td>\n",
              "      <td>00:00</td>\n",
              "    </tr>\n",
              "    <tr>\n",
              "      <td>2</td>\n",
              "      <td>0.665292</td>\n",
              "      <td>0.642782</td>\n",
              "      <td>0.750000</td>\n",
              "      <td>00:00</td>\n",
              "    </tr>\n",
              "    <tr>\n",
              "      <td>3</td>\n",
              "      <td>0.603812</td>\n",
              "      <td>0.558146</td>\n",
              "      <td>0.750000</td>\n",
              "      <td>00:00</td>\n",
              "    </tr>\n",
              "    <tr>\n",
              "      <td>4</td>\n",
              "      <td>0.559903</td>\n",
              "      <td>0.496720</td>\n",
              "      <td>0.875000</td>\n",
              "      <td>00:00</td>\n",
              "    </tr>\n",
              "    <tr>\n",
              "      <td>5</td>\n",
              "      <td>0.523346</td>\n",
              "      <td>0.452766</td>\n",
              "      <td>0.875000</td>\n",
              "      <td>00:00</td>\n",
              "    </tr>\n",
              "    <tr>\n",
              "      <td>6</td>\n",
              "      <td>0.484530</td>\n",
              "      <td>0.423493</td>\n",
              "      <td>0.875000</td>\n",
              "      <td>00:00</td>\n",
              "    </tr>\n",
              "    <tr>\n",
              "      <td>7</td>\n",
              "      <td>0.456119</td>\n",
              "      <td>0.401452</td>\n",
              "      <td>0.875000</td>\n",
              "      <td>00:00</td>\n",
              "    </tr>\n",
              "    <tr>\n",
              "      <td>8</td>\n",
              "      <td>0.431924</td>\n",
              "      <td>0.384318</td>\n",
              "      <td>0.875000</td>\n",
              "      <td>00:00</td>\n",
              "    </tr>\n",
              "    <tr>\n",
              "      <td>9</td>\n",
              "      <td>0.412804</td>\n",
              "      <td>0.371104</td>\n",
              "      <td>0.875000</td>\n",
              "      <td>00:00</td>\n",
              "    </tr>\n",
              "  </tbody>\n",
              "</table>"
            ],
            "text/plain": [
              "<IPython.core.display.HTML object>"
            ]
          },
          "metadata": {
            "tags": []
          }
        },
        {
          "output_type": "display_data",
          "data": {
            "text/html": [
              ""
            ],
            "text/plain": [
              "<IPython.core.display.HTML object>"
            ]
          },
          "metadata": {
            "tags": []
          }
        },
        {
          "output_type": "stream",
          "text": [
            "fold num 6\n"
          ],
          "name": "stdout"
        },
        {
          "output_type": "stream",
          "text": [
            "/usr/local/lib/python3.6/dist-packages/sklearn/linear_model/_logistic.py:940: ConvergenceWarning: lbfgs failed to converge (status=1):\n",
            "STOP: TOTAL NO. of ITERATIONS REACHED LIMIT.\n",
            "\n",
            "Increase the number of iterations (max_iter) or scale the data as shown in:\n",
            "    https://scikit-learn.org/stable/modules/preprocessing.html\n",
            "Please also refer to the documentation for alternative solver options:\n",
            "    https://scikit-learn.org/stable/modules/linear_model.html#logistic-regression\n",
            "  extra_warning_msg=_LOGISTIC_SOLVER_CONVERGENCE_MSG)\n"
          ],
          "name": "stderr"
        },
        {
          "output_type": "stream",
          "text": [
            "WARNING:tensorflow:6 out of the last 6 calls to <function Model.make_test_function.<locals>.test_function at 0x7fec21b736a8> triggered tf.function retracing. Tracing is expensive and the excessive number of tracings could be due to (1) creating @tf.function repeatedly in a loop, (2) passing tensors with different shapes, (3) passing Python objects instead of tensors. For (1), please define your @tf.function outside of the loop. For (2), @tf.function has experimental_relax_shapes=True option that relaxes argument shapes that can avoid unnecessary retracing. For (3), please refer to https://www.tensorflow.org/tutorials/customization/performance#python_or_tensor_args and https://www.tensorflow.org/api_docs/python/tf/function for  more details.\n"
          ],
          "name": "stdout"
        },
        {
          "output_type": "display_data",
          "data": {
            "text/html": [
              "<table border=\"1\" class=\"dataframe\">\n",
              "  <thead>\n",
              "    <tr style=\"text-align: left;\">\n",
              "      <th>epoch</th>\n",
              "      <th>train_loss</th>\n",
              "      <th>valid_loss</th>\n",
              "      <th>accuracy</th>\n",
              "      <th>time</th>\n",
              "    </tr>\n",
              "  </thead>\n",
              "  <tbody>\n",
              "    <tr>\n",
              "      <td>0</td>\n",
              "      <td>0.586985</td>\n",
              "      <td>0.667321</td>\n",
              "      <td>0.750000</td>\n",
              "      <td>00:00</td>\n",
              "    </tr>\n",
              "    <tr>\n",
              "      <td>1</td>\n",
              "      <td>0.586774</td>\n",
              "      <td>0.655268</td>\n",
              "      <td>0.750000</td>\n",
              "      <td>00:00</td>\n",
              "    </tr>\n",
              "    <tr>\n",
              "      <td>2</td>\n",
              "      <td>0.555455</td>\n",
              "      <td>0.639091</td>\n",
              "      <td>0.625000</td>\n",
              "      <td>00:00</td>\n",
              "    </tr>\n",
              "    <tr>\n",
              "      <td>3</td>\n",
              "      <td>0.497547</td>\n",
              "      <td>0.620791</td>\n",
              "      <td>0.625000</td>\n",
              "      <td>00:00</td>\n",
              "    </tr>\n",
              "    <tr>\n",
              "      <td>4</td>\n",
              "      <td>0.458519</td>\n",
              "      <td>0.607666</td>\n",
              "      <td>0.750000</td>\n",
              "      <td>00:00</td>\n",
              "    </tr>\n",
              "    <tr>\n",
              "      <td>5</td>\n",
              "      <td>0.425794</td>\n",
              "      <td>0.594653</td>\n",
              "      <td>0.750000</td>\n",
              "      <td>00:00</td>\n",
              "    </tr>\n",
              "    <tr>\n",
              "      <td>6</td>\n",
              "      <td>0.395469</td>\n",
              "      <td>0.582599</td>\n",
              "      <td>0.750000</td>\n",
              "      <td>00:00</td>\n",
              "    </tr>\n",
              "    <tr>\n",
              "      <td>7</td>\n",
              "      <td>0.369260</td>\n",
              "      <td>0.571476</td>\n",
              "      <td>0.750000</td>\n",
              "      <td>00:00</td>\n",
              "    </tr>\n",
              "    <tr>\n",
              "      <td>8</td>\n",
              "      <td>0.348396</td>\n",
              "      <td>0.561005</td>\n",
              "      <td>0.750000</td>\n",
              "      <td>00:00</td>\n",
              "    </tr>\n",
              "    <tr>\n",
              "      <td>9</td>\n",
              "      <td>0.329563</td>\n",
              "      <td>0.552752</td>\n",
              "      <td>0.750000</td>\n",
              "      <td>00:00</td>\n",
              "    </tr>\n",
              "  </tbody>\n",
              "</table>"
            ],
            "text/plain": [
              "<IPython.core.display.HTML object>"
            ]
          },
          "metadata": {
            "tags": []
          }
        },
        {
          "output_type": "display_data",
          "data": {
            "text/html": [
              ""
            ],
            "text/plain": [
              "<IPython.core.display.HTML object>"
            ]
          },
          "metadata": {
            "tags": []
          }
        },
        {
          "output_type": "stream",
          "text": [
            "fold num 7\n"
          ],
          "name": "stdout"
        },
        {
          "output_type": "stream",
          "text": [
            "/usr/local/lib/python3.6/dist-packages/sklearn/linear_model/_logistic.py:940: ConvergenceWarning: lbfgs failed to converge (status=1):\n",
            "STOP: TOTAL NO. of ITERATIONS REACHED LIMIT.\n",
            "\n",
            "Increase the number of iterations (max_iter) or scale the data as shown in:\n",
            "    https://scikit-learn.org/stable/modules/preprocessing.html\n",
            "Please also refer to the documentation for alternative solver options:\n",
            "    https://scikit-learn.org/stable/modules/linear_model.html#logistic-regression\n",
            "  extra_warning_msg=_LOGISTIC_SOLVER_CONVERGENCE_MSG)\n"
          ],
          "name": "stderr"
        },
        {
          "output_type": "stream",
          "text": [
            "WARNING:tensorflow:7 out of the last 7 calls to <function Model.make_test_function.<locals>.test_function at 0x7fec224eef28> triggered tf.function retracing. Tracing is expensive and the excessive number of tracings could be due to (1) creating @tf.function repeatedly in a loop, (2) passing tensors with different shapes, (3) passing Python objects instead of tensors. For (1), please define your @tf.function outside of the loop. For (2), @tf.function has experimental_relax_shapes=True option that relaxes argument shapes that can avoid unnecessary retracing. For (3), please refer to https://www.tensorflow.org/tutorials/customization/performance#python_or_tensor_args and https://www.tensorflow.org/api_docs/python/tf/function for  more details.\n"
          ],
          "name": "stdout"
        },
        {
          "output_type": "display_data",
          "data": {
            "text/html": [
              "<table border=\"1\" class=\"dataframe\">\n",
              "  <thead>\n",
              "    <tr style=\"text-align: left;\">\n",
              "      <th>epoch</th>\n",
              "      <th>train_loss</th>\n",
              "      <th>valid_loss</th>\n",
              "      <th>accuracy</th>\n",
              "      <th>time</th>\n",
              "    </tr>\n",
              "  </thead>\n",
              "  <tbody>\n",
              "    <tr>\n",
              "      <td>0</td>\n",
              "      <td>0.824520</td>\n",
              "      <td>0.715964</td>\n",
              "      <td>0.375000</td>\n",
              "      <td>00:00</td>\n",
              "    </tr>\n",
              "    <tr>\n",
              "      <td>1</td>\n",
              "      <td>0.820558</td>\n",
              "      <td>0.705384</td>\n",
              "      <td>0.500000</td>\n",
              "      <td>00:00</td>\n",
              "    </tr>\n",
              "    <tr>\n",
              "      <td>2</td>\n",
              "      <td>0.738375</td>\n",
              "      <td>0.678903</td>\n",
              "      <td>0.500000</td>\n",
              "      <td>00:00</td>\n",
              "    </tr>\n",
              "    <tr>\n",
              "      <td>3</td>\n",
              "      <td>0.646842</td>\n",
              "      <td>0.646580</td>\n",
              "      <td>0.625000</td>\n",
              "      <td>00:00</td>\n",
              "    </tr>\n",
              "    <tr>\n",
              "      <td>4</td>\n",
              "      <td>0.588153</td>\n",
              "      <td>0.620009</td>\n",
              "      <td>0.750000</td>\n",
              "      <td>00:00</td>\n",
              "    </tr>\n",
              "    <tr>\n",
              "      <td>5</td>\n",
              "      <td>0.535170</td>\n",
              "      <td>0.600660</td>\n",
              "      <td>0.750000</td>\n",
              "      <td>00:00</td>\n",
              "    </tr>\n",
              "    <tr>\n",
              "      <td>6</td>\n",
              "      <td>0.494264</td>\n",
              "      <td>0.585076</td>\n",
              "      <td>0.750000</td>\n",
              "      <td>00:00</td>\n",
              "    </tr>\n",
              "    <tr>\n",
              "      <td>7</td>\n",
              "      <td>0.461517</td>\n",
              "      <td>0.572231</td>\n",
              "      <td>0.750000</td>\n",
              "      <td>00:00</td>\n",
              "    </tr>\n",
              "    <tr>\n",
              "      <td>8</td>\n",
              "      <td>0.436136</td>\n",
              "      <td>0.561240</td>\n",
              "      <td>0.875000</td>\n",
              "      <td>00:00</td>\n",
              "    </tr>\n",
              "    <tr>\n",
              "      <td>9</td>\n",
              "      <td>0.414326</td>\n",
              "      <td>0.551516</td>\n",
              "      <td>0.875000</td>\n",
              "      <td>00:00</td>\n",
              "    </tr>\n",
              "  </tbody>\n",
              "</table>"
            ],
            "text/plain": [
              "<IPython.core.display.HTML object>"
            ]
          },
          "metadata": {
            "tags": []
          }
        },
        {
          "output_type": "display_data",
          "data": {
            "text/html": [
              ""
            ],
            "text/plain": [
              "<IPython.core.display.HTML object>"
            ]
          },
          "metadata": {
            "tags": []
          }
        },
        {
          "output_type": "stream",
          "text": [
            "fold num 8\n"
          ],
          "name": "stdout"
        },
        {
          "output_type": "stream",
          "text": [
            "/usr/local/lib/python3.6/dist-packages/sklearn/linear_model/_logistic.py:940: ConvergenceWarning: lbfgs failed to converge (status=1):\n",
            "STOP: TOTAL NO. of ITERATIONS REACHED LIMIT.\n",
            "\n",
            "Increase the number of iterations (max_iter) or scale the data as shown in:\n",
            "    https://scikit-learn.org/stable/modules/preprocessing.html\n",
            "Please also refer to the documentation for alternative solver options:\n",
            "    https://scikit-learn.org/stable/modules/linear_model.html#logistic-regression\n",
            "  extra_warning_msg=_LOGISTIC_SOLVER_CONVERGENCE_MSG)\n"
          ],
          "name": "stderr"
        },
        {
          "output_type": "stream",
          "text": [
            "WARNING:tensorflow:8 out of the last 8 calls to <function Model.make_test_function.<locals>.test_function at 0x7fec21b36268> triggered tf.function retracing. Tracing is expensive and the excessive number of tracings could be due to (1) creating @tf.function repeatedly in a loop, (2) passing tensors with different shapes, (3) passing Python objects instead of tensors. For (1), please define your @tf.function outside of the loop. For (2), @tf.function has experimental_relax_shapes=True option that relaxes argument shapes that can avoid unnecessary retracing. For (3), please refer to https://www.tensorflow.org/tutorials/customization/performance#python_or_tensor_args and https://www.tensorflow.org/api_docs/python/tf/function for  more details.\n"
          ],
          "name": "stdout"
        },
        {
          "output_type": "display_data",
          "data": {
            "text/html": [
              "<table border=\"1\" class=\"dataframe\">\n",
              "  <thead>\n",
              "    <tr style=\"text-align: left;\">\n",
              "      <th>epoch</th>\n",
              "      <th>train_loss</th>\n",
              "      <th>valid_loss</th>\n",
              "      <th>accuracy</th>\n",
              "      <th>time</th>\n",
              "    </tr>\n",
              "  </thead>\n",
              "  <tbody>\n",
              "    <tr>\n",
              "      <td>0</td>\n",
              "      <td>0.714852</td>\n",
              "      <td>0.664647</td>\n",
              "      <td>0.625000</td>\n",
              "      <td>00:00</td>\n",
              "    </tr>\n",
              "    <tr>\n",
              "      <td>1</td>\n",
              "      <td>0.706650</td>\n",
              "      <td>0.648290</td>\n",
              "      <td>0.625000</td>\n",
              "      <td>00:00</td>\n",
              "    </tr>\n",
              "    <tr>\n",
              "      <td>2</td>\n",
              "      <td>0.654672</td>\n",
              "      <td>0.621990</td>\n",
              "      <td>0.750000</td>\n",
              "      <td>00:00</td>\n",
              "    </tr>\n",
              "    <tr>\n",
              "      <td>3</td>\n",
              "      <td>0.577305</td>\n",
              "      <td>0.587957</td>\n",
              "      <td>0.750000</td>\n",
              "      <td>00:00</td>\n",
              "    </tr>\n",
              "    <tr>\n",
              "      <td>4</td>\n",
              "      <td>0.526831</td>\n",
              "      <td>0.561110</td>\n",
              "      <td>0.750000</td>\n",
              "      <td>00:00</td>\n",
              "    </tr>\n",
              "    <tr>\n",
              "      <td>5</td>\n",
              "      <td>0.479313</td>\n",
              "      <td>0.541985</td>\n",
              "      <td>0.750000</td>\n",
              "      <td>00:00</td>\n",
              "    </tr>\n",
              "    <tr>\n",
              "      <td>6</td>\n",
              "      <td>0.434793</td>\n",
              "      <td>0.526510</td>\n",
              "      <td>0.750000</td>\n",
              "      <td>00:00</td>\n",
              "    </tr>\n",
              "    <tr>\n",
              "      <td>7</td>\n",
              "      <td>0.406443</td>\n",
              "      <td>0.514618</td>\n",
              "      <td>0.750000</td>\n",
              "      <td>00:00</td>\n",
              "    </tr>\n",
              "    <tr>\n",
              "      <td>8</td>\n",
              "      <td>0.377304</td>\n",
              "      <td>0.505323</td>\n",
              "      <td>0.750000</td>\n",
              "      <td>00:00</td>\n",
              "    </tr>\n",
              "    <tr>\n",
              "      <td>9</td>\n",
              "      <td>0.360103</td>\n",
              "      <td>0.498513</td>\n",
              "      <td>0.750000</td>\n",
              "      <td>00:00</td>\n",
              "    </tr>\n",
              "  </tbody>\n",
              "</table>"
            ],
            "text/plain": [
              "<IPython.core.display.HTML object>"
            ]
          },
          "metadata": {
            "tags": []
          }
        },
        {
          "output_type": "display_data",
          "data": {
            "text/html": [
              ""
            ],
            "text/plain": [
              "<IPython.core.display.HTML object>"
            ]
          },
          "metadata": {
            "tags": []
          }
        },
        {
          "output_type": "stream",
          "text": [
            "fold num 9\n"
          ],
          "name": "stdout"
        },
        {
          "output_type": "stream",
          "text": [
            "/usr/local/lib/python3.6/dist-packages/sklearn/linear_model/_logistic.py:940: ConvergenceWarning: lbfgs failed to converge (status=1):\n",
            "STOP: TOTAL NO. of ITERATIONS REACHED LIMIT.\n",
            "\n",
            "Increase the number of iterations (max_iter) or scale the data as shown in:\n",
            "    https://scikit-learn.org/stable/modules/preprocessing.html\n",
            "Please also refer to the documentation for alternative solver options:\n",
            "    https://scikit-learn.org/stable/modules/linear_model.html#logistic-regression\n",
            "  extra_warning_msg=_LOGISTIC_SOLVER_CONVERGENCE_MSG)\n"
          ],
          "name": "stderr"
        },
        {
          "output_type": "stream",
          "text": [
            "WARNING:tensorflow:9 out of the last 9 calls to <function Model.make_test_function.<locals>.test_function at 0x7fec23fc0b70> triggered tf.function retracing. Tracing is expensive and the excessive number of tracings could be due to (1) creating @tf.function repeatedly in a loop, (2) passing tensors with different shapes, (3) passing Python objects instead of tensors. For (1), please define your @tf.function outside of the loop. For (2), @tf.function has experimental_relax_shapes=True option that relaxes argument shapes that can avoid unnecessary retracing. For (3), please refer to https://www.tensorflow.org/tutorials/customization/performance#python_or_tensor_args and https://www.tensorflow.org/api_docs/python/tf/function for  more details.\n"
          ],
          "name": "stdout"
        },
        {
          "output_type": "display_data",
          "data": {
            "text/html": [
              "<table border=\"1\" class=\"dataframe\">\n",
              "  <thead>\n",
              "    <tr style=\"text-align: left;\">\n",
              "      <th>epoch</th>\n",
              "      <th>train_loss</th>\n",
              "      <th>valid_loss</th>\n",
              "      <th>accuracy</th>\n",
              "      <th>time</th>\n",
              "    </tr>\n",
              "  </thead>\n",
              "  <tbody>\n",
              "    <tr>\n",
              "      <td>0</td>\n",
              "      <td>0.771193</td>\n",
              "      <td>0.739650</td>\n",
              "      <td>0.250000</td>\n",
              "      <td>00:00</td>\n",
              "    </tr>\n",
              "    <tr>\n",
              "      <td>1</td>\n",
              "      <td>0.759561</td>\n",
              "      <td>0.704070</td>\n",
              "      <td>0.375000</td>\n",
              "      <td>00:00</td>\n",
              "    </tr>\n",
              "    <tr>\n",
              "      <td>2</td>\n",
              "      <td>0.699544</td>\n",
              "      <td>0.663828</td>\n",
              "      <td>0.750000</td>\n",
              "      <td>00:00</td>\n",
              "    </tr>\n",
              "    <tr>\n",
              "      <td>3</td>\n",
              "      <td>0.625955</td>\n",
              "      <td>0.602857</td>\n",
              "      <td>1.000000</td>\n",
              "      <td>00:00</td>\n",
              "    </tr>\n",
              "    <tr>\n",
              "      <td>4</td>\n",
              "      <td>0.570407</td>\n",
              "      <td>0.553245</td>\n",
              "      <td>1.000000</td>\n",
              "      <td>00:00</td>\n",
              "    </tr>\n",
              "    <tr>\n",
              "      <td>5</td>\n",
              "      <td>0.528422</td>\n",
              "      <td>0.519904</td>\n",
              "      <td>1.000000</td>\n",
              "      <td>00:00</td>\n",
              "    </tr>\n",
              "    <tr>\n",
              "      <td>6</td>\n",
              "      <td>0.492197</td>\n",
              "      <td>0.497672</td>\n",
              "      <td>1.000000</td>\n",
              "      <td>00:00</td>\n",
              "    </tr>\n",
              "    <tr>\n",
              "      <td>7</td>\n",
              "      <td>0.459243</td>\n",
              "      <td>0.481357</td>\n",
              "      <td>1.000000</td>\n",
              "      <td>00:00</td>\n",
              "    </tr>\n",
              "    <tr>\n",
              "      <td>8</td>\n",
              "      <td>0.433193</td>\n",
              "      <td>0.466176</td>\n",
              "      <td>0.875000</td>\n",
              "      <td>00:00</td>\n",
              "    </tr>\n",
              "    <tr>\n",
              "      <td>9</td>\n",
              "      <td>0.411372</td>\n",
              "      <td>0.453464</td>\n",
              "      <td>0.875000</td>\n",
              "      <td>00:00</td>\n",
              "    </tr>\n",
              "  </tbody>\n",
              "</table>"
            ],
            "text/plain": [
              "<IPython.core.display.HTML object>"
            ]
          },
          "metadata": {
            "tags": []
          }
        },
        {
          "output_type": "display_data",
          "data": {
            "text/html": [
              ""
            ],
            "text/plain": [
              "<IPython.core.display.HTML object>"
            ]
          },
          "metadata": {
            "tags": []
          }
        },
        {
          "output_type": "stream",
          "text": [
            "fold num 10\n"
          ],
          "name": "stdout"
        },
        {
          "output_type": "stream",
          "text": [
            "/usr/local/lib/python3.6/dist-packages/sklearn/linear_model/_logistic.py:940: ConvergenceWarning: lbfgs failed to converge (status=1):\n",
            "STOP: TOTAL NO. of ITERATIONS REACHED LIMIT.\n",
            "\n",
            "Increase the number of iterations (max_iter) or scale the data as shown in:\n",
            "    https://scikit-learn.org/stable/modules/preprocessing.html\n",
            "Please also refer to the documentation for alternative solver options:\n",
            "    https://scikit-learn.org/stable/modules/linear_model.html#logistic-regression\n",
            "  extra_warning_msg=_LOGISTIC_SOLVER_CONVERGENCE_MSG)\n"
          ],
          "name": "stderr"
        },
        {
          "output_type": "stream",
          "text": [
            "WARNING:tensorflow:10 out of the last 10 calls to <function Model.make_test_function.<locals>.test_function at 0x7fec23d11620> triggered tf.function retracing. Tracing is expensive and the excessive number of tracings could be due to (1) creating @tf.function repeatedly in a loop, (2) passing tensors with different shapes, (3) passing Python objects instead of tensors. For (1), please define your @tf.function outside of the loop. For (2), @tf.function has experimental_relax_shapes=True option that relaxes argument shapes that can avoid unnecessary retracing. For (3), please refer to https://www.tensorflow.org/tutorials/customization/performance#python_or_tensor_args and https://www.tensorflow.org/api_docs/python/tf/function for  more details.\n"
          ],
          "name": "stdout"
        },
        {
          "output_type": "display_data",
          "data": {
            "text/html": [
              "<table border=\"1\" class=\"dataframe\">\n",
              "  <thead>\n",
              "    <tr style=\"text-align: left;\">\n",
              "      <th>epoch</th>\n",
              "      <th>train_loss</th>\n",
              "      <th>valid_loss</th>\n",
              "      <th>accuracy</th>\n",
              "      <th>time</th>\n",
              "    </tr>\n",
              "  </thead>\n",
              "  <tbody>\n",
              "    <tr>\n",
              "      <td>0</td>\n",
              "      <td>0.744218</td>\n",
              "      <td>0.691945</td>\n",
              "      <td>0.375000</td>\n",
              "      <td>00:00</td>\n",
              "    </tr>\n",
              "    <tr>\n",
              "      <td>1</td>\n",
              "      <td>0.728977</td>\n",
              "      <td>0.681417</td>\n",
              "      <td>0.500000</td>\n",
              "      <td>00:00</td>\n",
              "    </tr>\n",
              "    <tr>\n",
              "      <td>2</td>\n",
              "      <td>0.669456</td>\n",
              "      <td>0.666431</td>\n",
              "      <td>0.500000</td>\n",
              "      <td>00:00</td>\n",
              "    </tr>\n",
              "    <tr>\n",
              "      <td>3</td>\n",
              "      <td>0.591472</td>\n",
              "      <td>0.654881</td>\n",
              "      <td>0.750000</td>\n",
              "      <td>00:00</td>\n",
              "    </tr>\n",
              "    <tr>\n",
              "      <td>4</td>\n",
              "      <td>0.526573</td>\n",
              "      <td>0.656751</td>\n",
              "      <td>0.875000</td>\n",
              "      <td>00:00</td>\n",
              "    </tr>\n",
              "    <tr>\n",
              "      <td>5</td>\n",
              "      <td>0.475614</td>\n",
              "      <td>0.665935</td>\n",
              "      <td>0.875000</td>\n",
              "      <td>00:00</td>\n",
              "    </tr>\n",
              "    <tr>\n",
              "      <td>6</td>\n",
              "      <td>0.435316</td>\n",
              "      <td>0.678615</td>\n",
              "      <td>0.875000</td>\n",
              "      <td>00:00</td>\n",
              "    </tr>\n",
              "    <tr>\n",
              "      <td>7</td>\n",
              "      <td>0.403150</td>\n",
              "      <td>0.688590</td>\n",
              "      <td>0.875000</td>\n",
              "      <td>00:00</td>\n",
              "    </tr>\n",
              "    <tr>\n",
              "      <td>8</td>\n",
              "      <td>0.374671</td>\n",
              "      <td>0.693007</td>\n",
              "      <td>0.875000</td>\n",
              "      <td>00:00</td>\n",
              "    </tr>\n",
              "    <tr>\n",
              "      <td>9</td>\n",
              "      <td>0.349970</td>\n",
              "      <td>0.693356</td>\n",
              "      <td>0.875000</td>\n",
              "      <td>00:00</td>\n",
              "    </tr>\n",
              "  </tbody>\n",
              "</table>"
            ],
            "text/plain": [
              "<IPython.core.display.HTML object>"
            ]
          },
          "metadata": {
            "tags": []
          }
        },
        {
          "output_type": "display_data",
          "data": {
            "text/html": [
              ""
            ],
            "text/plain": [
              "<IPython.core.display.HTML object>"
            ]
          },
          "metadata": {
            "tags": []
          }
        }
      ]
    },
    {
      "cell_type": "code",
      "metadata": {
        "id": "f7UNXwkzaEia",
        "colab_type": "code",
        "colab": {
          "base_uri": "https://localhost:8080/",
          "height": 225
        },
        "outputId": "31838cf2-a970-4721-ae19-7a482bb59a02"
      },
      "source": [
        "mm.printMeasures()"
      ],
      "execution_count": 17,
      "outputs": [
        {
          "output_type": "stream",
          "text": [
            "model     acc        \n",
            "--------------\n",
            "rf        87.50±11.18\n",
            "dt        77.50±12.25\n",
            "knn       77.50±9.35\n",
            "svm       61.25±15.26\n",
            "lr        75.00±12.50\n",
            "lda       76.25±17.18\n",
            "ab        81.25±13.98\n",
            "nb        77.50±10.90\n",
            "keras     66.25±19.41\n",
            "fastai    83.75±5.73\n"
          ],
          "name": "stdout"
        }
      ]
    },
    {
      "cell_type": "markdown",
      "metadata": {
        "id": "ssg9yMpDasKm",
        "colab_type": "text"
      },
      "source": [
        "## Layer 2 Experiments: Benign-DoH or Malicious-DoH"
      ]
    },
    {
      "cell_type": "code",
      "metadata": {
        "id": "oQzcxhJWay90",
        "colab_type": "code",
        "colab": {
          "base_uri": "https://localhost:8080/",
          "height": 313
        },
        "outputId": "eff64f86-f5bf-44e8-91f0-ff9cbf1a7d95"
      },
      "source": [
        "path = '/content/gdrive/My Drive/doh_dataset/Total-CSVs'\n",
        "df = get_data(path=path, layer=2)\n",
        "df.head()"
      ],
      "execution_count": 18,
      "outputs": [
        {
          "output_type": "execute_result",
          "data": {
            "text/html": [
              "<div>\n",
              "<style scoped>\n",
              "    .dataframe tbody tr th:only-of-type {\n",
              "        vertical-align: middle;\n",
              "    }\n",
              "\n",
              "    .dataframe tbody tr th {\n",
              "        vertical-align: top;\n",
              "    }\n",
              "\n",
              "    .dataframe thead th {\n",
              "        text-align: right;\n",
              "    }\n",
              "</style>\n",
              "<table border=\"1\" class=\"dataframe\">\n",
              "  <thead>\n",
              "    <tr style=\"text-align: right;\">\n",
              "      <th></th>\n",
              "      <th>SourceIP</th>\n",
              "      <th>DestinationIP</th>\n",
              "      <th>SourcePort</th>\n",
              "      <th>DestinationPort</th>\n",
              "      <th>TimeStamp</th>\n",
              "      <th>Duration</th>\n",
              "      <th>FlowBytesSent</th>\n",
              "      <th>FlowSentRate</th>\n",
              "      <th>FlowBytesReceived</th>\n",
              "      <th>FlowReceivedRate</th>\n",
              "      <th>PacketLengthVariance</th>\n",
              "      <th>PacketLengthStandardDeviation</th>\n",
              "      <th>PacketLengthMean</th>\n",
              "      <th>PacketLengthMedian</th>\n",
              "      <th>PacketLengthMode</th>\n",
              "      <th>PacketLengthSkewFromMedian</th>\n",
              "      <th>PacketLengthSkewFromMode</th>\n",
              "      <th>PacketLengthCoefficientofVariation</th>\n",
              "      <th>PacketTimeVariance</th>\n",
              "      <th>PacketTimeStandardDeviation</th>\n",
              "      <th>PacketTimeMean</th>\n",
              "      <th>PacketTimeMedian</th>\n",
              "      <th>PacketTimeMode</th>\n",
              "      <th>PacketTimeSkewFromMedian</th>\n",
              "      <th>PacketTimeSkewFromMode</th>\n",
              "      <th>PacketTimeCoefficientofVariation</th>\n",
              "      <th>ResponseTimeTimeVariance</th>\n",
              "      <th>ResponseTimeTimeStandardDeviation</th>\n",
              "      <th>ResponseTimeTimeMean</th>\n",
              "      <th>ResponseTimeTimeMedian</th>\n",
              "      <th>ResponseTimeTimeMode</th>\n",
              "      <th>ResponseTimeTimeSkewFromMedian</th>\n",
              "      <th>ResponseTimeTimeSkewFromMode</th>\n",
              "      <th>ResponseTimeTimeCoefficientofVariation</th>\n",
              "      <th>Label</th>\n",
              "    </tr>\n",
              "  </thead>\n",
              "  <tbody>\n",
              "    <tr>\n",
              "      <th>0</th>\n",
              "      <td>192.168.20.191</td>\n",
              "      <td>176.103.130.131</td>\n",
              "      <td>50749</td>\n",
              "      <td>443</td>\n",
              "      <td>2020-01-14 15:49:11</td>\n",
              "      <td>95.081550</td>\n",
              "      <td>62311</td>\n",
              "      <td>655.342703</td>\n",
              "      <td>65358</td>\n",
              "      <td>687.388878</td>\n",
              "      <td>7474.676771</td>\n",
              "      <td>86.456213</td>\n",
              "      <td>135.673751</td>\n",
              "      <td>102.0</td>\n",
              "      <td>54</td>\n",
              "      <td>1.168467</td>\n",
              "      <td>0.944683</td>\n",
              "      <td>0.637236</td>\n",
              "      <td>670.585814</td>\n",
              "      <td>25.895672</td>\n",
              "      <td>45.065277</td>\n",
              "      <td>48.811292</td>\n",
              "      <td>1.495060</td>\n",
              "      <td>-0.433974</td>\n",
              "      <td>1.682529</td>\n",
              "      <td>0.574626</td>\n",
              "      <td>0.001053</td>\n",
              "      <td>0.032457</td>\n",
              "      <td>0.027624</td>\n",
              "      <td>0.026854</td>\n",
              "      <td>0.026822</td>\n",
              "      <td>0.071187</td>\n",
              "      <td>0.024715</td>\n",
              "      <td>1.174948</td>\n",
              "      <td>Benign</td>\n",
              "    </tr>\n",
              "    <tr>\n",
              "      <th>1</th>\n",
              "      <td>192.168.20.191</td>\n",
              "      <td>176.103.130.131</td>\n",
              "      <td>50749</td>\n",
              "      <td>443</td>\n",
              "      <td>2020-01-14 15:50:52</td>\n",
              "      <td>122.309318</td>\n",
              "      <td>93828</td>\n",
              "      <td>767.136973</td>\n",
              "      <td>101232</td>\n",
              "      <td>827.672018</td>\n",
              "      <td>10458.118598</td>\n",
              "      <td>102.264943</td>\n",
              "      <td>141.245474</td>\n",
              "      <td>114.0</td>\n",
              "      <td>54</td>\n",
              "      <td>0.799261</td>\n",
              "      <td>0.853132</td>\n",
              "      <td>0.724023</td>\n",
              "      <td>708.465878</td>\n",
              "      <td>26.617022</td>\n",
              "      <td>52.287903</td>\n",
              "      <td>48.830314</td>\n",
              "      <td>31.719656</td>\n",
              "      <td>0.389704</td>\n",
              "      <td>0.772748</td>\n",
              "      <td>0.509047</td>\n",
              "      <td>0.001170</td>\n",
              "      <td>0.034200</td>\n",
              "      <td>0.024387</td>\n",
              "      <td>0.021043</td>\n",
              "      <td>0.026981</td>\n",
              "      <td>0.293297</td>\n",
              "      <td>-0.075845</td>\n",
              "      <td>1.402382</td>\n",
              "      <td>Benign</td>\n",
              "    </tr>\n",
              "    <tr>\n",
              "      <th>2</th>\n",
              "      <td>192.168.20.191</td>\n",
              "      <td>176.103.130.131</td>\n",
              "      <td>50749</td>\n",
              "      <td>443</td>\n",
              "      <td>2020-01-14 15:52:55</td>\n",
              "      <td>120.958413</td>\n",
              "      <td>38784</td>\n",
              "      <td>320.639127</td>\n",
              "      <td>38236</td>\n",
              "      <td>316.108645</td>\n",
              "      <td>7300.293933</td>\n",
              "      <td>85.441758</td>\n",
              "      <td>133.715278</td>\n",
              "      <td>89.0</td>\n",
              "      <td>54</td>\n",
              "      <td>1.570027</td>\n",
              "      <td>0.932978</td>\n",
              "      <td>0.638983</td>\n",
              "      <td>1358.911235</td>\n",
              "      <td>36.863413</td>\n",
              "      <td>50.316114</td>\n",
              "      <td>39.770747</td>\n",
              "      <td>0.417528</td>\n",
              "      <td>0.858198</td>\n",
              "      <td>1.353607</td>\n",
              "      <td>0.732636</td>\n",
              "      <td>0.000785</td>\n",
              "      <td>0.028021</td>\n",
              "      <td>0.029238</td>\n",
              "      <td>0.026921</td>\n",
              "      <td>0.026855</td>\n",
              "      <td>0.248064</td>\n",
              "      <td>0.085061</td>\n",
              "      <td>0.958348</td>\n",
              "      <td>Benign</td>\n",
              "    </tr>\n",
              "    <tr>\n",
              "      <th>3</th>\n",
              "      <td>192.168.20.191</td>\n",
              "      <td>176.103.130.131</td>\n",
              "      <td>50749</td>\n",
              "      <td>443</td>\n",
              "      <td>2020-01-14 15:54:56</td>\n",
              "      <td>110.501080</td>\n",
              "      <td>61993</td>\n",
              "      <td>561.017141</td>\n",
              "      <td>69757</td>\n",
              "      <td>631.278898</td>\n",
              "      <td>8499.282518</td>\n",
              "      <td>92.191553</td>\n",
              "      <td>139.123548</td>\n",
              "      <td>114.0</td>\n",
              "      <td>54</td>\n",
              "      <td>0.817544</td>\n",
              "      <td>0.923333</td>\n",
              "      <td>0.662660</td>\n",
              "      <td>1118.135436</td>\n",
              "      <td>33.438532</td>\n",
              "      <td>51.693726</td>\n",
              "      <td>34.882495</td>\n",
              "      <td>13.280934</td>\n",
              "      <td>1.508251</td>\n",
              "      <td>1.148758</td>\n",
              "      <td>0.646859</td>\n",
              "      <td>0.000411</td>\n",
              "      <td>0.020274</td>\n",
              "      <td>0.019925</td>\n",
              "      <td>0.019268</td>\n",
              "      <td>0.026918</td>\n",
              "      <td>0.097199</td>\n",
              "      <td>-0.344926</td>\n",
              "      <td>1.017535</td>\n",
              "      <td>Benign</td>\n",
              "    </tr>\n",
              "    <tr>\n",
              "      <th>4</th>\n",
              "      <td>176.103.130.131</td>\n",
              "      <td>192.168.20.191</td>\n",
              "      <td>443</td>\n",
              "      <td>50749</td>\n",
              "      <td>2020-01-14 15:56:46</td>\n",
              "      <td>54.229891</td>\n",
              "      <td>83641</td>\n",
              "      <td>1542.341289</td>\n",
              "      <td>76804</td>\n",
              "      <td>1416.266907</td>\n",
              "      <td>8052.745751</td>\n",
              "      <td>89.737092</td>\n",
              "      <td>138.913420</td>\n",
              "      <td>114.0</td>\n",
              "      <td>114</td>\n",
              "      <td>0.832880</td>\n",
              "      <td>0.277627</td>\n",
              "      <td>0.645993</td>\n",
              "      <td>341.696613</td>\n",
              "      <td>18.485038</td>\n",
              "      <td>36.435619</td>\n",
              "      <td>49.822561</td>\n",
              "      <td>7.342519</td>\n",
              "      <td>-2.172613</td>\n",
              "      <td>1.573873</td>\n",
              "      <td>0.507334</td>\n",
              "      <td>0.079079</td>\n",
              "      <td>0.281209</td>\n",
              "      <td>0.025930</td>\n",
              "      <td>0.000047</td>\n",
              "      <td>0.000021</td>\n",
              "      <td>0.276133</td>\n",
              "      <td>0.092135</td>\n",
              "      <td>10.844829</td>\n",
              "      <td>Benign</td>\n",
              "    </tr>\n",
              "  </tbody>\n",
              "</table>\n",
              "</div>"
            ],
            "text/plain": [
              "          SourceIP  ...   Label\n",
              "0   192.168.20.191  ...  Benign\n",
              "1   192.168.20.191  ...  Benign\n",
              "2   192.168.20.191  ...  Benign\n",
              "3   192.168.20.191  ...  Benign\n",
              "4  176.103.130.131  ...  Benign\n",
              "\n",
              "[5 rows x 35 columns]"
            ]
          },
          "metadata": {
            "tags": []
          },
          "execution_count": 18
        }
      ]
    },
    {
      "cell_type": "code",
      "metadata": {
        "id": "p1R8pZ66a5mz",
        "colab_type": "code",
        "colab": {}
      },
      "source": [
        "bad_columns = ['SourceIP', 'DestinationIP', 'SourcePort', 'DestinationPort', 'TimeStamp']\n",
        "df.drop(labels=bad_columns, axis='columns', inplace=True)"
      ],
      "execution_count": 19,
      "outputs": []
    },
    {
      "cell_type": "code",
      "metadata": {
        "id": "RTtdF9Sja5e2",
        "colab_type": "code",
        "colab": {
          "base_uri": "https://localhost:8080/",
          "height": 69
        },
        "outputId": "cdf37354-436e-4c32-b770-8058a9f28949"
      },
      "source": [
        "# The target classifications are in the 'Label' columns, \n",
        "#  thus this is the independent variable!\n",
        "dep_var = 'Label'\n",
        "df[dep_var].value_counts()"
      ],
      "execution_count": 20,
      "outputs": [
        {
          "output_type": "execute_result",
          "data": {
            "text/plain": [
              "Malicious    249553\n",
              "Benign        19746\n",
              "Name: Label, dtype: int64"
            ]
          },
          "metadata": {
            "tags": []
          },
          "execution_count": 20
        }
      ]
    },
    {
      "cell_type": "code",
      "metadata": {
        "id": "KHGbWGHxigHG",
        "colab_type": "code",
        "colab": {}
      },
      "source": [
        "# Balance the data out\n",
        "df = balance_data(df, dep_var)"
      ],
      "execution_count": 21,
      "outputs": []
    },
    {
      "cell_type": "code",
      "metadata": {
        "id": "zkeOOY-4ihz5",
        "colab_type": "code",
        "colab": {
          "base_uri": "https://localhost:8080/",
          "height": 69
        },
        "outputId": "01cfba3e-2b49-462b-80f0-96482d1fc322"
      },
      "source": [
        "df[dep_var].value_counts()"
      ],
      "execution_count": 22,
      "outputs": [
        {
          "output_type": "execute_result",
          "data": {
            "text/plain": [
              "Benign       40\n",
              "Malicious    40\n",
              "Name: Label, dtype: int64"
            ]
          },
          "metadata": {
            "tags": []
          },
          "execution_count": 22
        }
      ]
    },
    {
      "cell_type": "code",
      "metadata": {
        "id": "zDSwiqNaa5XP",
        "colab_type": "code",
        "colab": {}
      },
      "source": [
        "# Split up the data into the data (X) and classifications (y)\n",
        "X = df.loc[:, df.columns != dep_var]\n",
        "y = df[dep_var]"
      ],
      "execution_count": 23,
      "outputs": []
    },
    {
      "cell_type": "code",
      "metadata": {
        "id": "3gXMvDDUa5MN",
        "colab_type": "code",
        "colab": {
          "base_uri": "https://localhost:8080/",
          "height": 52
        },
        "outputId": "160e1c41-a152-4416-f505-a9f96bda423b"
      },
      "source": [
        "best_features_layer2 = ['PacketLengthStandardDeviation', 'PacketLengthCoefficientofVariation',\n",
        "       'FlowReceivedRate', 'PacketLengthMean', 'Duration',\n",
        "       'PacketTimeSkewFromMedian', 'FlowSentRate', 'PacketLengthVariance',\n",
        "       'PacketTimeMean', 'PacketTimeStandardDeviation',\n",
        "       'ResponseTimeTimeMedian', 'PacketTimeMedian',\n",
        "       'ResponseTimeTimeSkewFromMode', 'ResponseTimeTimeMean',\n",
        "       'ResponseTimeTimeMode', 'PacketTimeCoefficientofVariation',\n",
        "       'ResponseTimeTimeSkewFromMedian', 'PacketTimeMode', 'FlowBytesSent',\n",
        "       'FlowBytesReceived', 'PacketLengthMode',\n",
        "       'ResponseTimeTimeCoefficientofVariation', 'PacketLengthSkewFromMedian',\n",
        "       'PacketTimeVariance', 'PacketLengthMedian', 'PacketTimeSkewFromMode',\n",
        "       'ResponseTimeTimeStandardDeviation', 'ResponseTimeTimeVariance',\n",
        "       'PacketLengthSkewFromMode']\n",
        "print('These are the best 4 features for layer 2: {}'.format(best_features_layer2[:4]))\n",
        "print('These are the worst 4 features for layer 2: {}'.format(best_features_layer2[-4:]))"
      ],
      "execution_count": 24,
      "outputs": [
        {
          "output_type": "stream",
          "text": [
            "These are the best 4 features for layer 2: ['PacketLengthStandardDeviation', 'PacketLengthCoefficientofVariation', 'FlowReceivedRate', 'PacketLengthMean']\n",
            "These are the worst 4 features for layer 2: ['PacketTimeSkewFromMode', 'ResponseTimeTimeStandardDeviation', 'ResponseTimeTimeVariance', 'PacketLengthSkewFromMode']\n"
          ],
          "name": "stdout"
        }
      ]
    },
    {
      "cell_type": "code",
      "metadata": {
        "id": "xr52P7hObFlI",
        "colab_type": "code",
        "colab": {
          "base_uri": "https://localhost:8080/",
          "height": 1000
        },
        "outputId": "b7a2daec-3ed7-4cab-fa65-a1b36bededba"
      },
      "source": [
        "mm = MetricsManager()\n",
        "\n",
        "train_and_eval_on(X=X, y=y, feature_set=best_features_layer1, metrics_manager=mm)"
      ],
      "execution_count": 25,
      "outputs": [
        {
          "output_type": "stream",
          "text": [
            "Training with 29 features\n",
            "fold num 1\n"
          ],
          "name": "stdout"
        },
        {
          "output_type": "stream",
          "text": [
            "/usr/local/lib/python3.6/dist-packages/sklearn/linear_model/_logistic.py:940: ConvergenceWarning: lbfgs failed to converge (status=1):\n",
            "STOP: TOTAL NO. of ITERATIONS REACHED LIMIT.\n",
            "\n",
            "Increase the number of iterations (max_iter) or scale the data as shown in:\n",
            "    https://scikit-learn.org/stable/modules/preprocessing.html\n",
            "Please also refer to the documentation for alternative solver options:\n",
            "    https://scikit-learn.org/stable/modules/linear_model.html#logistic-regression\n",
            "  extra_warning_msg=_LOGISTIC_SOLVER_CONVERGENCE_MSG)\n"
          ],
          "name": "stderr"
        },
        {
          "output_type": "stream",
          "text": [
            "WARNING:tensorflow:11 out of the last 11 calls to <function Model.make_test_function.<locals>.test_function at 0x7fec23c28ae8> triggered tf.function retracing. Tracing is expensive and the excessive number of tracings could be due to (1) creating @tf.function repeatedly in a loop, (2) passing tensors with different shapes, (3) passing Python objects instead of tensors. For (1), please define your @tf.function outside of the loop. For (2), @tf.function has experimental_relax_shapes=True option that relaxes argument shapes that can avoid unnecessary retracing. For (3), please refer to https://www.tensorflow.org/tutorials/customization/performance#python_or_tensor_args and https://www.tensorflow.org/api_docs/python/tf/function for  more details.\n"
          ],
          "name": "stdout"
        },
        {
          "output_type": "display_data",
          "data": {
            "text/html": [
              "<table border=\"1\" class=\"dataframe\">\n",
              "  <thead>\n",
              "    <tr style=\"text-align: left;\">\n",
              "      <th>epoch</th>\n",
              "      <th>train_loss</th>\n",
              "      <th>valid_loss</th>\n",
              "      <th>accuracy</th>\n",
              "      <th>time</th>\n",
              "    </tr>\n",
              "  </thead>\n",
              "  <tbody>\n",
              "    <tr>\n",
              "      <td>0</td>\n",
              "      <td>0.703125</td>\n",
              "      <td>0.684023</td>\n",
              "      <td>0.500000</td>\n",
              "      <td>00:00</td>\n",
              "    </tr>\n",
              "    <tr>\n",
              "      <td>1</td>\n",
              "      <td>0.686927</td>\n",
              "      <td>0.669850</td>\n",
              "      <td>0.625000</td>\n",
              "      <td>00:00</td>\n",
              "    </tr>\n",
              "    <tr>\n",
              "      <td>2</td>\n",
              "      <td>0.629030</td>\n",
              "      <td>0.640672</td>\n",
              "      <td>0.750000</td>\n",
              "      <td>00:00</td>\n",
              "    </tr>\n",
              "    <tr>\n",
              "      <td>3</td>\n",
              "      <td>0.560555</td>\n",
              "      <td>0.610262</td>\n",
              "      <td>0.875000</td>\n",
              "      <td>00:00</td>\n",
              "    </tr>\n",
              "    <tr>\n",
              "      <td>4</td>\n",
              "      <td>0.492214</td>\n",
              "      <td>0.578148</td>\n",
              "      <td>0.875000</td>\n",
              "      <td>00:00</td>\n",
              "    </tr>\n",
              "    <tr>\n",
              "      <td>5</td>\n",
              "      <td>0.440126</td>\n",
              "      <td>0.548016</td>\n",
              "      <td>0.875000</td>\n",
              "      <td>00:00</td>\n",
              "    </tr>\n",
              "    <tr>\n",
              "      <td>6</td>\n",
              "      <td>0.400985</td>\n",
              "      <td>0.523115</td>\n",
              "      <td>0.875000</td>\n",
              "      <td>00:00</td>\n",
              "    </tr>\n",
              "    <tr>\n",
              "      <td>7</td>\n",
              "      <td>0.366734</td>\n",
              "      <td>0.502937</td>\n",
              "      <td>0.875000</td>\n",
              "      <td>00:00</td>\n",
              "    </tr>\n",
              "    <tr>\n",
              "      <td>8</td>\n",
              "      <td>0.336440</td>\n",
              "      <td>0.486650</td>\n",
              "      <td>0.875000</td>\n",
              "      <td>00:00</td>\n",
              "    </tr>\n",
              "    <tr>\n",
              "      <td>9</td>\n",
              "      <td>0.312656</td>\n",
              "      <td>0.473583</td>\n",
              "      <td>0.875000</td>\n",
              "      <td>00:00</td>\n",
              "    </tr>\n",
              "  </tbody>\n",
              "</table>"
            ],
            "text/plain": [
              "<IPython.core.display.HTML object>"
            ]
          },
          "metadata": {
            "tags": []
          }
        },
        {
          "output_type": "display_data",
          "data": {
            "text/html": [
              ""
            ],
            "text/plain": [
              "<IPython.core.display.HTML object>"
            ]
          },
          "metadata": {
            "tags": []
          }
        },
        {
          "output_type": "stream",
          "text": [
            "fold num 2\n"
          ],
          "name": "stdout"
        },
        {
          "output_type": "stream",
          "text": [
            "/usr/local/lib/python3.6/dist-packages/sklearn/linear_model/_logistic.py:940: ConvergenceWarning: lbfgs failed to converge (status=1):\n",
            "STOP: TOTAL NO. of ITERATIONS REACHED LIMIT.\n",
            "\n",
            "Increase the number of iterations (max_iter) or scale the data as shown in:\n",
            "    https://scikit-learn.org/stable/modules/preprocessing.html\n",
            "Please also refer to the documentation for alternative solver options:\n",
            "    https://scikit-learn.org/stable/modules/linear_model.html#logistic-regression\n",
            "  extra_warning_msg=_LOGISTIC_SOLVER_CONVERGENCE_MSG)\n"
          ],
          "name": "stderr"
        },
        {
          "output_type": "stream",
          "text": [
            "WARNING:tensorflow:11 out of the last 11 calls to <function Model.make_test_function.<locals>.test_function at 0x7fec2651c730> triggered tf.function retracing. Tracing is expensive and the excessive number of tracings could be due to (1) creating @tf.function repeatedly in a loop, (2) passing tensors with different shapes, (3) passing Python objects instead of tensors. For (1), please define your @tf.function outside of the loop. For (2), @tf.function has experimental_relax_shapes=True option that relaxes argument shapes that can avoid unnecessary retracing. For (3), please refer to https://www.tensorflow.org/tutorials/customization/performance#python_or_tensor_args and https://www.tensorflow.org/api_docs/python/tf/function for  more details.\n"
          ],
          "name": "stdout"
        },
        {
          "output_type": "display_data",
          "data": {
            "text/html": [
              "<table border=\"1\" class=\"dataframe\">\n",
              "  <thead>\n",
              "    <tr style=\"text-align: left;\">\n",
              "      <th>epoch</th>\n",
              "      <th>train_loss</th>\n",
              "      <th>valid_loss</th>\n",
              "      <th>accuracy</th>\n",
              "      <th>time</th>\n",
              "    </tr>\n",
              "  </thead>\n",
              "  <tbody>\n",
              "    <tr>\n",
              "      <td>0</td>\n",
              "      <td>0.812059</td>\n",
              "      <td>0.785382</td>\n",
              "      <td>0.125000</td>\n",
              "      <td>00:00</td>\n",
              "    </tr>\n",
              "    <tr>\n",
              "      <td>1</td>\n",
              "      <td>0.807775</td>\n",
              "      <td>0.802859</td>\n",
              "      <td>0.375000</td>\n",
              "      <td>00:00</td>\n",
              "    </tr>\n",
              "    <tr>\n",
              "      <td>2</td>\n",
              "      <td>0.738160</td>\n",
              "      <td>0.841363</td>\n",
              "      <td>0.375000</td>\n",
              "      <td>00:00</td>\n",
              "    </tr>\n",
              "    <tr>\n",
              "      <td>3</td>\n",
              "      <td>0.646848</td>\n",
              "      <td>0.882718</td>\n",
              "      <td>0.625000</td>\n",
              "      <td>00:00</td>\n",
              "    </tr>\n",
              "    <tr>\n",
              "      <td>4</td>\n",
              "      <td>0.571459</td>\n",
              "      <td>0.918108</td>\n",
              "      <td>0.625000</td>\n",
              "      <td>00:00</td>\n",
              "    </tr>\n",
              "    <tr>\n",
              "      <td>5</td>\n",
              "      <td>0.508967</td>\n",
              "      <td>0.952194</td>\n",
              "      <td>0.750000</td>\n",
              "      <td>00:00</td>\n",
              "    </tr>\n",
              "    <tr>\n",
              "      <td>6</td>\n",
              "      <td>0.461502</td>\n",
              "      <td>0.987399</td>\n",
              "      <td>0.750000</td>\n",
              "      <td>00:00</td>\n",
              "    </tr>\n",
              "    <tr>\n",
              "      <td>7</td>\n",
              "      <td>0.423304</td>\n",
              "      <td>1.038832</td>\n",
              "      <td>0.750000</td>\n",
              "      <td>00:00</td>\n",
              "    </tr>\n",
              "    <tr>\n",
              "      <td>8</td>\n",
              "      <td>0.395221</td>\n",
              "      <td>1.089454</td>\n",
              "      <td>0.750000</td>\n",
              "      <td>00:00</td>\n",
              "    </tr>\n",
              "    <tr>\n",
              "      <td>9</td>\n",
              "      <td>0.371233</td>\n",
              "      <td>1.127551</td>\n",
              "      <td>0.750000</td>\n",
              "      <td>00:00</td>\n",
              "    </tr>\n",
              "  </tbody>\n",
              "</table>"
            ],
            "text/plain": [
              "<IPython.core.display.HTML object>"
            ]
          },
          "metadata": {
            "tags": []
          }
        },
        {
          "output_type": "display_data",
          "data": {
            "text/html": [
              ""
            ],
            "text/plain": [
              "<IPython.core.display.HTML object>"
            ]
          },
          "metadata": {
            "tags": []
          }
        },
        {
          "output_type": "stream",
          "text": [
            "fold num 3\n"
          ],
          "name": "stdout"
        },
        {
          "output_type": "stream",
          "text": [
            "/usr/local/lib/python3.6/dist-packages/sklearn/linear_model/_logistic.py:940: ConvergenceWarning: lbfgs failed to converge (status=1):\n",
            "STOP: TOTAL NO. of ITERATIONS REACHED LIMIT.\n",
            "\n",
            "Increase the number of iterations (max_iter) or scale the data as shown in:\n",
            "    https://scikit-learn.org/stable/modules/preprocessing.html\n",
            "Please also refer to the documentation for alternative solver options:\n",
            "    https://scikit-learn.org/stable/modules/linear_model.html#logistic-regression\n",
            "  extra_warning_msg=_LOGISTIC_SOLVER_CONVERGENCE_MSG)\n"
          ],
          "name": "stderr"
        },
        {
          "output_type": "stream",
          "text": [
            "WARNING:tensorflow:11 out of the last 11 calls to <function Model.make_test_function.<locals>.test_function at 0x7fec21b73d90> triggered tf.function retracing. Tracing is expensive and the excessive number of tracings could be due to (1) creating @tf.function repeatedly in a loop, (2) passing tensors with different shapes, (3) passing Python objects instead of tensors. For (1), please define your @tf.function outside of the loop. For (2), @tf.function has experimental_relax_shapes=True option that relaxes argument shapes that can avoid unnecessary retracing. For (3), please refer to https://www.tensorflow.org/tutorials/customization/performance#python_or_tensor_args and https://www.tensorflow.org/api_docs/python/tf/function for  more details.\n"
          ],
          "name": "stdout"
        },
        {
          "output_type": "display_data",
          "data": {
            "text/html": [
              "<table border=\"1\" class=\"dataframe\">\n",
              "  <thead>\n",
              "    <tr style=\"text-align: left;\">\n",
              "      <th>epoch</th>\n",
              "      <th>train_loss</th>\n",
              "      <th>valid_loss</th>\n",
              "      <th>accuracy</th>\n",
              "      <th>time</th>\n",
              "    </tr>\n",
              "  </thead>\n",
              "  <tbody>\n",
              "    <tr>\n",
              "      <td>0</td>\n",
              "      <td>1.067750</td>\n",
              "      <td>0.684581</td>\n",
              "      <td>0.375000</td>\n",
              "      <td>00:00</td>\n",
              "    </tr>\n",
              "    <tr>\n",
              "      <td>1</td>\n",
              "      <td>1.022085</td>\n",
              "      <td>0.667485</td>\n",
              "      <td>0.375000</td>\n",
              "      <td>00:00</td>\n",
              "    </tr>\n",
              "    <tr>\n",
              "      <td>2</td>\n",
              "      <td>0.943431</td>\n",
              "      <td>0.640187</td>\n",
              "      <td>0.750000</td>\n",
              "      <td>00:00</td>\n",
              "    </tr>\n",
              "    <tr>\n",
              "      <td>3</td>\n",
              "      <td>0.809890</td>\n",
              "      <td>0.631933</td>\n",
              "      <td>0.625000</td>\n",
              "      <td>00:00</td>\n",
              "    </tr>\n",
              "    <tr>\n",
              "      <td>4</td>\n",
              "      <td>0.700292</td>\n",
              "      <td>0.643792</td>\n",
              "      <td>0.750000</td>\n",
              "      <td>00:00</td>\n",
              "    </tr>\n",
              "    <tr>\n",
              "      <td>5</td>\n",
              "      <td>0.609680</td>\n",
              "      <td>0.665861</td>\n",
              "      <td>0.750000</td>\n",
              "      <td>00:00</td>\n",
              "    </tr>\n",
              "    <tr>\n",
              "      <td>6</td>\n",
              "      <td>0.544037</td>\n",
              "      <td>0.689083</td>\n",
              "      <td>0.750000</td>\n",
              "      <td>00:00</td>\n",
              "    </tr>\n",
              "    <tr>\n",
              "      <td>7</td>\n",
              "      <td>0.490901</td>\n",
              "      <td>0.713269</td>\n",
              "      <td>0.750000</td>\n",
              "      <td>00:00</td>\n",
              "    </tr>\n",
              "    <tr>\n",
              "      <td>8</td>\n",
              "      <td>0.449663</td>\n",
              "      <td>0.734598</td>\n",
              "      <td>0.750000</td>\n",
              "      <td>00:00</td>\n",
              "    </tr>\n",
              "    <tr>\n",
              "      <td>9</td>\n",
              "      <td>0.415629</td>\n",
              "      <td>0.751422</td>\n",
              "      <td>0.750000</td>\n",
              "      <td>00:00</td>\n",
              "    </tr>\n",
              "  </tbody>\n",
              "</table>"
            ],
            "text/plain": [
              "<IPython.core.display.HTML object>"
            ]
          },
          "metadata": {
            "tags": []
          }
        },
        {
          "output_type": "display_data",
          "data": {
            "text/html": [
              ""
            ],
            "text/plain": [
              "<IPython.core.display.HTML object>"
            ]
          },
          "metadata": {
            "tags": []
          }
        },
        {
          "output_type": "stream",
          "text": [
            "fold num 4\n"
          ],
          "name": "stdout"
        },
        {
          "output_type": "stream",
          "text": [
            "/usr/local/lib/python3.6/dist-packages/sklearn/linear_model/_logistic.py:940: ConvergenceWarning: lbfgs failed to converge (status=1):\n",
            "STOP: TOTAL NO. of ITERATIONS REACHED LIMIT.\n",
            "\n",
            "Increase the number of iterations (max_iter) or scale the data as shown in:\n",
            "    https://scikit-learn.org/stable/modules/preprocessing.html\n",
            "Please also refer to the documentation for alternative solver options:\n",
            "    https://scikit-learn.org/stable/modules/linear_model.html#logistic-regression\n",
            "  extra_warning_msg=_LOGISTIC_SOLVER_CONVERGENCE_MSG)\n"
          ],
          "name": "stderr"
        },
        {
          "output_type": "stream",
          "text": [
            "WARNING:tensorflow:11 out of the last 11 calls to <function Model.make_test_function.<locals>.test_function at 0x7fec20a1aae8> triggered tf.function retracing. Tracing is expensive and the excessive number of tracings could be due to (1) creating @tf.function repeatedly in a loop, (2) passing tensors with different shapes, (3) passing Python objects instead of tensors. For (1), please define your @tf.function outside of the loop. For (2), @tf.function has experimental_relax_shapes=True option that relaxes argument shapes that can avoid unnecessary retracing. For (3), please refer to https://www.tensorflow.org/tutorials/customization/performance#python_or_tensor_args and https://www.tensorflow.org/api_docs/python/tf/function for  more details.\n"
          ],
          "name": "stdout"
        },
        {
          "output_type": "display_data",
          "data": {
            "text/html": [
              "<table border=\"1\" class=\"dataframe\">\n",
              "  <thead>\n",
              "    <tr style=\"text-align: left;\">\n",
              "      <th>epoch</th>\n",
              "      <th>train_loss</th>\n",
              "      <th>valid_loss</th>\n",
              "      <th>accuracy</th>\n",
              "      <th>time</th>\n",
              "    </tr>\n",
              "  </thead>\n",
              "  <tbody>\n",
              "    <tr>\n",
              "      <td>0</td>\n",
              "      <td>0.696429</td>\n",
              "      <td>0.680623</td>\n",
              "      <td>0.500000</td>\n",
              "      <td>00:00</td>\n",
              "    </tr>\n",
              "    <tr>\n",
              "      <td>1</td>\n",
              "      <td>0.658842</td>\n",
              "      <td>0.668230</td>\n",
              "      <td>0.625000</td>\n",
              "      <td>00:00</td>\n",
              "    </tr>\n",
              "    <tr>\n",
              "      <td>2</td>\n",
              "      <td>0.595931</td>\n",
              "      <td>0.637231</td>\n",
              "      <td>0.875000</td>\n",
              "      <td>00:00</td>\n",
              "    </tr>\n",
              "    <tr>\n",
              "      <td>3</td>\n",
              "      <td>0.524255</td>\n",
              "      <td>0.580582</td>\n",
              "      <td>0.875000</td>\n",
              "      <td>00:00</td>\n",
              "    </tr>\n",
              "    <tr>\n",
              "      <td>4</td>\n",
              "      <td>0.467769</td>\n",
              "      <td>0.522569</td>\n",
              "      <td>0.875000</td>\n",
              "      <td>00:00</td>\n",
              "    </tr>\n",
              "    <tr>\n",
              "      <td>5</td>\n",
              "      <td>0.423788</td>\n",
              "      <td>0.472764</td>\n",
              "      <td>0.875000</td>\n",
              "      <td>00:00</td>\n",
              "    </tr>\n",
              "    <tr>\n",
              "      <td>6</td>\n",
              "      <td>0.384971</td>\n",
              "      <td>0.431364</td>\n",
              "      <td>0.875000</td>\n",
              "      <td>00:00</td>\n",
              "    </tr>\n",
              "    <tr>\n",
              "      <td>7</td>\n",
              "      <td>0.350972</td>\n",
              "      <td>0.400276</td>\n",
              "      <td>0.875000</td>\n",
              "      <td>00:00</td>\n",
              "    </tr>\n",
              "    <tr>\n",
              "      <td>8</td>\n",
              "      <td>0.323533</td>\n",
              "      <td>0.376076</td>\n",
              "      <td>0.875000</td>\n",
              "      <td>00:00</td>\n",
              "    </tr>\n",
              "    <tr>\n",
              "      <td>9</td>\n",
              "      <td>0.301945</td>\n",
              "      <td>0.357335</td>\n",
              "      <td>0.875000</td>\n",
              "      <td>00:00</td>\n",
              "    </tr>\n",
              "  </tbody>\n",
              "</table>"
            ],
            "text/plain": [
              "<IPython.core.display.HTML object>"
            ]
          },
          "metadata": {
            "tags": []
          }
        },
        {
          "output_type": "display_data",
          "data": {
            "text/html": [
              ""
            ],
            "text/plain": [
              "<IPython.core.display.HTML object>"
            ]
          },
          "metadata": {
            "tags": []
          }
        },
        {
          "output_type": "stream",
          "text": [
            "fold num 5\n"
          ],
          "name": "stdout"
        },
        {
          "output_type": "stream",
          "text": [
            "/usr/local/lib/python3.6/dist-packages/sklearn/linear_model/_logistic.py:940: ConvergenceWarning: lbfgs failed to converge (status=1):\n",
            "STOP: TOTAL NO. of ITERATIONS REACHED LIMIT.\n",
            "\n",
            "Increase the number of iterations (max_iter) or scale the data as shown in:\n",
            "    https://scikit-learn.org/stable/modules/preprocessing.html\n",
            "Please also refer to the documentation for alternative solver options:\n",
            "    https://scikit-learn.org/stable/modules/linear_model.html#logistic-regression\n",
            "  extra_warning_msg=_LOGISTIC_SOLVER_CONVERGENCE_MSG)\n"
          ],
          "name": "stderr"
        },
        {
          "output_type": "stream",
          "text": [
            "WARNING:tensorflow:11 out of the last 11 calls to <function Model.make_test_function.<locals>.test_function at 0x7fec258d41e0> triggered tf.function retracing. Tracing is expensive and the excessive number of tracings could be due to (1) creating @tf.function repeatedly in a loop, (2) passing tensors with different shapes, (3) passing Python objects instead of tensors. For (1), please define your @tf.function outside of the loop. For (2), @tf.function has experimental_relax_shapes=True option that relaxes argument shapes that can avoid unnecessary retracing. For (3), please refer to https://www.tensorflow.org/tutorials/customization/performance#python_or_tensor_args and https://www.tensorflow.org/api_docs/python/tf/function for  more details.\n"
          ],
          "name": "stdout"
        },
        {
          "output_type": "display_data",
          "data": {
            "text/html": [
              "<table border=\"1\" class=\"dataframe\">\n",
              "  <thead>\n",
              "    <tr style=\"text-align: left;\">\n",
              "      <th>epoch</th>\n",
              "      <th>train_loss</th>\n",
              "      <th>valid_loss</th>\n",
              "      <th>accuracy</th>\n",
              "      <th>time</th>\n",
              "    </tr>\n",
              "  </thead>\n",
              "  <tbody>\n",
              "    <tr>\n",
              "      <td>0</td>\n",
              "      <td>0.788765</td>\n",
              "      <td>0.675188</td>\n",
              "      <td>0.750000</td>\n",
              "      <td>00:00</td>\n",
              "    </tr>\n",
              "    <tr>\n",
              "      <td>1</td>\n",
              "      <td>0.798184</td>\n",
              "      <td>0.656290</td>\n",
              "      <td>0.750000</td>\n",
              "      <td>00:00</td>\n",
              "    </tr>\n",
              "    <tr>\n",
              "      <td>2</td>\n",
              "      <td>0.735561</td>\n",
              "      <td>0.607955</td>\n",
              "      <td>0.875000</td>\n",
              "      <td>00:00</td>\n",
              "    </tr>\n",
              "    <tr>\n",
              "      <td>3</td>\n",
              "      <td>0.640123</td>\n",
              "      <td>0.564926</td>\n",
              "      <td>0.875000</td>\n",
              "      <td>00:00</td>\n",
              "    </tr>\n",
              "    <tr>\n",
              "      <td>4</td>\n",
              "      <td>0.557815</td>\n",
              "      <td>0.535773</td>\n",
              "      <td>0.875000</td>\n",
              "      <td>00:00</td>\n",
              "    </tr>\n",
              "    <tr>\n",
              "      <td>5</td>\n",
              "      <td>0.490223</td>\n",
              "      <td>0.515814</td>\n",
              "      <td>0.875000</td>\n",
              "      <td>00:00</td>\n",
              "    </tr>\n",
              "    <tr>\n",
              "      <td>6</td>\n",
              "      <td>0.440470</td>\n",
              "      <td>0.501209</td>\n",
              "      <td>0.875000</td>\n",
              "      <td>00:00</td>\n",
              "    </tr>\n",
              "    <tr>\n",
              "      <td>7</td>\n",
              "      <td>0.401167</td>\n",
              "      <td>0.490118</td>\n",
              "      <td>0.875000</td>\n",
              "      <td>00:00</td>\n",
              "    </tr>\n",
              "    <tr>\n",
              "      <td>8</td>\n",
              "      <td>0.367554</td>\n",
              "      <td>0.479512</td>\n",
              "      <td>0.875000</td>\n",
              "      <td>00:00</td>\n",
              "    </tr>\n",
              "    <tr>\n",
              "      <td>9</td>\n",
              "      <td>0.343414</td>\n",
              "      <td>0.471583</td>\n",
              "      <td>0.875000</td>\n",
              "      <td>00:00</td>\n",
              "    </tr>\n",
              "  </tbody>\n",
              "</table>"
            ],
            "text/plain": [
              "<IPython.core.display.HTML object>"
            ]
          },
          "metadata": {
            "tags": []
          }
        },
        {
          "output_type": "display_data",
          "data": {
            "text/html": [
              ""
            ],
            "text/plain": [
              "<IPython.core.display.HTML object>"
            ]
          },
          "metadata": {
            "tags": []
          }
        },
        {
          "output_type": "stream",
          "text": [
            "fold num 6\n"
          ],
          "name": "stdout"
        },
        {
          "output_type": "stream",
          "text": [
            "/usr/local/lib/python3.6/dist-packages/sklearn/linear_model/_logistic.py:940: ConvergenceWarning: lbfgs failed to converge (status=1):\n",
            "STOP: TOTAL NO. of ITERATIONS REACHED LIMIT.\n",
            "\n",
            "Increase the number of iterations (max_iter) or scale the data as shown in:\n",
            "    https://scikit-learn.org/stable/modules/preprocessing.html\n",
            "Please also refer to the documentation for alternative solver options:\n",
            "    https://scikit-learn.org/stable/modules/linear_model.html#logistic-regression\n",
            "  extra_warning_msg=_LOGISTIC_SOLVER_CONVERGENCE_MSG)\n"
          ],
          "name": "stderr"
        },
        {
          "output_type": "stream",
          "text": [
            "WARNING:tensorflow:11 out of the last 11 calls to <function Model.make_test_function.<locals>.test_function at 0x7fec208012f0> triggered tf.function retracing. Tracing is expensive and the excessive number of tracings could be due to (1) creating @tf.function repeatedly in a loop, (2) passing tensors with different shapes, (3) passing Python objects instead of tensors. For (1), please define your @tf.function outside of the loop. For (2), @tf.function has experimental_relax_shapes=True option that relaxes argument shapes that can avoid unnecessary retracing. For (3), please refer to https://www.tensorflow.org/tutorials/customization/performance#python_or_tensor_args and https://www.tensorflow.org/api_docs/python/tf/function for  more details.\n"
          ],
          "name": "stdout"
        },
        {
          "output_type": "display_data",
          "data": {
            "text/html": [
              "<table border=\"1\" class=\"dataframe\">\n",
              "  <thead>\n",
              "    <tr style=\"text-align: left;\">\n",
              "      <th>epoch</th>\n",
              "      <th>train_loss</th>\n",
              "      <th>valid_loss</th>\n",
              "      <th>accuracy</th>\n",
              "      <th>time</th>\n",
              "    </tr>\n",
              "  </thead>\n",
              "  <tbody>\n",
              "    <tr>\n",
              "      <td>0</td>\n",
              "      <td>0.633494</td>\n",
              "      <td>0.687524</td>\n",
              "      <td>0.500000</td>\n",
              "      <td>00:00</td>\n",
              "    </tr>\n",
              "    <tr>\n",
              "      <td>1</td>\n",
              "      <td>0.628188</td>\n",
              "      <td>0.667317</td>\n",
              "      <td>0.500000</td>\n",
              "      <td>00:00</td>\n",
              "    </tr>\n",
              "    <tr>\n",
              "      <td>2</td>\n",
              "      <td>0.573642</td>\n",
              "      <td>0.624011</td>\n",
              "      <td>0.875000</td>\n",
              "      <td>00:00</td>\n",
              "    </tr>\n",
              "    <tr>\n",
              "      <td>3</td>\n",
              "      <td>0.507296</td>\n",
              "      <td>0.575495</td>\n",
              "      <td>0.875000</td>\n",
              "      <td>00:00</td>\n",
              "    </tr>\n",
              "    <tr>\n",
              "      <td>4</td>\n",
              "      <td>0.448944</td>\n",
              "      <td>0.533182</td>\n",
              "      <td>0.875000</td>\n",
              "      <td>00:00</td>\n",
              "    </tr>\n",
              "    <tr>\n",
              "      <td>5</td>\n",
              "      <td>0.401257</td>\n",
              "      <td>0.500136</td>\n",
              "      <td>0.875000</td>\n",
              "      <td>00:00</td>\n",
              "    </tr>\n",
              "    <tr>\n",
              "      <td>6</td>\n",
              "      <td>0.362757</td>\n",
              "      <td>0.474319</td>\n",
              "      <td>0.875000</td>\n",
              "      <td>00:00</td>\n",
              "    </tr>\n",
              "    <tr>\n",
              "      <td>7</td>\n",
              "      <td>0.331335</td>\n",
              "      <td>0.453400</td>\n",
              "      <td>0.875000</td>\n",
              "      <td>00:00</td>\n",
              "    </tr>\n",
              "    <tr>\n",
              "      <td>8</td>\n",
              "      <td>0.302085</td>\n",
              "      <td>0.436885</td>\n",
              "      <td>0.875000</td>\n",
              "      <td>00:00</td>\n",
              "    </tr>\n",
              "    <tr>\n",
              "      <td>9</td>\n",
              "      <td>0.280072</td>\n",
              "      <td>0.424677</td>\n",
              "      <td>0.875000</td>\n",
              "      <td>00:00</td>\n",
              "    </tr>\n",
              "  </tbody>\n",
              "</table>"
            ],
            "text/plain": [
              "<IPython.core.display.HTML object>"
            ]
          },
          "metadata": {
            "tags": []
          }
        },
        {
          "output_type": "display_data",
          "data": {
            "text/html": [
              ""
            ],
            "text/plain": [
              "<IPython.core.display.HTML object>"
            ]
          },
          "metadata": {
            "tags": []
          }
        },
        {
          "output_type": "stream",
          "text": [
            "fold num 7\n"
          ],
          "name": "stdout"
        },
        {
          "output_type": "stream",
          "text": [
            "/usr/local/lib/python3.6/dist-packages/sklearn/linear_model/_logistic.py:940: ConvergenceWarning: lbfgs failed to converge (status=1):\n",
            "STOP: TOTAL NO. of ITERATIONS REACHED LIMIT.\n",
            "\n",
            "Increase the number of iterations (max_iter) or scale the data as shown in:\n",
            "    https://scikit-learn.org/stable/modules/preprocessing.html\n",
            "Please also refer to the documentation for alternative solver options:\n",
            "    https://scikit-learn.org/stable/modules/linear_model.html#logistic-regression\n",
            "  extra_warning_msg=_LOGISTIC_SOLVER_CONVERGENCE_MSG)\n"
          ],
          "name": "stderr"
        },
        {
          "output_type": "stream",
          "text": [
            "WARNING:tensorflow:11 out of the last 11 calls to <function Model.make_test_function.<locals>.test_function at 0x7fec23f761e0> triggered tf.function retracing. Tracing is expensive and the excessive number of tracings could be due to (1) creating @tf.function repeatedly in a loop, (2) passing tensors with different shapes, (3) passing Python objects instead of tensors. For (1), please define your @tf.function outside of the loop. For (2), @tf.function has experimental_relax_shapes=True option that relaxes argument shapes that can avoid unnecessary retracing. For (3), please refer to https://www.tensorflow.org/tutorials/customization/performance#python_or_tensor_args and https://www.tensorflow.org/api_docs/python/tf/function for  more details.\n"
          ],
          "name": "stdout"
        },
        {
          "output_type": "display_data",
          "data": {
            "text/html": [
              "<table border=\"1\" class=\"dataframe\">\n",
              "  <thead>\n",
              "    <tr style=\"text-align: left;\">\n",
              "      <th>epoch</th>\n",
              "      <th>train_loss</th>\n",
              "      <th>valid_loss</th>\n",
              "      <th>accuracy</th>\n",
              "      <th>time</th>\n",
              "    </tr>\n",
              "  </thead>\n",
              "  <tbody>\n",
              "    <tr>\n",
              "      <td>0</td>\n",
              "      <td>0.710757</td>\n",
              "      <td>0.673855</td>\n",
              "      <td>0.625000</td>\n",
              "      <td>00:00</td>\n",
              "    </tr>\n",
              "    <tr>\n",
              "      <td>1</td>\n",
              "      <td>0.690152</td>\n",
              "      <td>0.641046</td>\n",
              "      <td>0.750000</td>\n",
              "      <td>00:00</td>\n",
              "    </tr>\n",
              "    <tr>\n",
              "      <td>2</td>\n",
              "      <td>0.643563</td>\n",
              "      <td>0.573969</td>\n",
              "      <td>1.000000</td>\n",
              "      <td>00:00</td>\n",
              "    </tr>\n",
              "    <tr>\n",
              "      <td>3</td>\n",
              "      <td>0.563814</td>\n",
              "      <td>0.503573</td>\n",
              "      <td>1.000000</td>\n",
              "      <td>00:00</td>\n",
              "    </tr>\n",
              "    <tr>\n",
              "      <td>4</td>\n",
              "      <td>0.489343</td>\n",
              "      <td>0.441103</td>\n",
              "      <td>1.000000</td>\n",
              "      <td>00:00</td>\n",
              "    </tr>\n",
              "    <tr>\n",
              "      <td>5</td>\n",
              "      <td>0.442848</td>\n",
              "      <td>0.388870</td>\n",
              "      <td>1.000000</td>\n",
              "      <td>00:00</td>\n",
              "    </tr>\n",
              "    <tr>\n",
              "      <td>6</td>\n",
              "      <td>0.406777</td>\n",
              "      <td>0.346488</td>\n",
              "      <td>1.000000</td>\n",
              "      <td>00:00</td>\n",
              "    </tr>\n",
              "    <tr>\n",
              "      <td>7</td>\n",
              "      <td>0.374454</td>\n",
              "      <td>0.313499</td>\n",
              "      <td>1.000000</td>\n",
              "      <td>00:00</td>\n",
              "    </tr>\n",
              "    <tr>\n",
              "      <td>8</td>\n",
              "      <td>0.350101</td>\n",
              "      <td>0.286089</td>\n",
              "      <td>1.000000</td>\n",
              "      <td>00:00</td>\n",
              "    </tr>\n",
              "    <tr>\n",
              "      <td>9</td>\n",
              "      <td>0.328655</td>\n",
              "      <td>0.261076</td>\n",
              "      <td>1.000000</td>\n",
              "      <td>00:00</td>\n",
              "    </tr>\n",
              "  </tbody>\n",
              "</table>"
            ],
            "text/plain": [
              "<IPython.core.display.HTML object>"
            ]
          },
          "metadata": {
            "tags": []
          }
        },
        {
          "output_type": "display_data",
          "data": {
            "text/html": [
              ""
            ],
            "text/plain": [
              "<IPython.core.display.HTML object>"
            ]
          },
          "metadata": {
            "tags": []
          }
        },
        {
          "output_type": "stream",
          "text": [
            "fold num 8\n"
          ],
          "name": "stdout"
        },
        {
          "output_type": "stream",
          "text": [
            "/usr/local/lib/python3.6/dist-packages/sklearn/linear_model/_logistic.py:940: ConvergenceWarning: lbfgs failed to converge (status=1):\n",
            "STOP: TOTAL NO. of ITERATIONS REACHED LIMIT.\n",
            "\n",
            "Increase the number of iterations (max_iter) or scale the data as shown in:\n",
            "    https://scikit-learn.org/stable/modules/preprocessing.html\n",
            "Please also refer to the documentation for alternative solver options:\n",
            "    https://scikit-learn.org/stable/modules/linear_model.html#logistic-regression\n",
            "  extra_warning_msg=_LOGISTIC_SOLVER_CONVERGENCE_MSG)\n"
          ],
          "name": "stderr"
        },
        {
          "output_type": "stream",
          "text": [
            "WARNING:tensorflow:11 out of the last 11 calls to <function Model.make_test_function.<locals>.test_function at 0x7fec21c6f950> triggered tf.function retracing. Tracing is expensive and the excessive number of tracings could be due to (1) creating @tf.function repeatedly in a loop, (2) passing tensors with different shapes, (3) passing Python objects instead of tensors. For (1), please define your @tf.function outside of the loop. For (2), @tf.function has experimental_relax_shapes=True option that relaxes argument shapes that can avoid unnecessary retracing. For (3), please refer to https://www.tensorflow.org/tutorials/customization/performance#python_or_tensor_args and https://www.tensorflow.org/api_docs/python/tf/function for  more details.\n"
          ],
          "name": "stdout"
        },
        {
          "output_type": "display_data",
          "data": {
            "text/html": [
              "<table border=\"1\" class=\"dataframe\">\n",
              "  <thead>\n",
              "    <tr style=\"text-align: left;\">\n",
              "      <th>epoch</th>\n",
              "      <th>train_loss</th>\n",
              "      <th>valid_loss</th>\n",
              "      <th>accuracy</th>\n",
              "      <th>time</th>\n",
              "    </tr>\n",
              "  </thead>\n",
              "  <tbody>\n",
              "    <tr>\n",
              "      <td>0</td>\n",
              "      <td>0.657711</td>\n",
              "      <td>0.714820</td>\n",
              "      <td>0.375000</td>\n",
              "      <td>00:00</td>\n",
              "    </tr>\n",
              "    <tr>\n",
              "      <td>1</td>\n",
              "      <td>0.624958</td>\n",
              "      <td>0.713939</td>\n",
              "      <td>0.250000</td>\n",
              "      <td>00:00</td>\n",
              "    </tr>\n",
              "    <tr>\n",
              "      <td>2</td>\n",
              "      <td>0.574650</td>\n",
              "      <td>0.711850</td>\n",
              "      <td>0.500000</td>\n",
              "      <td>00:00</td>\n",
              "    </tr>\n",
              "    <tr>\n",
              "      <td>3</td>\n",
              "      <td>0.509827</td>\n",
              "      <td>0.710750</td>\n",
              "      <td>0.500000</td>\n",
              "      <td>00:00</td>\n",
              "    </tr>\n",
              "    <tr>\n",
              "      <td>4</td>\n",
              "      <td>0.446886</td>\n",
              "      <td>0.708419</td>\n",
              "      <td>0.500000</td>\n",
              "      <td>00:00</td>\n",
              "    </tr>\n",
              "    <tr>\n",
              "      <td>5</td>\n",
              "      <td>0.401683</td>\n",
              "      <td>0.704156</td>\n",
              "      <td>0.500000</td>\n",
              "      <td>00:00</td>\n",
              "    </tr>\n",
              "    <tr>\n",
              "      <td>6</td>\n",
              "      <td>0.362533</td>\n",
              "      <td>0.700283</td>\n",
              "      <td>0.500000</td>\n",
              "      <td>00:00</td>\n",
              "    </tr>\n",
              "    <tr>\n",
              "      <td>7</td>\n",
              "      <td>0.328866</td>\n",
              "      <td>0.698371</td>\n",
              "      <td>0.500000</td>\n",
              "      <td>00:00</td>\n",
              "    </tr>\n",
              "    <tr>\n",
              "      <td>8</td>\n",
              "      <td>0.303913</td>\n",
              "      <td>0.699861</td>\n",
              "      <td>0.500000</td>\n",
              "      <td>00:00</td>\n",
              "    </tr>\n",
              "    <tr>\n",
              "      <td>9</td>\n",
              "      <td>0.285539</td>\n",
              "      <td>0.703726</td>\n",
              "      <td>0.500000</td>\n",
              "      <td>00:00</td>\n",
              "    </tr>\n",
              "  </tbody>\n",
              "</table>"
            ],
            "text/plain": [
              "<IPython.core.display.HTML object>"
            ]
          },
          "metadata": {
            "tags": []
          }
        },
        {
          "output_type": "display_data",
          "data": {
            "text/html": [
              ""
            ],
            "text/plain": [
              "<IPython.core.display.HTML object>"
            ]
          },
          "metadata": {
            "tags": []
          }
        },
        {
          "output_type": "stream",
          "text": [
            "fold num 9\n"
          ],
          "name": "stdout"
        },
        {
          "output_type": "stream",
          "text": [
            "/usr/local/lib/python3.6/dist-packages/sklearn/linear_model/_logistic.py:940: ConvergenceWarning: lbfgs failed to converge (status=1):\n",
            "STOP: TOTAL NO. of ITERATIONS REACHED LIMIT.\n",
            "\n",
            "Increase the number of iterations (max_iter) or scale the data as shown in:\n",
            "    https://scikit-learn.org/stable/modules/preprocessing.html\n",
            "Please also refer to the documentation for alternative solver options:\n",
            "    https://scikit-learn.org/stable/modules/linear_model.html#logistic-regression\n",
            "  extra_warning_msg=_LOGISTIC_SOLVER_CONVERGENCE_MSG)\n"
          ],
          "name": "stderr"
        },
        {
          "output_type": "stream",
          "text": [
            "WARNING:tensorflow:11 out of the last 11 calls to <function Model.make_test_function.<locals>.test_function at 0x7fec257f1e18> triggered tf.function retracing. Tracing is expensive and the excessive number of tracings could be due to (1) creating @tf.function repeatedly in a loop, (2) passing tensors with different shapes, (3) passing Python objects instead of tensors. For (1), please define your @tf.function outside of the loop. For (2), @tf.function has experimental_relax_shapes=True option that relaxes argument shapes that can avoid unnecessary retracing. For (3), please refer to https://www.tensorflow.org/tutorials/customization/performance#python_or_tensor_args and https://www.tensorflow.org/api_docs/python/tf/function for  more details.\n"
          ],
          "name": "stdout"
        },
        {
          "output_type": "display_data",
          "data": {
            "text/html": [
              "<table border=\"1\" class=\"dataframe\">\n",
              "  <thead>\n",
              "    <tr style=\"text-align: left;\">\n",
              "      <th>epoch</th>\n",
              "      <th>train_loss</th>\n",
              "      <th>valid_loss</th>\n",
              "      <th>accuracy</th>\n",
              "      <th>time</th>\n",
              "    </tr>\n",
              "  </thead>\n",
              "  <tbody>\n",
              "    <tr>\n",
              "      <td>0</td>\n",
              "      <td>0.576706</td>\n",
              "      <td>0.662447</td>\n",
              "      <td>0.750000</td>\n",
              "      <td>00:00</td>\n",
              "    </tr>\n",
              "    <tr>\n",
              "      <td>1</td>\n",
              "      <td>0.564742</td>\n",
              "      <td>0.647446</td>\n",
              "      <td>0.750000</td>\n",
              "      <td>00:00</td>\n",
              "    </tr>\n",
              "    <tr>\n",
              "      <td>2</td>\n",
              "      <td>0.514644</td>\n",
              "      <td>0.617310</td>\n",
              "      <td>0.750000</td>\n",
              "      <td>00:00</td>\n",
              "    </tr>\n",
              "    <tr>\n",
              "      <td>3</td>\n",
              "      <td>0.454404</td>\n",
              "      <td>0.581426</td>\n",
              "      <td>0.750000</td>\n",
              "      <td>00:00</td>\n",
              "    </tr>\n",
              "    <tr>\n",
              "      <td>4</td>\n",
              "      <td>0.395180</td>\n",
              "      <td>0.544280</td>\n",
              "      <td>0.875000</td>\n",
              "      <td>00:00</td>\n",
              "    </tr>\n",
              "    <tr>\n",
              "      <td>5</td>\n",
              "      <td>0.356811</td>\n",
              "      <td>0.509347</td>\n",
              "      <td>0.875000</td>\n",
              "      <td>00:00</td>\n",
              "    </tr>\n",
              "    <tr>\n",
              "      <td>6</td>\n",
              "      <td>0.327881</td>\n",
              "      <td>0.477086</td>\n",
              "      <td>0.875000</td>\n",
              "      <td>00:00</td>\n",
              "    </tr>\n",
              "    <tr>\n",
              "      <td>7</td>\n",
              "      <td>0.303935</td>\n",
              "      <td>0.448383</td>\n",
              "      <td>0.875000</td>\n",
              "      <td>00:00</td>\n",
              "    </tr>\n",
              "    <tr>\n",
              "      <td>8</td>\n",
              "      <td>0.283622</td>\n",
              "      <td>0.424917</td>\n",
              "      <td>0.875000</td>\n",
              "      <td>00:00</td>\n",
              "    </tr>\n",
              "    <tr>\n",
              "      <td>9</td>\n",
              "      <td>0.266536</td>\n",
              "      <td>0.405914</td>\n",
              "      <td>0.875000</td>\n",
              "      <td>00:00</td>\n",
              "    </tr>\n",
              "  </tbody>\n",
              "</table>"
            ],
            "text/plain": [
              "<IPython.core.display.HTML object>"
            ]
          },
          "metadata": {
            "tags": []
          }
        },
        {
          "output_type": "display_data",
          "data": {
            "text/html": [
              ""
            ],
            "text/plain": [
              "<IPython.core.display.HTML object>"
            ]
          },
          "metadata": {
            "tags": []
          }
        },
        {
          "output_type": "stream",
          "text": [
            "fold num 10\n"
          ],
          "name": "stdout"
        },
        {
          "output_type": "stream",
          "text": [
            "/usr/local/lib/python3.6/dist-packages/sklearn/linear_model/_logistic.py:940: ConvergenceWarning: lbfgs failed to converge (status=1):\n",
            "STOP: TOTAL NO. of ITERATIONS REACHED LIMIT.\n",
            "\n",
            "Increase the number of iterations (max_iter) or scale the data as shown in:\n",
            "    https://scikit-learn.org/stable/modules/preprocessing.html\n",
            "Please also refer to the documentation for alternative solver options:\n",
            "    https://scikit-learn.org/stable/modules/linear_model.html#logistic-regression\n",
            "  extra_warning_msg=_LOGISTIC_SOLVER_CONVERGENCE_MSG)\n"
          ],
          "name": "stderr"
        },
        {
          "output_type": "stream",
          "text": [
            "WARNING:tensorflow:11 out of the last 11 calls to <function Model.make_test_function.<locals>.test_function at 0x7fec25838598> triggered tf.function retracing. Tracing is expensive and the excessive number of tracings could be due to (1) creating @tf.function repeatedly in a loop, (2) passing tensors with different shapes, (3) passing Python objects instead of tensors. For (1), please define your @tf.function outside of the loop. For (2), @tf.function has experimental_relax_shapes=True option that relaxes argument shapes that can avoid unnecessary retracing. For (3), please refer to https://www.tensorflow.org/tutorials/customization/performance#python_or_tensor_args and https://www.tensorflow.org/api_docs/python/tf/function for  more details.\n"
          ],
          "name": "stdout"
        },
        {
          "output_type": "display_data",
          "data": {
            "text/html": [
              "<table border=\"1\" class=\"dataframe\">\n",
              "  <thead>\n",
              "    <tr style=\"text-align: left;\">\n",
              "      <th>epoch</th>\n",
              "      <th>train_loss</th>\n",
              "      <th>valid_loss</th>\n",
              "      <th>accuracy</th>\n",
              "      <th>time</th>\n",
              "    </tr>\n",
              "  </thead>\n",
              "  <tbody>\n",
              "    <tr>\n",
              "      <td>0</td>\n",
              "      <td>0.830582</td>\n",
              "      <td>0.672954</td>\n",
              "      <td>0.625000</td>\n",
              "      <td>00:00</td>\n",
              "    </tr>\n",
              "    <tr>\n",
              "      <td>1</td>\n",
              "      <td>0.869137</td>\n",
              "      <td>0.667157</td>\n",
              "      <td>0.625000</td>\n",
              "      <td>00:00</td>\n",
              "    </tr>\n",
              "    <tr>\n",
              "      <td>2</td>\n",
              "      <td>0.818460</td>\n",
              "      <td>0.660723</td>\n",
              "      <td>0.750000</td>\n",
              "      <td>00:00</td>\n",
              "    </tr>\n",
              "    <tr>\n",
              "      <td>3</td>\n",
              "      <td>0.721832</td>\n",
              "      <td>0.659414</td>\n",
              "      <td>0.750000</td>\n",
              "      <td>00:00</td>\n",
              "    </tr>\n",
              "    <tr>\n",
              "      <td>4</td>\n",
              "      <td>0.626003</td>\n",
              "      <td>0.659431</td>\n",
              "      <td>0.750000</td>\n",
              "      <td>00:00</td>\n",
              "    </tr>\n",
              "    <tr>\n",
              "      <td>5</td>\n",
              "      <td>0.557452</td>\n",
              "      <td>0.653232</td>\n",
              "      <td>0.750000</td>\n",
              "      <td>00:00</td>\n",
              "    </tr>\n",
              "    <tr>\n",
              "      <td>6</td>\n",
              "      <td>0.502395</td>\n",
              "      <td>0.644923</td>\n",
              "      <td>0.750000</td>\n",
              "      <td>00:00</td>\n",
              "    </tr>\n",
              "    <tr>\n",
              "      <td>7</td>\n",
              "      <td>0.459387</td>\n",
              "      <td>0.635146</td>\n",
              "      <td>0.750000</td>\n",
              "      <td>00:00</td>\n",
              "    </tr>\n",
              "    <tr>\n",
              "      <td>8</td>\n",
              "      <td>0.424484</td>\n",
              "      <td>0.628392</td>\n",
              "      <td>0.750000</td>\n",
              "      <td>00:00</td>\n",
              "    </tr>\n",
              "    <tr>\n",
              "      <td>9</td>\n",
              "      <td>0.395135</td>\n",
              "      <td>0.624691</td>\n",
              "      <td>0.750000</td>\n",
              "      <td>00:00</td>\n",
              "    </tr>\n",
              "  </tbody>\n",
              "</table>"
            ],
            "text/plain": [
              "<IPython.core.display.HTML object>"
            ]
          },
          "metadata": {
            "tags": []
          }
        },
        {
          "output_type": "display_data",
          "data": {
            "text/html": [
              ""
            ],
            "text/plain": [
              "<IPython.core.display.HTML object>"
            ]
          },
          "metadata": {
            "tags": []
          }
        }
      ]
    },
    {
      "cell_type": "code",
      "metadata": {
        "id": "U7EiIle-bNI3",
        "colab_type": "code",
        "colab": {
          "base_uri": "https://localhost:8080/",
          "height": 225
        },
        "outputId": "61409bb0-faf5-48b1-b4c3-62615e25bb40"
      },
      "source": [
        "mm.printMeasures()"
      ],
      "execution_count": 26,
      "outputs": [
        {
          "output_type": "stream",
          "text": [
            "model     acc        \n",
            "--------------\n",
            "rf        91.25±11.25\n",
            "dt        86.25±10.38\n",
            "knn       76.25±11.79\n",
            "svm       76.25±11.79\n",
            "lr        77.50±10.90\n",
            "lda       73.75±16.25\n",
            "ab        93.75±8.39\n",
            "nb        76.25±11.79\n",
            "keras     80.00±8.29\n",
            "fastai    81.25±12.81\n"
          ],
          "name": "stdout"
        }
      ]
    }
  ]
}